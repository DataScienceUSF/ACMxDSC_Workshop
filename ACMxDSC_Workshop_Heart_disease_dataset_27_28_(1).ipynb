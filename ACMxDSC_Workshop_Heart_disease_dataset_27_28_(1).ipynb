{
  "metadata": {
    "kernelspec": {
      "language": "python",
      "display_name": "Python 3",
      "name": "python3"
    },
    "language_info": {
      "pygments_lexer": "ipython3",
      "nbconvert_exporter": "python",
      "version": "3.6.4",
      "file_extension": ".py",
      "codemirror_mode": {
        "name": "ipython",
        "version": 3
      },
      "name": "python",
      "mimetype": "text/x-python"
    },
    "kaggle": {
      "accelerator": "none",
      "dataSources": [
        {
          "sourceId": 2603715,
          "sourceType": "datasetVersion",
          "datasetId": 1582403
        }
      ],
      "dockerImageVersionId": 30213,
      "isInternetEnabled": true,
      "language": "python",
      "sourceType": "notebook",
      "isGpuEnabled": false
    },
    "colab": {
      "provenance": [],
      "collapsed_sections": [
        "RJEqWkUZiodw",
        "OLPBlb7aiody",
        "ZQETovDvfrpi",
        "DJ09ImnBiod1",
        "mF699BLTioeD"
      ],
      "include_colab_link": true
    }
  },
  "nbformat_minor": 0,
  "nbformat": 4,
  "cells": [
    {
      "cell_type": "markdown",
      "metadata": {
        "id": "view-in-github",
        "colab_type": "text"
      },
      "source": [
        "<a href=\"https://colab.research.google.com/github/DataScienceUSF/ACMxDSC_Workshop/blob/main/ACMxDSC_Workshop_Heart_disease_dataset_27_28_(1).ipynb\" target=\"_parent\"><img src=\"https://colab.research.google.com/assets/colab-badge.svg\" alt=\"Open In Colab\"/></a>"
      ]
    },
    {
      "cell_type": "markdown",
      "source": [
        "# **Heart Failure Prediction**"
      ],
      "metadata": {
        "id": "RJEqWkUZiodw"
      }
    },
    {
      "cell_type": "markdown",
      "source": [
        "\n",
        "\n",
        "### Aim :\n",
        "- To classify / predict whether a patient is prone to heart failure depending on multiple attributes.\n",
        "- It is a **binary classification** with multiple numerical and categorical features.\n",
        "\n",
        "### <center>Dataset Attributes</center>\n",
        "    \n",
        "- **Age** : age of the patient [years]\n",
        "- **Sex** : sex of the patient [M: Male, F: Female]\n",
        "- **ChestPainType** : chest pain type [TA: Typical Angina, ATA: Atypical Angina, NAP: Non-Anginal Pain, ASY: Asymptomatic]\n",
        "- **RestingBP** : resting blood pressure [mm Hg]\n",
        "- **Cholesterol** : serum cholesterol [mm/dl]\n",
        "- **FastingBS** : fasting blood sugar [1: if FastingBS > 120 mg/dl, 0: otherwise]\n",
        "- **RestingECG** : resting electrocardiogram results [Normal: Normal, ST: having ST-T wave abnormality (T wave inversions and/or ST elevation or depression of > 0.05 mV), LVH: showing probable or definite left ventricular hypertrophy by Estes' criteria]\n",
        "- **MaxHR** : maximum heart rate achieved [Numeric value between 60 and 202]\n",
        "- **ExerciseAngina** : exercise-induced angina [Y: Yes, N: No]\n",
        "- **Oldpeak** : oldpeak = ST [Numeric value measured in depression]\n",
        "- **ST_Slope** : the slope of the peak exercise ST segment [Up: upsloping, Flat: flat, Down: downsloping]\n",
        "- **HeartDisease** : output class [1: heart disease, 0: Normal]"
      ],
      "metadata": {
        "id": "d-fawFB_iodx"
      }
    },
    {
      "cell_type": "markdown",
      "source": [
        "# **Data Collection**"
      ],
      "metadata": {
        "id": "OLPBlb7aiody"
      }
    },
    {
      "cell_type": "markdown",
      "source": [
        "### Import the Necessary Libraries :"
      ],
      "metadata": {
        "id": "3-P9HMAHiody"
      }
    },
    {
      "cell_type": "code",
      "source": [
        "import pandas as pd\n",
        "import numpy as np\n",
        "import matplotlib.pyplot as plt\n",
        "%matplotlib inline\n",
        "import seaborn as sns"
      ],
      "metadata": {
        "execution": {
          "iopub.status.busy": "2022-10-25T12:54:47.718109Z",
          "iopub.execute_input": "2022-10-25T12:54:47.720331Z",
          "iopub.status.idle": "2022-10-25T12:54:48.502285Z",
          "shell.execute_reply.started": "2022-10-25T12:54:47.719992Z",
          "shell.execute_reply": "2022-10-25T12:54:48.50099Z"
        },
        "trusted": true,
        "id": "_rSdbpriiody"
      },
      "execution_count": null,
      "outputs": []
    },
    {
      "cell_type": "code",
      "source": [
        "data = pd.read_csv('heart.csv')\n",
        "data.head()"
      ],
      "metadata": {
        "scrolled": true,
        "execution": {
          "iopub.status.busy": "2022-10-25T12:54:48.50462Z",
          "iopub.execute_input": "2022-10-25T12:54:48.505025Z",
          "iopub.status.idle": "2022-10-25T12:54:48.557159Z",
          "shell.execute_reply.started": "2022-10-25T12:54:48.504988Z",
          "shell.execute_reply": "2022-10-25T12:54:48.555811Z"
        },
        "trusted": true,
        "id": "y-iHyrqsiodz"
      },
      "execution_count": null,
      "outputs": []
    },
    {
      "cell_type": "markdown",
      "source": [
        "### Data Info :"
      ],
      "metadata": {
        "id": "lX27Vbqhiodz"
      }
    },
    {
      "cell_type": "code",
      "source": [
        "data.shape"
      ],
      "metadata": {
        "execution": {
          "iopub.status.busy": "2022-10-25T12:54:48.558866Z",
          "iopub.execute_input": "2022-10-25T12:54:48.559274Z",
          "iopub.status.idle": "2022-10-25T12:54:48.568229Z",
          "shell.execute_reply.started": "2022-10-25T12:54:48.559238Z",
          "shell.execute_reply": "2022-10-25T12:54:48.566661Z"
        },
        "trusted": true,
        "colab": {
          "base_uri": "https://localhost:8080/"
        },
        "id": "lPTC1aNRiodz",
        "outputId": "cc5d2500-dae2-45e0-f53e-804cee8978db"
      },
      "execution_count": null,
      "outputs": [
        {
          "output_type": "execute_result",
          "data": {
            "text/plain": [
              "(918, 12)"
            ]
          },
          "metadata": {},
          "execution_count": 3
        }
      ]
    },
    {
      "cell_type": "code",
      "source": [
        "data.columns"
      ],
      "metadata": {
        "execution": {
          "iopub.status.busy": "2022-10-25T12:54:48.570154Z",
          "iopub.execute_input": "2022-10-25T12:54:48.570535Z",
          "iopub.status.idle": "2022-10-25T12:54:48.580511Z",
          "shell.execute_reply.started": "2022-10-25T12:54:48.5705Z",
          "shell.execute_reply": "2022-10-25T12:54:48.579178Z"
        },
        "trusted": true,
        "id": "IQs5QJTgiodz"
      },
      "execution_count": null,
      "outputs": []
    },
    {
      "cell_type": "code",
      "source": [
        "data.info()"
      ],
      "metadata": {
        "execution": {
          "iopub.status.busy": "2022-10-25T12:54:48.58353Z",
          "iopub.execute_input": "2022-10-25T12:54:48.584363Z",
          "iopub.status.idle": "2022-10-25T12:54:48.612571Z",
          "shell.execute_reply.started": "2022-10-25T12:54:48.584323Z",
          "shell.execute_reply": "2022-10-25T12:54:48.611623Z"
        },
        "trusted": true,
        "id": "38wCzJhyiodz"
      },
      "execution_count": null,
      "outputs": []
    },
    {
      "cell_type": "code",
      "source": [
        "data.isnull().sum()"
      ],
      "metadata": {
        "id": "Tt4qW8-r3ibJ"
      },
      "execution_count": null,
      "outputs": []
    },
    {
      "cell_type": "code",
      "source": [
        "data.head()"
      ],
      "metadata": {
        "id": "PsOnKJgn5D9_"
      },
      "execution_count": null,
      "outputs": []
    },
    {
      "cell_type": "markdown",
      "source": [
        "# Dealing with Misssing Values in the Dataset:\n",
        "There are two ways:\n",
        "1. **Remove the missing values in the dataset**: If the missing values are a small proportion of your dataset, you may choose to remove the rows or columns containing them. This can be done using the dropna() function in pandas.\n",
        "2. **Imputing the dataset**: Replace missing values with a suitable estimate. Common methods include:\n",
        "  * Mean/Median Imputation: Replace missing values with the mean or\n",
        "median of the column.\n",
        "  * Mode Imputation: Replace missing values with the mode (most frequent value) of the column.\n",
        "  * Custom Imputation: Use domain knowledge or other statistical methods to impute missing values.\n",
        "\n",
        "\n",
        "\n",
        "\n"
      ],
      "metadata": {
        "id": "ZQETovDvfrpi"
      }
    },
    {
      "cell_type": "code",
      "source": [
        "#Replacing the missing values into the mean of the dataset.\n",
        "data['Age'] = data['Age'].fillna(data['Age'].mean()) # fill for train DF\n",
        "data['Cholesterol'] = data['Cholesterol'].fillna(data['Cholesterol'].mean())"
      ],
      "metadata": {
        "id": "vLBOUN2d6KtT"
      },
      "execution_count": null,
      "outputs": []
    },
    {
      "cell_type": "code",
      "source": [
        "#Finding the number of O's and number of 1's\n",
        "pd.DataFrame(data['ChestPainType']).value_counts().plot(kind = 'bar')"
      ],
      "metadata": {
        "id": "4jbrgYYqvtoC"
      },
      "execution_count": null,
      "outputs": []
    },
    {
      "cell_type": "code",
      "source": [
        "#Filling the ChestPainType parameter with the most common value for the parameter.\n",
        "data['ChestPainType']=data['ChestPainType'].fillna('ASY')"
      ],
      "metadata": {
        "id": "5lpcOizqv9oa"
      },
      "execution_count": null,
      "outputs": []
    },
    {
      "cell_type": "code",
      "source": [
        "data = data.dropna()"
      ],
      "metadata": {
        "id": "waopE5uVwk35"
      },
      "execution_count": null,
      "outputs": []
    },
    {
      "cell_type": "code",
      "source": [
        "data.shape"
      ],
      "metadata": {
        "id": "4ObHR0cqxlxf"
      },
      "execution_count": null,
      "outputs": []
    },
    {
      "cell_type": "code",
      "source": [
        "#Check the NAs in dataset for Age\n",
        "data.isnull().sum()"
      ],
      "metadata": {
        "id": "THM2hG176SGu"
      },
      "execution_count": null,
      "outputs": []
    },
    {
      "cell_type": "code",
      "source": [
        "data.describe().T"
      ],
      "metadata": {
        "execution": {
          "iopub.status.busy": "2022-10-25T12:54:48.933194Z",
          "iopub.execute_input": "2022-10-25T12:54:48.93453Z",
          "iopub.status.idle": "2022-10-25T12:54:48.975531Z",
          "shell.execute_reply.started": "2022-10-25T12:54:48.93447Z",
          "shell.execute_reply": "2022-10-25T12:54:48.973213Z"
        },
        "trusted": true,
        "id": "7bNRlDT0iodz"
      },
      "execution_count": null,
      "outputs": []
    },
    {
      "cell_type": "markdown",
      "source": [
        "# **Exploratory Data Analysis**"
      ],
      "metadata": {
        "id": "DJ09ImnBiod1"
      }
    },
    {
      "cell_type": "markdown",
      "source": [
        "### Dividing features into Numerical and Categorical :"
      ],
      "metadata": {
        "id": "lIiDWxsmiod1"
      }
    },
    {
      "cell_type": "code",
      "source": [
        "col = list(data.columns)\n",
        "categorical_features = []\n",
        "numerical_features = []\n",
        "for i in col:\n",
        "    if len(data[i].unique()) > 6:\n",
        "        numerical_features.append(i)\n",
        "    else:\n",
        "        categorical_features.append(i)\n",
        "\n",
        "print('Categorical Features :',*categorical_features)\n",
        "print('Numerical Features :',*numerical_features)"
      ],
      "metadata": {
        "execution": {
          "iopub.status.busy": "2022-10-25T12:54:49.31956Z",
          "iopub.execute_input": "2022-10-25T12:54:49.321016Z",
          "iopub.status.idle": "2022-10-25T12:54:49.335379Z",
          "shell.execute_reply.started": "2022-10-25T12:54:49.320952Z",
          "shell.execute_reply": "2022-10-25T12:54:49.334002Z"
        },
        "trusted": true,
        "id": "qvd4Y8vEiod1"
      },
      "execution_count": null,
      "outputs": []
    },
    {
      "cell_type": "markdown",
      "source": [
        "- Here, categorical features are defined if the the attribute has less than 6 unique elements else it is a numerical feature.\n",
        "- Typical approach for this division of features can also be based on the datatypes of the elements of the respective attribute.\n",
        "\n",
        "**Eg :** datatype = integer, attribute = numerical feature ; datatype = string, attribute = categorical feature\n",
        "\n",
        "- For this dataset, as the number of features are less, we can manually check the dataset as well."
      ],
      "metadata": {
        "id": "Q-GiuHbuiod1"
      }
    },
    {
      "cell_type": "markdown",
      "source": [
        "### Categorical Features :"
      ],
      "metadata": {
        "id": "0U7bxOoRiod1"
      }
    },
    {
      "cell_type": "code",
      "source": [
        "data.head()"
      ],
      "metadata": {
        "id": "XuGA1vcpL2fD"
      },
      "execution_count": null,
      "outputs": []
    },
    {
      "cell_type": "code",
      "source": [
        "pd.DataFrame(data['RestingECG']).value_counts().plot(kind = 'bar')"
      ],
      "metadata": {
        "id": "keBbeVc3yy45"
      },
      "execution_count": null,
      "outputs": []
    },
    {
      "cell_type": "code",
      "source": [
        "from sklearn.preprocessing import LabelEncoder\n",
        "le = LabelEncoder()\n",
        "data_transformed = data.copy(deep = True)\n",
        "\n",
        "data_transformed['Sex'] = le.fit_transform(data_transformed['Sex'])\n",
        "data_transformed['ChestPainType'] = le.fit_transform(data_transformed['ChestPainType'])\n",
        "data_transformed['RestingECG'] = le.fit_transform(data_transformed['RestingECG'])\n",
        "data_transformed['ExerciseAngina'] = le.fit_transform(data_transformed['ExerciseAngina'])\n",
        "data_transformed['ST_Slope'] = le.fit_transform(data_transformed['ST_Slope'])\n"
      ],
      "metadata": {
        "execution": {
          "iopub.status.busy": "2022-10-25T12:54:49.336814Z",
          "iopub.execute_input": "2022-10-25T12:54:49.337315Z",
          "iopub.status.idle": "2022-10-25T12:54:49.424038Z",
          "shell.execute_reply.started": "2022-10-25T12:54:49.337262Z",
          "shell.execute_reply": "2022-10-25T12:54:49.421702Z"
        },
        "trusted": true,
        "id": "smWx_JJciod1"
      },
      "execution_count": null,
      "outputs": []
    },
    {
      "cell_type": "markdown",
      "source": [
        "- Creating a deep copy of the orginal dataset and label encoding the text data of the categorical features.\n",
        "- Modifications in the original dataset will not be highlighted in this deep copy.\n",
        "- Hence, we use this deep copy of dataset that has all the features converted into numerical values for visualization & modeling purposes."
      ],
      "metadata": {
        "id": "-Ny7b4_Qiod2"
      }
    },
    {
      "cell_type": "code",
      "source": [
        "data_transformed.head()"
      ],
      "metadata": {
        "id": "xx6nN5OUygFE"
      },
      "execution_count": null,
      "outputs": []
    },
    {
      "cell_type": "markdown",
      "source": [
        "#### Distribution of Categorical Features :"
      ],
      "metadata": {
        "id": "hdTWPTfdiod2"
      }
    },
    {
      "cell_type": "code",
      "source": [
        "fig, ax = plt.subplots(nrows = 3,ncols = 2,figsize = (10,15))\n",
        "for i in range(len(categorical_features) - 1):\n",
        "\n",
        "    plt.subplot(3,2,i+1)\n",
        "    sns.distplot(data_transformed[categorical_features[i]],kde_kws = {'bw' : 1});\n",
        "    title = 'Distribution : ' + categorical_features[i]\n",
        "    plt.title(title)\n",
        "\n",
        "plt.figure(figsize = (4.75,4.55))\n",
        "sns.distplot(data_transformed[categorical_features[len(categorical_features) - 1]],kde_kws = {'bw' : 1})\n",
        "title = 'Distribution : ' + categorical_features[len(categorical_features) - 1]\n",
        "plt.title(title);"
      ],
      "metadata": {
        "execution": {
          "iopub.status.busy": "2022-10-25T12:54:49.425955Z",
          "iopub.execute_input": "2022-10-25T12:54:49.426662Z",
          "iopub.status.idle": "2022-10-25T12:54:50.66444Z",
          "shell.execute_reply.started": "2022-10-25T12:54:49.426575Z",
          "shell.execute_reply": "2022-10-25T12:54:50.662756Z"
        },
        "trusted": true,
        "id": "zw2DbzWViod2"
      },
      "execution_count": null,
      "outputs": []
    },
    {
      "cell_type": "markdown",
      "source": [
        "- All the categorical features are near about **Normally Distributed**."
      ],
      "metadata": {
        "id": "1jYAOFvSiod2"
      }
    },
    {
      "cell_type": "code",
      "source": [
        "output_counts = data_transformed['HeartDisease'].value_counts()\n",
        "\n",
        "# Plotting the pie chart using Seaborn\n",
        "plt.figure(figsize=(3, 3))\n",
        "sns.set(style=\"whitegrid\")\n",
        "sns.color_palette(\"pastel\")\n",
        "sns.set_palette(\"pastel\")\n",
        "plt.pie(output_counts, labels=output_counts.index, autopct='%1.1f%%', startangle=140)\n",
        "plt.title('Distribution of Output Variable')\n",
        "plt.show()"
      ],
      "metadata": {
        "id": "3U7ZyaKkztVb"
      },
      "execution_count": null,
      "outputs": []
    },
    {
      "cell_type": "code",
      "source": [
        "pd.DataFrame(data['HeartDisease']).value_counts().plot(kind = 'bar')"
      ],
      "metadata": {
        "id": "SyvhzwDW0s94"
      },
      "execution_count": null,
      "outputs": []
    },
    {
      "cell_type": "markdown",
      "source": [
        "### Numerical Features :\n",
        "\n",
        "#### Distribution of Numerical Features :"
      ],
      "metadata": {
        "id": "e7Hr5P7riod2"
      }
    },
    {
      "cell_type": "code",
      "source": [
        "fig, ax = plt.subplots(nrows = 2,ncols = 2,figsize = (9,9))\n",
        "for i in range(len(numerical_features) - 1):\n",
        "    plt.subplot(2,2,i+1)\n",
        "    sns.distplot(data[numerical_features[i]])\n",
        "    title = 'Distribution : ' + numerical_features[i]\n",
        "    plt.title(title)\n",
        "plt.show()\n",
        "\n",
        "plt.figure(figsize = (4.75,4.55))\n",
        "sns.distplot(data_transformed[numerical_features[len(numerical_features) - 1]],kde_kws = {'bw' : 1})\n",
        "title = 'Distribution : ' + numerical_features[len(numerical_features) - 1]\n",
        "plt.title(title);"
      ],
      "metadata": {
        "execution": {
          "iopub.status.busy": "2022-10-25T12:54:50.666083Z",
          "iopub.execute_input": "2022-10-25T12:54:50.6665Z",
          "iopub.status.idle": "2022-10-25T12:54:51.810244Z",
          "shell.execute_reply.started": "2022-10-25T12:54:50.666464Z",
          "shell.execute_reply": "2022-10-25T12:54:51.808993Z"
        },
        "trusted": true,
        "id": "_MXfuCAjiod2"
      },
      "execution_count": null,
      "outputs": []
    },
    {
      "cell_type": "markdown",
      "source": [
        "- **Oldpeak's** data distribution is rightly skewed.\n",
        "- **Cholestrol** has a bidmodal data distribution."
      ],
      "metadata": {
        "id": "ILoBFPAdiod2"
      }
    },
    {
      "cell_type": "markdown",
      "source": [
        "# **Feature Engineering**"
      ],
      "metadata": {
        "id": "mF699BLTioeD"
      }
    },
    {
      "cell_type": "markdown",
      "source": [
        "### Data Scaling :"
      ],
      "metadata": {
        "id": "x4JR0LlVioeD"
      }
    },
    {
      "cell_type": "markdown",
      "source": [],
      "metadata": {
        "id": "ULsXAF1Nko57"
      }
    },
    {
      "cell_type": "markdown",
      "source": [
        "- Machine learning model does not understand the units of the values of the features. It treats the input just as a simple number but does not understand the true meaning of that value. Thus, it becomes necessary to scale the data.\n",
        "\n",
        "**Eg :** Age = Years; FastingBS = mg / dl\n",
        "\n",
        "- We have 2 options for data scaling : 1) **Normalization** 2) **Standardization**. As most of the algorithms assume the data to be normally (Gaussian) distributed, **Normalization** is done for features whose data does not display normal distribution and **standardization** is carried out for features that are normally distributed where their values are huge or very small as compared to other features.\n",
        "\n",
        "\n",
        "- **Normalization** : **Oldpeak** feature is normalized as it had displayed a right skewed data distribution.\n",
        "- **Standardizarion** : **Age**, **RestingBP**, **Cholesterol** and **MaxHR** features are scaled down because these features are normally distributed."
      ],
      "metadata": {
        "id": "GqtA6vvkioeD"
      }
    },
    {
      "cell_type": "code",
      "source": [
        "from sklearn.preprocessing import MinMaxScaler,StandardScaler\n",
        "mms = MinMaxScaler() # Normalization\n",
        "ss = StandardScaler() # Standardization\n",
        "\n",
        "data_transformed['Oldpeak'] = mms.fit_transform(data_transformed[['Oldpeak']])\n",
        "data_transformed['Age'] = ss.fit_transform(data_transformed[['Age']])\n",
        "data_transformed['RestingBP'] = ss.fit_transform(data_transformed[['RestingBP']])\n",
        "data_transformed['Cholesterol'] = ss.fit_transform(data_transformed[['Cholesterol']])\n",
        "data_transformed['MaxHR'] = ss.fit_transform(data_transformed[['MaxHR']])\n",
        "data_transformed.head()"
      ],
      "metadata": {
        "execution": {
          "iopub.status.busy": "2022-10-25T12:55:14.330447Z",
          "iopub.execute_input": "2022-10-25T12:55:14.331084Z",
          "iopub.status.idle": "2022-10-25T12:55:14.370181Z",
          "shell.execute_reply.started": "2022-10-25T12:55:14.331047Z",
          "shell.execute_reply": "2022-10-25T12:55:14.368993Z"
        },
        "trusted": true,
        "id": "NhgpBJS1ioeD"
      },
      "execution_count": null,
      "outputs": []
    },
    {
      "cell_type": "markdown",
      "source": [
        "### Correlation Matrix :"
      ],
      "metadata": {
        "id": "idccNQf6ioeD"
      }
    },
    {
      "cell_type": "code",
      "source": [
        "plt.figure(figsize = (20,5))\n",
        "sns.heatmap(data_transformed.corr(),cmap = 'Blues',annot = True);"
      ],
      "metadata": {
        "execution": {
          "iopub.status.busy": "2022-10-25T12:55:14.371771Z",
          "iopub.execute_input": "2022-10-25T12:55:14.372148Z",
          "iopub.status.idle": "2022-10-25T12:55:15.294314Z",
          "shell.execute_reply.started": "2022-10-25T12:55:14.372114Z",
          "shell.execute_reply": "2022-10-25T12:55:15.293339Z"
        },
        "trusted": true,
        "id": "7R9DQhFDioeD"
      },
      "execution_count": null,
      "outputs": []
    },
    {
      "cell_type": "markdown",
      "source": [
        "- It is a huge matrix with too many features. We will check the correlation only with respect to **HeartDisease**."
      ],
      "metadata": {
        "id": "SOMQF_D7ioeE"
      }
    },
    {
      "cell_type": "code",
      "source": [
        "X_corr = data_transformed.corr()\n",
        "for row in X_corr.index:\n",
        "    for col in X_corr.columns:\n",
        "      if(row!=col):\n",
        "        value = X_corr.loc[row, col]\n",
        "        if value > 0.7 or value < -0.7:\n",
        "            print(f\"Value {value} in cell ({row}, {col}) is outside the range.\")\n",
        "      else:\n",
        "          print(\"There are no values in that range\")"
      ],
      "metadata": {
        "id": "0YWE93sl2_CV"
      },
      "execution_count": null,
      "outputs": []
    },
    {
      "cell_type": "code",
      "source": [
        "corr = data_transformed.corrwith(data_transformed['HeartDisease']).sort_values(ascending = False).to_frame()\n",
        "corr.columns = ['Correlations']\n",
        "plt.subplots(figsize = (5,5))\n",
        "sns.heatmap(corr,annot = True,cmap = 'Blues',linewidths = 0.4,linecolor = 'black');\n",
        "plt.title('Correlation w.r.t HeartDisease');"
      ],
      "metadata": {
        "execution": {
          "iopub.status.busy": "2022-10-25T12:55:15.295772Z",
          "iopub.execute_input": "2022-10-25T12:55:15.296191Z",
          "iopub.status.idle": "2022-10-25T12:55:15.646968Z",
          "shell.execute_reply.started": "2022-10-25T12:55:15.296154Z",
          "shell.execute_reply": "2022-10-25T12:55:15.645549Z"
        },
        "trusted": true,
        "id": "T93IECm-ioeE"
      },
      "execution_count": null,
      "outputs": []
    },
    {
      "cell_type": "markdown",
      "source": [
        "- Except for **RestingBP** and **RestingECG**, everyone displays a positive or negative relationship with **HeartDisease**."
      ],
      "metadata": {
        "id": "m4Xqct8lioeE"
      }
    },
    {
      "cell_type": "markdown",
      "source": [
        "### Feature Selection for Categorical Features :"
      ],
      "metadata": {
        "id": "EDKvXffMioeE"
      }
    },
    {
      "cell_type": "markdown",
      "source": [
        "\n",
        "A Chi-squared test is a statistical tool used to analyze **categorical data** and **assess relationships between them**. It helps us understand if the observed distribution of data in specific categories differs significantly from what we would expect if the variables were independent of each other.\n",
        "\n",
        "Here are the two main applications of Chi-squared tests:\n",
        "\n",
        "1) **Goodness-of-fit test:** This type of Chi-squared test compares the observed distribution of a single categorical variable with a predefined expected distribution. It helps determine whether the *observed data deviates significantly from the expected distribution*, suggesting a potential association between the variable and an external factor influencing its distribution.\n",
        "\n",
        "2) **Test of independence:** This type of Chi-squared test is used to assess if two categorical variables are independent of each other. It compares the observed frequency of co-occurrences of categories from both variables against the expected frequency if they were independent. A significant difference between observed and expected co-occurrences suggests a dependence between the variables.\n"
      ],
      "metadata": {
        "id": "m6do0n32l7uy"
      }
    },
    {
      "cell_type": "markdown",
      "source": [
        "#### Chi Squared Test :"
      ],
      "metadata": {
        "id": "3-q8JBaDioeE"
      }
    },
    {
      "cell_type": "code",
      "source": [
        "from sklearn.feature_selection import SelectKBest\n",
        "from sklearn.feature_selection import chi2"
      ],
      "metadata": {
        "execution": {
          "iopub.status.busy": "2022-10-25T12:55:15.650186Z",
          "iopub.execute_input": "2022-10-25T12:55:15.650754Z",
          "iopub.status.idle": "2022-10-25T12:55:15.866197Z",
          "shell.execute_reply.started": "2022-10-25T12:55:15.650692Z",
          "shell.execute_reply": "2022-10-25T12:55:15.864882Z"
        },
        "trusted": true,
        "id": "0ZW6DRN5ioeE"
      },
      "execution_count": null,
      "outputs": []
    },
    {
      "cell_type": "code",
      "source": [
        "features = data_transformed.loc[:,categorical_features[:-1]]\n",
        "target = data_transformed.loc[:,categorical_features[-1]]\n",
        "\n",
        "#SelectKBest class from the scikit-learn library is chosen.\n",
        "#This class helps select the best features based on a provided scoring function.\n",
        "#score_func = chi2: This argument specifies the scoring function to use for selecting features.\n",
        "#Here, chi2 is used, indicating the Chi-squared test.\n",
        "#k = 'all': This argument specifies the number of features to select.\n",
        "#Setting it to 'all' indicates selecting all features and ranking them based on their scores.\n",
        "\n",
        "best_features = SelectKBest(score_func = chi2,k = 'all')\n",
        "fit = best_features.fit(features,target)\n",
        "\n",
        "featureScores = pd.DataFrame(data = fit.scores_,index = list(features.columns),columns = ['Chi Squared Score'])\n",
        "\n",
        "plt.subplots(figsize = (5,5))\n",
        "sns.heatmap(featureScores.sort_values(ascending = False,by = 'Chi Squared Score'),annot = True,\n",
        "            cmap = \"Blues\",linewidths = 0.4,linecolor = 'black',fmt = '.2f');\n",
        "plt.title('Selection of Categorical Features');"
      ],
      "metadata": {
        "execution": {
          "iopub.status.busy": "2022-10-25T12:55:15.86799Z",
          "iopub.execute_input": "2022-10-25T12:55:15.868652Z",
          "iopub.status.idle": "2022-10-25T12:55:16.168029Z",
          "shell.execute_reply.started": "2022-10-25T12:55:15.868606Z",
          "shell.execute_reply": "2022-10-25T12:55:16.166176Z"
        },
        "trusted": true,
        "id": "QgPBqU4uioeE"
      },
      "execution_count": null,
      "outputs": []
    },
    {
      "cell_type": "markdown",
      "source": [
        "- Except **RestingECG**, all the remaining categorical features are pretty important for predicting heart diseases."
      ],
      "metadata": {
        "id": "FEI8BQTZioeE"
      }
    },
    {
      "cell_type": "markdown",
      "source": [
        "### Feature Selection for Numerical Features :"
      ],
      "metadata": {
        "id": "rewyzJAhioeE"
      }
    },
    {
      "cell_type": "markdown",
      "source": [
        "#### ANOVA Test :"
      ],
      "metadata": {
        "id": "Q4INAqxqioeE"
      }
    },
    {
      "cell_type": "markdown",
      "source": [
        "\n",
        "An **Analysis of Variance (ANOVA)** test is a statistical technique used to compare the means of two or more groups within a dataset. It helps us determine if there's a statistically significant difference between the means of these groups. Here's a breakdown of its application and purpose:\n",
        "\n",
        "ANOVA partitions the total variance in the data into two components:\n",
        "\n",
        "1) **Variance between groups:** This represents the spread of means between different groups.\n",
        "\n",
        "2) **Variance within groups:** This represents the spread of individual data points within each group.\n",
        "By comparing these variances, ANOVA assesses if the differences between group means are likely due to random chance or if there's a true underlying effect."
      ],
      "metadata": {
        "id": "72xpk6XSo3H9"
      }
    },
    {
      "cell_type": "code",
      "source": [
        "from sklearn.feature_selection import f_classif\n",
        "\n",
        "features = data_transformed.loc[:,numerical_features]\n",
        "target = data_transformed.loc[:,categorical_features[-1]]\n",
        "\n",
        "best_features = SelectKBest(score_func = f_classif,k = 'all')\n",
        "fit = best_features.fit(features,target)\n",
        "\n",
        "featureScores = pd.DataFrame(data = fit.scores_,index = list(features.columns),columns = ['ANOVA Score'])\n",
        "\n",
        "plt.subplots(figsize = (5,5))\n",
        "sns.heatmap(featureScores.sort_values(ascending = False,by = 'ANOVA Score'),annot = True,cmap = \"Blues\",\n",
        "            linewidths = 0.4,linecolor = 'black',fmt = '.2f');\n",
        "plt.title('Selection of Numerical Features');"
      ],
      "metadata": {
        "execution": {
          "iopub.status.busy": "2022-10-25T12:55:16.169767Z",
          "iopub.execute_input": "2022-10-25T12:55:16.170449Z",
          "iopub.status.idle": "2022-10-25T12:55:16.675505Z",
          "shell.execute_reply.started": "2022-10-25T12:55:16.170392Z",
          "shell.execute_reply": "2022-10-25T12:55:16.674005Z"
        },
        "trusted": true,
        "id": "tspfFXxqioeF"
      },
      "execution_count": null,
      "outputs": []
    },
    {
      "cell_type": "markdown",
      "source": [
        "- We will leave out **RestingBP** from the modeling part and take the remaining features."
      ],
      "metadata": {
        "id": "oNcVqAA-ioeF"
      }
    },
    {
      "cell_type": "markdown",
      "source": [
        "# **Modeling**"
      ],
      "metadata": {
        "id": "2rhB4fhWioeF"
      }
    },
    {
      "cell_type": "code",
      "source": [
        "from sklearn.model_selection import train_test_split\n",
        "from sklearn.metrics import confusion_matrix\n",
        "from sklearn.metrics import roc_auc_score\n",
        "from sklearn.metrics import roc_curve\n",
        "from sklearn.model_selection import cross_val_score\n",
        "from sklearn.model_selection import GridSearchCV\n",
        "from sklearn.metrics import classification_report\n",
        "from sklearn.metrics import accuracy_score\n",
        "from sklearn.model_selection import RepeatedStratifiedKFold\n",
        "from sklearn.metrics import precision_recall_curve"
      ],
      "metadata": {
        "execution": {
          "iopub.status.busy": "2022-10-25T12:55:16.676967Z",
          "iopub.execute_input": "2022-10-25T12:55:16.67741Z",
          "iopub.status.idle": "2022-10-25T12:55:16.685396Z",
          "shell.execute_reply.started": "2022-10-25T12:55:16.677377Z",
          "shell.execute_reply": "2022-10-25T12:55:16.684001Z"
        },
        "trusted": true,
        "id": "v4B1lFojioeF"
      },
      "execution_count": null,
      "outputs": []
    },
    {
      "cell_type": "code",
      "source": [
        "features = data_transformed[data_transformed.columns.drop(['HeartDisease','RestingBP','RestingECG'])].values\n",
        "target = data_transformed['HeartDisease'].values\n",
        "x_train, x_test, y_train, y_test = train_test_split(features, target, test_size = 0.20, random_state = 2)"
      ],
      "metadata": {
        "execution": {
          "iopub.status.busy": "2022-10-25T12:55:16.687234Z",
          "iopub.execute_input": "2022-10-25T12:55:16.687777Z",
          "iopub.status.idle": "2022-10-25T12:55:16.698293Z",
          "shell.execute_reply.started": "2022-10-25T12:55:16.687729Z",
          "shell.execute_reply": "2022-10-25T12:55:16.697156Z"
        },
        "trusted": true,
        "id": "w2Zievj6ioeF"
      },
      "execution_count": null,
      "outputs": []
    },
    {
      "cell_type": "markdown",
      "source": [
        "- Selecting the features from the above conducted tests and splitting the data into **80 - 20 train - test** groups."
      ],
      "metadata": {
        "id": "5v4K1HloioeF"
      }
    },
    {
      "cell_type": "code",
      "source": [
        "def model(classifier):\n",
        "\n",
        "    classifier.fit(x_train,y_train)\n",
        "    prediction = classifier.predict(x_test)\n",
        "    cv = RepeatedStratifiedKFold(n_splits = 10,n_repeats = 3,random_state = 1)\n",
        "    print(\"Accuracy : \",'{0:.2%}'.format(accuracy_score(y_test,prediction)))\n",
        "    print(\"Cross Validation Score : \",'{0:.2%}'.format(cross_val_score(classifier,x_train,y_train,cv = cv,scoring = 'roc_auc').mean()))\n",
        "    print(\"ROC_AUC Score : \",'{0:.2%}'.format(roc_auc_score(y_test,prediction)))\n",
        "    fpr, tpr, thresholds = roc_curve(y_test,prediction)\n",
        "    plt.plot(fpr, tpr, label='ROC curve')\n",
        "    plt.title('ROC Curve')\n",
        "    plt.xlabel('False Positive Rate (FPR)')\n",
        "    plt.ylabel('True Positive Rate (TPR)')\n",
        "    plt.xlim([0, 1])\n",
        "    plt.ylim([0, 1])\n",
        "    plt.plot([0, 1], [0, 1], 'r--', label='No Discrimination')\n",
        "    plt.legend()\n",
        "    plt.show()\n",
        "\n",
        "def model_evaluation(classifier):\n",
        "\n",
        "    # Confusion Matrix\n",
        "    cm = confusion_matrix(y_test,classifier.predict(x_test))\n",
        "    names = ['True Neg','False Pos','False Neg','True Pos']\n",
        "    counts = [value for value in cm.flatten()]\n",
        "    percentages = ['{0:.2%}'.format(value) for value in cm.flatten()/np.sum(cm)]\n",
        "    labels = [f'{v1}\\n{v2}\\n{v3}' for v1, v2, v3 in zip(names,counts,percentages)]\n",
        "    labels = np.asarray(labels).reshape(2,2)\n",
        "    sns.heatmap(cm,annot = labels,cmap = \"Blues\",fmt ='')\n",
        "\n",
        "    # Classification Report\n",
        "    print(classification_report(y_test,classifier.predict(x_test)))"
      ],
      "metadata": {
        "execution": {
          "iopub.status.busy": "2022-10-25T12:55:16.700023Z",
          "iopub.execute_input": "2022-10-25T12:55:16.700405Z",
          "iopub.status.idle": "2022-10-25T12:55:16.712168Z",
          "shell.execute_reply.started": "2022-10-25T12:55:16.700372Z",
          "shell.execute_reply": "2022-10-25T12:55:16.710804Z"
        },
        "trusted": true,
        "id": "z3zMKv7WioeF"
      },
      "execution_count": null,
      "outputs": []
    },
    {
      "cell_type": "markdown",
      "source": [
        "#### 1] Logistic Regression :"
      ],
      "metadata": {
        "id": "mWWJ3D-9ioeF"
      }
    },
    {
      "cell_type": "code",
      "source": [
        "from sklearn.linear_model import LogisticRegression"
      ],
      "metadata": {
        "execution": {
          "iopub.status.busy": "2022-10-25T12:55:16.713744Z",
          "iopub.execute_input": "2022-10-25T12:55:16.714116Z",
          "iopub.status.idle": "2022-10-25T12:55:16.728525Z",
          "shell.execute_reply.started": "2022-10-25T12:55:16.714083Z",
          "shell.execute_reply": "2022-10-25T12:55:16.727153Z"
        },
        "trusted": true,
        "id": "84Pdua1oioeG"
      },
      "execution_count": null,
      "outputs": []
    },
    {
      "cell_type": "code",
      "source": [
        "classifier_lr = LogisticRegression(random_state = 0,C=10,penalty= 'l2')"
      ],
      "metadata": {
        "execution": {
          "iopub.status.busy": "2022-10-25T12:55:16.730146Z",
          "iopub.execute_input": "2022-10-25T12:55:16.730561Z",
          "iopub.status.idle": "2022-10-25T12:55:16.739138Z",
          "shell.execute_reply.started": "2022-10-25T12:55:16.730523Z",
          "shell.execute_reply": "2022-10-25T12:55:16.738002Z"
        },
        "trusted": true,
        "id": "_nP7_oxTioeG"
      },
      "execution_count": null,
      "outputs": []
    },
    {
      "cell_type": "code",
      "source": [
        "model(classifier_lr)"
      ],
      "metadata": {
        "execution": {
          "iopub.status.busy": "2022-10-25T12:55:16.740766Z",
          "iopub.execute_input": "2022-10-25T12:55:16.741396Z",
          "iopub.status.idle": "2022-10-25T12:55:17.311679Z",
          "shell.execute_reply.started": "2022-10-25T12:55:16.741346Z",
          "shell.execute_reply": "2022-10-25T12:55:17.310308Z"
        },
        "trusted": true,
        "id": "T5YaIeDvioeG"
      },
      "execution_count": null,
      "outputs": []
    },
    {
      "cell_type": "code",
      "source": [
        "model_evaluation(classifier_lr)"
      ],
      "metadata": {
        "execution": {
          "iopub.status.busy": "2022-10-25T12:55:17.313409Z",
          "iopub.execute_input": "2022-10-25T12:55:17.314143Z",
          "iopub.status.idle": "2022-10-25T12:55:17.579086Z",
          "shell.execute_reply.started": "2022-10-25T12:55:17.314096Z",
          "shell.execute_reply": "2022-10-25T12:55:17.577812Z"
        },
        "trusted": true,
        "id": "dsWEtrPmioeG"
      },
      "execution_count": null,
      "outputs": []
    },
    {
      "cell_type": "markdown",
      "source": [
        "#### 2] Decision Tree Classifier :"
      ],
      "metadata": {
        "id": "U3pI6iVqioeG"
      }
    },
    {
      "cell_type": "code",
      "source": [
        "from sklearn.tree import DecisionTreeClassifier"
      ],
      "metadata": {
        "execution": {
          "iopub.status.busy": "2022-10-25T12:55:18.493372Z",
          "iopub.execute_input": "2022-10-25T12:55:18.493789Z",
          "iopub.status.idle": "2022-10-25T12:55:18.52952Z",
          "shell.execute_reply.started": "2022-10-25T12:55:18.49375Z",
          "shell.execute_reply": "2022-10-25T12:55:18.528493Z"
        },
        "trusted": true,
        "id": "q8e1G1iwioeG"
      },
      "execution_count": null,
      "outputs": []
    },
    {
      "cell_type": "code",
      "source": [
        "classifier_dt = DecisionTreeClassifier(random_state = 1000,max_depth = 4,min_samples_leaf = 1)"
      ],
      "metadata": {
        "execution": {
          "iopub.status.busy": "2022-10-25T12:55:18.530706Z",
          "iopub.execute_input": "2022-10-25T12:55:18.531423Z",
          "iopub.status.idle": "2022-10-25T12:55:18.53672Z",
          "shell.execute_reply.started": "2022-10-25T12:55:18.53138Z",
          "shell.execute_reply": "2022-10-25T12:55:18.535441Z"
        },
        "trusted": true,
        "id": "T1elGf5OioeH"
      },
      "execution_count": null,
      "outputs": []
    },
    {
      "cell_type": "code",
      "source": [
        "model(classifier_dt)"
      ],
      "metadata": {
        "execution": {
          "iopub.status.busy": "2022-10-25T12:55:18.538388Z",
          "iopub.execute_input": "2022-10-25T12:55:18.539495Z",
          "iopub.status.idle": "2022-10-25T12:55:18.906163Z",
          "shell.execute_reply.started": "2022-10-25T12:55:18.539452Z",
          "shell.execute_reply": "2022-10-25T12:55:18.90464Z"
        },
        "trusted": true,
        "id": "ytfyWbP7ioeH"
      },
      "execution_count": null,
      "outputs": []
    },
    {
      "cell_type": "code",
      "source": [
        "model_evaluation(classifier_dt)"
      ],
      "metadata": {
        "execution": {
          "iopub.status.busy": "2022-10-25T12:55:18.909969Z",
          "iopub.execute_input": "2022-10-25T12:55:18.910787Z",
          "iopub.status.idle": "2022-10-25T12:55:19.165327Z",
          "shell.execute_reply.started": "2022-10-25T12:55:18.910746Z",
          "shell.execute_reply": "2022-10-25T12:55:19.164258Z"
        },
        "trusted": true,
        "id": "JIjILwRuioeH"
      },
      "execution_count": null,
      "outputs": []
    },
    {
      "cell_type": "markdown",
      "source": [
        "#### 3] Random Forest Classifier :"
      ],
      "metadata": {
        "id": "XPWiBVAAioeH"
      }
    },
    {
      "cell_type": "code",
      "source": [
        "from sklearn.ensemble import RandomForestClassifier"
      ],
      "metadata": {
        "execution": {
          "iopub.status.busy": "2022-10-25T12:55:19.166673Z",
          "iopub.execute_input": "2022-10-25T12:55:19.167522Z",
          "iopub.status.idle": "2022-10-25T12:55:19.240114Z",
          "shell.execute_reply.started": "2022-10-25T12:55:19.167476Z",
          "shell.execute_reply": "2022-10-25T12:55:19.238804Z"
        },
        "trusted": true,
        "id": "B1EngvxIioeH"
      },
      "execution_count": null,
      "outputs": []
    },
    {
      "cell_type": "code",
      "source": [
        "classifier_rf = RandomForestClassifier(max_depth = 4,random_state = 0)"
      ],
      "metadata": {
        "execution": {
          "iopub.status.busy": "2022-10-25T12:55:19.241441Z",
          "iopub.execute_input": "2022-10-25T12:55:19.241786Z",
          "iopub.status.idle": "2022-10-25T12:55:19.248641Z",
          "shell.execute_reply.started": "2022-10-25T12:55:19.241755Z",
          "shell.execute_reply": "2022-10-25T12:55:19.246793Z"
        },
        "trusted": true,
        "id": "ADH-Nh9vioeH"
      },
      "execution_count": null,
      "outputs": []
    },
    {
      "cell_type": "code",
      "source": [
        "model(classifier_rf)"
      ],
      "metadata": {
        "execution": {
          "iopub.status.busy": "2022-10-25T12:55:19.250012Z",
          "iopub.execute_input": "2022-10-25T12:55:19.250365Z",
          "iopub.status.idle": "2022-10-25T12:55:25.225949Z",
          "shell.execute_reply.started": "2022-10-25T12:55:19.250334Z",
          "shell.execute_reply": "2022-10-25T12:55:25.224647Z"
        },
        "trusted": true,
        "id": "vxDLHupCioeH"
      },
      "execution_count": null,
      "outputs": []
    },
    {
      "cell_type": "code",
      "source": [
        "model_evaluation(classifier_rf)"
      ],
      "metadata": {
        "execution": {
          "iopub.status.busy": "2022-10-25T12:55:25.227627Z",
          "iopub.execute_input": "2022-10-25T12:55:25.228385Z",
          "iopub.status.idle": "2022-10-25T12:55:25.51769Z",
          "shell.execute_reply.started": "2022-10-25T12:55:25.228337Z",
          "shell.execute_reply": "2022-10-25T12:55:25.51609Z"
        },
        "trusted": true,
        "id": "p3isplQeioeH"
      },
      "execution_count": null,
      "outputs": []
    },
    {
      "cell_type": "markdown",
      "source": [
        "### Alogrithm Results Table :\n",
        "\n",
        "|Sr. No.|ML Algorithm|Accuracy|Cross Validation Score|\n",
        "|-|-|-|-|\n",
        "|1|Logistic Regression|||\n",
        "|2|Decision Tree Classifier|||\n",
        "|3|Random Forest Classifier|||"
      ],
      "metadata": {
        "id": "ZDWz4FzxioeK"
      }
    },
    {
      "cell_type": "markdown",
      "source": [
        "# <center><div style=\"font-family: Trebuchet MS; background-color: #F93822; color: #FDD20E; padding: 12px; line-height: 1;\">Conclusion</div></center>\n",
        "\n",
        "- This dataset is great for understanding how to handle binary classification problems with the combination of numerical and categorical features.\n",
        "\n",
        "\n",
        "- For feature engineering, it might feel confusing about the order of the processes. In this case, data scaling was executed before the feature selection test. We might feel like we are tampering the data before passing it to the tests but the results are same irrespective of the order of the process. (Try it out!)\n",
        "\n",
        "\n",
        "- For this problem, outlier detection was not done as I was not able to read any papers about heart diseases. It becomes a pivotal part to understand the subject before removing outliers even though the outlier detection tests come out positive.\n",
        "\n",
        "\n",
        "- Visualization is key. It makes the data talkative. Displaying the present information and results of any tests or output through visualization becomes crucial as it makes the understanding easy.\n",
        "\n",
        "\n",
        "- For modeling, hyperparameter tuning is not done. It can push the performances of the algorithms. Overall the algorithm performances are good."
      ],
      "metadata": {
        "id": "eKY0zgR1ioeK"
      }
    }
  ]
}