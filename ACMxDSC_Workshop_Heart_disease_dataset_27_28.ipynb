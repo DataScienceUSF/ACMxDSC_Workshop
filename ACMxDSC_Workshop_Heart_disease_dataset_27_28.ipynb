{
  "metadata": {
    "kernelspec": {
      "language": "python",
      "display_name": "Python 3",
      "name": "python3"
    },
    "language_info": {
      "pygments_lexer": "ipython3",
      "nbconvert_exporter": "python",
      "version": "3.6.4",
      "file_extension": ".py",
      "codemirror_mode": {
        "name": "ipython",
        "version": 3
      },
      "name": "python",
      "mimetype": "text/x-python"
    },
    "kaggle": {
      "accelerator": "none",
      "dataSources": [
        {
          "sourceId": 2603715,
          "sourceType": "datasetVersion",
          "datasetId": 1582403
        }
      ],
      "dockerImageVersionId": 30213,
      "isInternetEnabled": true,
      "language": "python",
      "sourceType": "notebook",
      "isGpuEnabled": false
    },
    "colab": {
      "provenance": []
    }
  },
  "nbformat_minor": 0,
  "nbformat": 4,
  "cells": [
    {
      "cell_type": "markdown",
      "source": [
        "# <h1 style=\"font-family: Trebuchet MS; padding: 20px; font-size: 25px; color: #FDD20E; text-align: center; line-height: 0.75;background-color: #F93822\"><b>Heart Failure Prediction</b><br></h1>"
      ],
      "metadata": {
        "id": "RJEqWkUZiodw"
      }
    },
    {
      "cell_type": "markdown",
      "source": [
        "\n",
        "\n",
        "### Aim :\n",
        "- To classify / predict whether a patient is prone to heart failure depending on multiple attributes.\n",
        "- It is a **binary classification** with multiple numerical and categorical features.\n",
        "\n",
        "### <center>Dataset Attributes</center>\n",
        "    \n",
        "- **Age** : age of the patient [years]\n",
        "- **Sex** : sex of the patient [M: Male, F: Female]\n",
        "- **ChestPainType** : chest pain type [TA: Typical Angina, ATA: Atypical Angina, NAP: Non-Anginal Pain, ASY: Asymptomatic]\n",
        "- **RestingBP** : resting blood pressure [mm Hg]\n",
        "- **Cholesterol** : serum cholesterol [mm/dl]\n",
        "- **FastingBS** : fasting blood sugar [1: if FastingBS > 120 mg/dl, 0: otherwise]\n",
        "- **RestingECG** : resting electrocardiogram results [Normal: Normal, ST: having ST-T wave abnormality (T wave inversions and/or ST elevation or depression of > 0.05 mV), LVH: showing probable or definite left ventricular hypertrophy by Estes' criteria]\n",
        "- **MaxHR** : maximum heart rate achieved [Numeric value between 60 and 202]\n",
        "- **ExerciseAngina** : exercise-induced angina [Y: Yes, N: No]\n",
        "- **Oldpeak** : oldpeak = ST [Numeric value measured in depression]\n",
        "- **ST_Slope** : the slope of the peak exercise ST segment [Up: upsloping, Flat: flat, Down: downsloping]\n",
        "- **HeartDisease** : output class [1: heart disease, 0: Normal]"
      ],
      "metadata": {
        "id": "d-fawFB_iodx"
      }
    },
    {
      "cell_type": "markdown",
      "source": [
        "# <center><div style=\"font-family: Trebuchet MS; background-color: #F93822; color: #FDD20E; padding: 12px; line-height: 1;\">Dataset Information</div></center>"
      ],
      "metadata": {
        "id": "OLPBlb7aiody"
      }
    },
    {
      "cell_type": "markdown",
      "source": [
        "### Import the Necessary Libraries :"
      ],
      "metadata": {
        "id": "3-P9HMAHiody"
      }
    },
    {
      "cell_type": "code",
      "source": [
        "import pandas as pd\n",
        "import numpy as np\n",
        "import matplotlib.pyplot as plt\n",
        "%matplotlib inline\n",
        "import seaborn as sns"
      ],
      "metadata": {
        "execution": {
          "iopub.status.busy": "2022-10-25T12:54:47.718109Z",
          "iopub.execute_input": "2022-10-25T12:54:47.720331Z",
          "iopub.status.idle": "2022-10-25T12:54:48.502285Z",
          "shell.execute_reply.started": "2022-10-25T12:54:47.719992Z",
          "shell.execute_reply": "2022-10-25T12:54:48.50099Z"
        },
        "trusted": true,
        "id": "_rSdbpriiody"
      },
      "execution_count": 9,
      "outputs": []
    },
    {
      "cell_type": "code",
      "source": [
        "data = pd.read_csv('heart.csv')\n",
        "data.head()"
      ],
      "metadata": {
        "scrolled": true,
        "execution": {
          "iopub.status.busy": "2022-10-25T12:54:48.50462Z",
          "iopub.execute_input": "2022-10-25T12:54:48.505025Z",
          "iopub.status.idle": "2022-10-25T12:54:48.557159Z",
          "shell.execute_reply.started": "2022-10-25T12:54:48.504988Z",
          "shell.execute_reply": "2022-10-25T12:54:48.555811Z"
        },
        "trusted": true,
        "colab": {
          "base_uri": "https://localhost:8080/",
          "height": 226
        },
        "id": "y-iHyrqsiodz",
        "outputId": "59404483-f093-4cfe-e299-367c17fc2a1d"
      },
      "execution_count": 10,
      "outputs": [
        {
          "output_type": "execute_result",
          "data": {
            "text/plain": [
              "    Age Sex ChestPainType  RestingBP  Cholesterol  FastingBS RestingECG  \\\n",
              "0  40.0   M           ATA        140        289.0          0     Normal   \n",
              "1  49.0   F           NAP        160        180.0          0     Normal   \n",
              "2  37.0   M           ATA        130        283.0          0         ST   \n",
              "3  48.0   F           ASY        138        214.0          0     Normal   \n",
              "4  54.0   M           NAP        150        195.0          0     Normal   \n",
              "\n",
              "   MaxHR ExerciseAngina  Oldpeak ST_Slope  HeartDisease  \n",
              "0    172              N      0.0       Up           0.0  \n",
              "1    156              N      1.0     Flat           1.0  \n",
              "2     98              N      0.0       Up           0.0  \n",
              "3    108              Y      1.5     Flat           1.0  \n",
              "4    122              N      0.0       Up           0.0  "
            ],
            "text/html": [
              "\n",
              "  <div id=\"df-c9f3655c-7f10-41e7-a89e-b7a650292f62\" class=\"colab-df-container\">\n",
              "    <div>\n",
              "<style scoped>\n",
              "    .dataframe tbody tr th:only-of-type {\n",
              "        vertical-align: middle;\n",
              "    }\n",
              "\n",
              "    .dataframe tbody tr th {\n",
              "        vertical-align: top;\n",
              "    }\n",
              "\n",
              "    .dataframe thead th {\n",
              "        text-align: right;\n",
              "    }\n",
              "</style>\n",
              "<table border=\"1\" class=\"dataframe\">\n",
              "  <thead>\n",
              "    <tr style=\"text-align: right;\">\n",
              "      <th></th>\n",
              "      <th>Age</th>\n",
              "      <th>Sex</th>\n",
              "      <th>ChestPainType</th>\n",
              "      <th>RestingBP</th>\n",
              "      <th>Cholesterol</th>\n",
              "      <th>FastingBS</th>\n",
              "      <th>RestingECG</th>\n",
              "      <th>MaxHR</th>\n",
              "      <th>ExerciseAngina</th>\n",
              "      <th>Oldpeak</th>\n",
              "      <th>ST_Slope</th>\n",
              "      <th>HeartDisease</th>\n",
              "    </tr>\n",
              "  </thead>\n",
              "  <tbody>\n",
              "    <tr>\n",
              "      <th>0</th>\n",
              "      <td>40.0</td>\n",
              "      <td>M</td>\n",
              "      <td>ATA</td>\n",
              "      <td>140</td>\n",
              "      <td>289.0</td>\n",
              "      <td>0</td>\n",
              "      <td>Normal</td>\n",
              "      <td>172</td>\n",
              "      <td>N</td>\n",
              "      <td>0.0</td>\n",
              "      <td>Up</td>\n",
              "      <td>0.0</td>\n",
              "    </tr>\n",
              "    <tr>\n",
              "      <th>1</th>\n",
              "      <td>49.0</td>\n",
              "      <td>F</td>\n",
              "      <td>NAP</td>\n",
              "      <td>160</td>\n",
              "      <td>180.0</td>\n",
              "      <td>0</td>\n",
              "      <td>Normal</td>\n",
              "      <td>156</td>\n",
              "      <td>N</td>\n",
              "      <td>1.0</td>\n",
              "      <td>Flat</td>\n",
              "      <td>1.0</td>\n",
              "    </tr>\n",
              "    <tr>\n",
              "      <th>2</th>\n",
              "      <td>37.0</td>\n",
              "      <td>M</td>\n",
              "      <td>ATA</td>\n",
              "      <td>130</td>\n",
              "      <td>283.0</td>\n",
              "      <td>0</td>\n",
              "      <td>ST</td>\n",
              "      <td>98</td>\n",
              "      <td>N</td>\n",
              "      <td>0.0</td>\n",
              "      <td>Up</td>\n",
              "      <td>0.0</td>\n",
              "    </tr>\n",
              "    <tr>\n",
              "      <th>3</th>\n",
              "      <td>48.0</td>\n",
              "      <td>F</td>\n",
              "      <td>ASY</td>\n",
              "      <td>138</td>\n",
              "      <td>214.0</td>\n",
              "      <td>0</td>\n",
              "      <td>Normal</td>\n",
              "      <td>108</td>\n",
              "      <td>Y</td>\n",
              "      <td>1.5</td>\n",
              "      <td>Flat</td>\n",
              "      <td>1.0</td>\n",
              "    </tr>\n",
              "    <tr>\n",
              "      <th>4</th>\n",
              "      <td>54.0</td>\n",
              "      <td>M</td>\n",
              "      <td>NAP</td>\n",
              "      <td>150</td>\n",
              "      <td>195.0</td>\n",
              "      <td>0</td>\n",
              "      <td>Normal</td>\n",
              "      <td>122</td>\n",
              "      <td>N</td>\n",
              "      <td>0.0</td>\n",
              "      <td>Up</td>\n",
              "      <td>0.0</td>\n",
              "    </tr>\n",
              "  </tbody>\n",
              "</table>\n",
              "</div>\n",
              "    <div class=\"colab-df-buttons\">\n",
              "\n",
              "  <div class=\"colab-df-container\">\n",
              "    <button class=\"colab-df-convert\" onclick=\"convertToInteractive('df-c9f3655c-7f10-41e7-a89e-b7a650292f62')\"\n",
              "            title=\"Convert this dataframe to an interactive table.\"\n",
              "            style=\"display:none;\">\n",
              "\n",
              "  <svg xmlns=\"http://www.w3.org/2000/svg\" height=\"24px\" viewBox=\"0 -960 960 960\">\n",
              "    <path d=\"M120-120v-720h720v720H120Zm60-500h600v-160H180v160Zm220 220h160v-160H400v160Zm0 220h160v-160H400v160ZM180-400h160v-160H180v160Zm440 0h160v-160H620v160ZM180-180h160v-160H180v160Zm440 0h160v-160H620v160Z\"/>\n",
              "  </svg>\n",
              "    </button>\n",
              "\n",
              "  <style>\n",
              "    .colab-df-container {\n",
              "      display:flex;\n",
              "      gap: 12px;\n",
              "    }\n",
              "\n",
              "    .colab-df-convert {\n",
              "      background-color: #E8F0FE;\n",
              "      border: none;\n",
              "      border-radius: 50%;\n",
              "      cursor: pointer;\n",
              "      display: none;\n",
              "      fill: #1967D2;\n",
              "      height: 32px;\n",
              "      padding: 0 0 0 0;\n",
              "      width: 32px;\n",
              "    }\n",
              "\n",
              "    .colab-df-convert:hover {\n",
              "      background-color: #E2EBFA;\n",
              "      box-shadow: 0px 1px 2px rgba(60, 64, 67, 0.3), 0px 1px 3px 1px rgba(60, 64, 67, 0.15);\n",
              "      fill: #174EA6;\n",
              "    }\n",
              "\n",
              "    .colab-df-buttons div {\n",
              "      margin-bottom: 4px;\n",
              "    }\n",
              "\n",
              "    [theme=dark] .colab-df-convert {\n",
              "      background-color: #3B4455;\n",
              "      fill: #D2E3FC;\n",
              "    }\n",
              "\n",
              "    [theme=dark] .colab-df-convert:hover {\n",
              "      background-color: #434B5C;\n",
              "      box-shadow: 0px 1px 3px 1px rgba(0, 0, 0, 0.15);\n",
              "      filter: drop-shadow(0px 1px 2px rgba(0, 0, 0, 0.3));\n",
              "      fill: #FFFFFF;\n",
              "    }\n",
              "  </style>\n",
              "\n",
              "    <script>\n",
              "      const buttonEl =\n",
              "        document.querySelector('#df-c9f3655c-7f10-41e7-a89e-b7a650292f62 button.colab-df-convert');\n",
              "      buttonEl.style.display =\n",
              "        google.colab.kernel.accessAllowed ? 'block' : 'none';\n",
              "\n",
              "      async function convertToInteractive(key) {\n",
              "        const element = document.querySelector('#df-c9f3655c-7f10-41e7-a89e-b7a650292f62');\n",
              "        const dataTable =\n",
              "          await google.colab.kernel.invokeFunction('convertToInteractive',\n",
              "                                                    [key], {});\n",
              "        if (!dataTable) return;\n",
              "\n",
              "        const docLinkHtml = 'Like what you see? Visit the ' +\n",
              "          '<a target=\"_blank\" href=https://colab.research.google.com/notebooks/data_table.ipynb>data table notebook</a>'\n",
              "          + ' to learn more about interactive tables.';\n",
              "        element.innerHTML = '';\n",
              "        dataTable['output_type'] = 'display_data';\n",
              "        await google.colab.output.renderOutput(dataTable, element);\n",
              "        const docLink = document.createElement('div');\n",
              "        docLink.innerHTML = docLinkHtml;\n",
              "        element.appendChild(docLink);\n",
              "      }\n",
              "    </script>\n",
              "  </div>\n",
              "\n",
              "\n",
              "<div id=\"df-88161f02-e4f4-42b6-8e85-4187d8119ed6\">\n",
              "  <button class=\"colab-df-quickchart\" onclick=\"quickchart('df-88161f02-e4f4-42b6-8e85-4187d8119ed6')\"\n",
              "            title=\"Suggest charts\"\n",
              "            style=\"display:none;\">\n",
              "\n",
              "<svg xmlns=\"http://www.w3.org/2000/svg\" height=\"24px\"viewBox=\"0 0 24 24\"\n",
              "     width=\"24px\">\n",
              "    <g>\n",
              "        <path d=\"M19 3H5c-1.1 0-2 .9-2 2v14c0 1.1.9 2 2 2h14c1.1 0 2-.9 2-2V5c0-1.1-.9-2-2-2zM9 17H7v-7h2v7zm4 0h-2V7h2v10zm4 0h-2v-4h2v4z\"/>\n",
              "    </g>\n",
              "</svg>\n",
              "  </button>\n",
              "\n",
              "<style>\n",
              "  .colab-df-quickchart {\n",
              "      --bg-color: #E8F0FE;\n",
              "      --fill-color: #1967D2;\n",
              "      --hover-bg-color: #E2EBFA;\n",
              "      --hover-fill-color: #174EA6;\n",
              "      --disabled-fill-color: #AAA;\n",
              "      --disabled-bg-color: #DDD;\n",
              "  }\n",
              "\n",
              "  [theme=dark] .colab-df-quickchart {\n",
              "      --bg-color: #3B4455;\n",
              "      --fill-color: #D2E3FC;\n",
              "      --hover-bg-color: #434B5C;\n",
              "      --hover-fill-color: #FFFFFF;\n",
              "      --disabled-bg-color: #3B4455;\n",
              "      --disabled-fill-color: #666;\n",
              "  }\n",
              "\n",
              "  .colab-df-quickchart {\n",
              "    background-color: var(--bg-color);\n",
              "    border: none;\n",
              "    border-radius: 50%;\n",
              "    cursor: pointer;\n",
              "    display: none;\n",
              "    fill: var(--fill-color);\n",
              "    height: 32px;\n",
              "    padding: 0;\n",
              "    width: 32px;\n",
              "  }\n",
              "\n",
              "  .colab-df-quickchart:hover {\n",
              "    background-color: var(--hover-bg-color);\n",
              "    box-shadow: 0 1px 2px rgba(60, 64, 67, 0.3), 0 1px 3px 1px rgba(60, 64, 67, 0.15);\n",
              "    fill: var(--button-hover-fill-color);\n",
              "  }\n",
              "\n",
              "  .colab-df-quickchart-complete:disabled,\n",
              "  .colab-df-quickchart-complete:disabled:hover {\n",
              "    background-color: var(--disabled-bg-color);\n",
              "    fill: var(--disabled-fill-color);\n",
              "    box-shadow: none;\n",
              "  }\n",
              "\n",
              "  .colab-df-spinner {\n",
              "    border: 2px solid var(--fill-color);\n",
              "    border-color: transparent;\n",
              "    border-bottom-color: var(--fill-color);\n",
              "    animation:\n",
              "      spin 1s steps(1) infinite;\n",
              "  }\n",
              "\n",
              "  @keyframes spin {\n",
              "    0% {\n",
              "      border-color: transparent;\n",
              "      border-bottom-color: var(--fill-color);\n",
              "      border-left-color: var(--fill-color);\n",
              "    }\n",
              "    20% {\n",
              "      border-color: transparent;\n",
              "      border-left-color: var(--fill-color);\n",
              "      border-top-color: var(--fill-color);\n",
              "    }\n",
              "    30% {\n",
              "      border-color: transparent;\n",
              "      border-left-color: var(--fill-color);\n",
              "      border-top-color: var(--fill-color);\n",
              "      border-right-color: var(--fill-color);\n",
              "    }\n",
              "    40% {\n",
              "      border-color: transparent;\n",
              "      border-right-color: var(--fill-color);\n",
              "      border-top-color: var(--fill-color);\n",
              "    }\n",
              "    60% {\n",
              "      border-color: transparent;\n",
              "      border-right-color: var(--fill-color);\n",
              "    }\n",
              "    80% {\n",
              "      border-color: transparent;\n",
              "      border-right-color: var(--fill-color);\n",
              "      border-bottom-color: var(--fill-color);\n",
              "    }\n",
              "    90% {\n",
              "      border-color: transparent;\n",
              "      border-bottom-color: var(--fill-color);\n",
              "    }\n",
              "  }\n",
              "</style>\n",
              "\n",
              "  <script>\n",
              "    async function quickchart(key) {\n",
              "      const quickchartButtonEl =\n",
              "        document.querySelector('#' + key + ' button');\n",
              "      quickchartButtonEl.disabled = true;  // To prevent multiple clicks.\n",
              "      quickchartButtonEl.classList.add('colab-df-spinner');\n",
              "      try {\n",
              "        const charts = await google.colab.kernel.invokeFunction(\n",
              "            'suggestCharts', [key], {});\n",
              "      } catch (error) {\n",
              "        console.error('Error during call to suggestCharts:', error);\n",
              "      }\n",
              "      quickchartButtonEl.classList.remove('colab-df-spinner');\n",
              "      quickchartButtonEl.classList.add('colab-df-quickchart-complete');\n",
              "    }\n",
              "    (() => {\n",
              "      let quickchartButtonEl =\n",
              "        document.querySelector('#df-88161f02-e4f4-42b6-8e85-4187d8119ed6 button');\n",
              "      quickchartButtonEl.style.display =\n",
              "        google.colab.kernel.accessAllowed ? 'block' : 'none';\n",
              "    })();\n",
              "  </script>\n",
              "</div>\n",
              "\n",
              "    </div>\n",
              "  </div>\n"
            ],
            "application/vnd.google.colaboratory.intrinsic+json": {
              "type": "dataframe",
              "variable_name": "data",
              "summary": "{\n  \"name\": \"data\",\n  \"rows\": 918,\n  \"fields\": [\n    {\n      \"column\": \"Age\",\n      \"properties\": {\n        \"dtype\": \"number\",\n        \"std\": 9.414922006899236,\n        \"min\": 28.0,\n        \"max\": 77.0,\n        \"num_unique_values\": 50,\n        \"samples\": [\n          44.0,\n          72.0,\n          34.0\n        ],\n        \"semantic_type\": \"\",\n        \"description\": \"\"\n      }\n    },\n    {\n      \"column\": \"Sex\",\n      \"properties\": {\n        \"dtype\": \"category\",\n        \"num_unique_values\": 2,\n        \"samples\": [\n          \"F\",\n          \"M\"\n        ],\n        \"semantic_type\": \"\",\n        \"description\": \"\"\n      }\n    },\n    {\n      \"column\": \"ChestPainType\",\n      \"properties\": {\n        \"dtype\": \"category\",\n        \"num_unique_values\": 4,\n        \"samples\": [\n          \"NAP\",\n          \"TA\"\n        ],\n        \"semantic_type\": \"\",\n        \"description\": \"\"\n      }\n    },\n    {\n      \"column\": \"RestingBP\",\n      \"properties\": {\n        \"dtype\": \"number\",\n        \"std\": 18,\n        \"min\": 0,\n        \"max\": 200,\n        \"num_unique_values\": 67,\n        \"samples\": [\n          165,\n          118\n        ],\n        \"semantic_type\": \"\",\n        \"description\": \"\"\n      }\n    },\n    {\n      \"column\": \"Cholesterol\",\n      \"properties\": {\n        \"dtype\": \"number\",\n        \"std\": 109.68824084491614,\n        \"min\": 0.0,\n        \"max\": 603.0,\n        \"num_unique_values\": 222,\n        \"samples\": [\n          344.0,\n          321.0\n        ],\n        \"semantic_type\": \"\",\n        \"description\": \"\"\n      }\n    },\n    {\n      \"column\": \"FastingBS\",\n      \"properties\": {\n        \"dtype\": \"number\",\n        \"std\": 0,\n        \"min\": 0,\n        \"max\": 1,\n        \"num_unique_values\": 2,\n        \"samples\": [\n          1,\n          0\n        ],\n        \"semantic_type\": \"\",\n        \"description\": \"\"\n      }\n    },\n    {\n      \"column\": \"RestingECG\",\n      \"properties\": {\n        \"dtype\": \"category\",\n        \"num_unique_values\": 3,\n        \"samples\": [\n          \"Normal\",\n          \"ST\"\n        ],\n        \"semantic_type\": \"\",\n        \"description\": \"\"\n      }\n    },\n    {\n      \"column\": \"MaxHR\",\n      \"properties\": {\n        \"dtype\": \"number\",\n        \"std\": 25,\n        \"min\": 60,\n        \"max\": 202,\n        \"num_unique_values\": 119,\n        \"samples\": [\n          132,\n          157\n        ],\n        \"semantic_type\": \"\",\n        \"description\": \"\"\n      }\n    },\n    {\n      \"column\": \"ExerciseAngina\",\n      \"properties\": {\n        \"dtype\": \"category\",\n        \"num_unique_values\": 2,\n        \"samples\": [\n          \"Y\",\n          \"N\"\n        ],\n        \"semantic_type\": \"\",\n        \"description\": \"\"\n      }\n    },\n    {\n      \"column\": \"Oldpeak\",\n      \"properties\": {\n        \"dtype\": \"number\",\n        \"std\": 1.0665701510493257,\n        \"min\": -2.6,\n        \"max\": 6.2,\n        \"num_unique_values\": 53,\n        \"samples\": [\n          1.3,\n          0.6\n        ],\n        \"semantic_type\": \"\",\n        \"description\": \"\"\n      }\n    },\n    {\n      \"column\": \"ST_Slope\",\n      \"properties\": {\n        \"dtype\": \"category\",\n        \"num_unique_values\": 3,\n        \"samples\": [\n          \"Up\",\n          \"Flat\"\n        ],\n        \"semantic_type\": \"\",\n        \"description\": \"\"\n      }\n    },\n    {\n      \"column\": \"HeartDisease\",\n      \"properties\": {\n        \"dtype\": \"number\",\n        \"std\": 0.4973654889019215,\n        \"min\": 0.0,\n        \"max\": 1.0,\n        \"num_unique_values\": 2,\n        \"samples\": [\n          1.0,\n          0.0\n        ],\n        \"semantic_type\": \"\",\n        \"description\": \"\"\n      }\n    }\n  ]\n}"
            }
          },
          "metadata": {},
          "execution_count": 10
        }
      ]
    },
    {
      "cell_type": "markdown",
      "source": [
        "### Data Info :"
      ],
      "metadata": {
        "id": "lX27Vbqhiodz"
      }
    },
    {
      "cell_type": "code",
      "source": [
        "data.shape"
      ],
      "metadata": {
        "execution": {
          "iopub.status.busy": "2022-10-25T12:54:48.558866Z",
          "iopub.execute_input": "2022-10-25T12:54:48.559274Z",
          "iopub.status.idle": "2022-10-25T12:54:48.568229Z",
          "shell.execute_reply.started": "2022-10-25T12:54:48.559238Z",
          "shell.execute_reply": "2022-10-25T12:54:48.566661Z"
        },
        "trusted": true,
        "colab": {
          "base_uri": "https://localhost:8080/"
        },
        "id": "lPTC1aNRiodz",
        "outputId": "a2090568-4647-4a8a-9e02-3a7890ef0dbd"
      },
      "execution_count": 30,
      "outputs": [
        {
          "output_type": "execute_result",
          "data": {
            "text/plain": [
              "(910, 12)"
            ]
          },
          "metadata": {},
          "execution_count": 30
        }
      ]
    },
    {
      "cell_type": "code",
      "source": [
        "data.columns"
      ],
      "metadata": {
        "execution": {
          "iopub.status.busy": "2022-10-25T12:54:48.570154Z",
          "iopub.execute_input": "2022-10-25T12:54:48.570535Z",
          "iopub.status.idle": "2022-10-25T12:54:48.580511Z",
          "shell.execute_reply.started": "2022-10-25T12:54:48.5705Z",
          "shell.execute_reply": "2022-10-25T12:54:48.579178Z"
        },
        "trusted": true,
        "colab": {
          "base_uri": "https://localhost:8080/"
        },
        "id": "IQs5QJTgiodz",
        "outputId": "2f9a4e6f-7fc8-4407-ca32-4dc74808aa7a"
      },
      "execution_count": 12,
      "outputs": [
        {
          "output_type": "execute_result",
          "data": {
            "text/plain": [
              "Index(['Age', 'Sex', 'ChestPainType', 'RestingBP', 'Cholesterol', 'FastingBS',\n",
              "       'RestingECG', 'MaxHR', 'ExerciseAngina', 'Oldpeak', 'ST_Slope',\n",
              "       'HeartDisease'],\n",
              "      dtype='object')"
            ]
          },
          "metadata": {},
          "execution_count": 12
        }
      ]
    },
    {
      "cell_type": "code",
      "source": [
        "data.info()"
      ],
      "metadata": {
        "execution": {
          "iopub.status.busy": "2022-10-25T12:54:48.58353Z",
          "iopub.execute_input": "2022-10-25T12:54:48.584363Z",
          "iopub.status.idle": "2022-10-25T12:54:48.612571Z",
          "shell.execute_reply.started": "2022-10-25T12:54:48.584323Z",
          "shell.execute_reply": "2022-10-25T12:54:48.611623Z"
        },
        "trusted": true,
        "colab": {
          "base_uri": "https://localhost:8080/"
        },
        "id": "38wCzJhyiodz",
        "outputId": "15668d6c-d78a-47ff-ea9d-9f2557876eb0"
      },
      "execution_count": 13,
      "outputs": [
        {
          "output_type": "stream",
          "name": "stdout",
          "text": [
            "<class 'pandas.core.frame.DataFrame'>\n",
            "RangeIndex: 918 entries, 0 to 917\n",
            "Data columns (total 12 columns):\n",
            " #   Column          Non-Null Count  Dtype  \n",
            "---  ------          --------------  -----  \n",
            " 0   Age             900 non-null    float64\n",
            " 1   Sex             918 non-null    object \n",
            " 2   ChestPainType   905 non-null    object \n",
            " 3   RestingBP       918 non-null    int64  \n",
            " 4   Cholesterol     909 non-null    float64\n",
            " 5   FastingBS       918 non-null    int64  \n",
            " 6   RestingECG      918 non-null    object \n",
            " 7   MaxHR           918 non-null    int64  \n",
            " 8   ExerciseAngina  918 non-null    object \n",
            " 9   Oldpeak         918 non-null    float64\n",
            " 10  ST_Slope        918 non-null    object \n",
            " 11  HeartDisease    910 non-null    float64\n",
            "dtypes: float64(4), int64(3), object(5)\n",
            "memory usage: 86.2+ KB\n"
          ]
        }
      ]
    },
    {
      "cell_type": "code",
      "source": [
        "data.isnull().sum()"
      ],
      "metadata": {
        "colab": {
          "base_uri": "https://localhost:8080/"
        },
        "id": "Tt4qW8-r3ibJ",
        "outputId": "1239d2e0-7e2e-4f01-8d76-84e0bf6aa991"
      },
      "execution_count": 14,
      "outputs": [
        {
          "output_type": "execute_result",
          "data": {
            "text/plain": [
              "Age               18\n",
              "Sex                0\n",
              "ChestPainType     13\n",
              "RestingBP          0\n",
              "Cholesterol        9\n",
              "FastingBS          0\n",
              "RestingECG         0\n",
              "MaxHR              0\n",
              "ExerciseAngina     0\n",
              "Oldpeak            0\n",
              "ST_Slope           0\n",
              "HeartDisease       8\n",
              "dtype: int64"
            ]
          },
          "metadata": {},
          "execution_count": 14
        }
      ]
    },
    {
      "cell_type": "code",
      "source": [
        "data.head()"
      ],
      "metadata": {
        "colab": {
          "base_uri": "https://localhost:8080/",
          "height": 226
        },
        "id": "PsOnKJgn5D9_",
        "outputId": "b9c1ca1f-344f-415a-d2c3-3a6feabc6fa8"
      },
      "execution_count": 19,
      "outputs": [
        {
          "output_type": "execute_result",
          "data": {
            "text/plain": [
              "    Age Sex ChestPainType  RestingBP  Cholesterol  FastingBS RestingECG  \\\n",
              "0  40.0   M           ATA        140        289.0          0     Normal   \n",
              "1  49.0   F           NAP        160        180.0          0     Normal   \n",
              "2  37.0   M           ATA        130        283.0          0         ST   \n",
              "3  48.0   F           ASY        138        214.0          0     Normal   \n",
              "4  54.0   M           NAP        150        195.0          0     Normal   \n",
              "\n",
              "   MaxHR ExerciseAngina  Oldpeak ST_Slope  HeartDisease  \n",
              "0    172              N      0.0       Up           0.0  \n",
              "1    156              N      1.0     Flat           1.0  \n",
              "2     98              N      0.0       Up           0.0  \n",
              "3    108              Y      1.5     Flat           1.0  \n",
              "4    122              N      0.0       Up           0.0  "
            ],
            "text/html": [
              "\n",
              "  <div id=\"df-e6dd4b4e-e6c1-4beb-8f36-df198e0c5860\" class=\"colab-df-container\">\n",
              "    <div>\n",
              "<style scoped>\n",
              "    .dataframe tbody tr th:only-of-type {\n",
              "        vertical-align: middle;\n",
              "    }\n",
              "\n",
              "    .dataframe tbody tr th {\n",
              "        vertical-align: top;\n",
              "    }\n",
              "\n",
              "    .dataframe thead th {\n",
              "        text-align: right;\n",
              "    }\n",
              "</style>\n",
              "<table border=\"1\" class=\"dataframe\">\n",
              "  <thead>\n",
              "    <tr style=\"text-align: right;\">\n",
              "      <th></th>\n",
              "      <th>Age</th>\n",
              "      <th>Sex</th>\n",
              "      <th>ChestPainType</th>\n",
              "      <th>RestingBP</th>\n",
              "      <th>Cholesterol</th>\n",
              "      <th>FastingBS</th>\n",
              "      <th>RestingECG</th>\n",
              "      <th>MaxHR</th>\n",
              "      <th>ExerciseAngina</th>\n",
              "      <th>Oldpeak</th>\n",
              "      <th>ST_Slope</th>\n",
              "      <th>HeartDisease</th>\n",
              "    </tr>\n",
              "  </thead>\n",
              "  <tbody>\n",
              "    <tr>\n",
              "      <th>0</th>\n",
              "      <td>40.0</td>\n",
              "      <td>M</td>\n",
              "      <td>ATA</td>\n",
              "      <td>140</td>\n",
              "      <td>289.0</td>\n",
              "      <td>0</td>\n",
              "      <td>Normal</td>\n",
              "      <td>172</td>\n",
              "      <td>N</td>\n",
              "      <td>0.0</td>\n",
              "      <td>Up</td>\n",
              "      <td>0.0</td>\n",
              "    </tr>\n",
              "    <tr>\n",
              "      <th>1</th>\n",
              "      <td>49.0</td>\n",
              "      <td>F</td>\n",
              "      <td>NAP</td>\n",
              "      <td>160</td>\n",
              "      <td>180.0</td>\n",
              "      <td>0</td>\n",
              "      <td>Normal</td>\n",
              "      <td>156</td>\n",
              "      <td>N</td>\n",
              "      <td>1.0</td>\n",
              "      <td>Flat</td>\n",
              "      <td>1.0</td>\n",
              "    </tr>\n",
              "    <tr>\n",
              "      <th>2</th>\n",
              "      <td>37.0</td>\n",
              "      <td>M</td>\n",
              "      <td>ATA</td>\n",
              "      <td>130</td>\n",
              "      <td>283.0</td>\n",
              "      <td>0</td>\n",
              "      <td>ST</td>\n",
              "      <td>98</td>\n",
              "      <td>N</td>\n",
              "      <td>0.0</td>\n",
              "      <td>Up</td>\n",
              "      <td>0.0</td>\n",
              "    </tr>\n",
              "    <tr>\n",
              "      <th>3</th>\n",
              "      <td>48.0</td>\n",
              "      <td>F</td>\n",
              "      <td>ASY</td>\n",
              "      <td>138</td>\n",
              "      <td>214.0</td>\n",
              "      <td>0</td>\n",
              "      <td>Normal</td>\n",
              "      <td>108</td>\n",
              "      <td>Y</td>\n",
              "      <td>1.5</td>\n",
              "      <td>Flat</td>\n",
              "      <td>1.0</td>\n",
              "    </tr>\n",
              "    <tr>\n",
              "      <th>4</th>\n",
              "      <td>54.0</td>\n",
              "      <td>M</td>\n",
              "      <td>NAP</td>\n",
              "      <td>150</td>\n",
              "      <td>195.0</td>\n",
              "      <td>0</td>\n",
              "      <td>Normal</td>\n",
              "      <td>122</td>\n",
              "      <td>N</td>\n",
              "      <td>0.0</td>\n",
              "      <td>Up</td>\n",
              "      <td>0.0</td>\n",
              "    </tr>\n",
              "  </tbody>\n",
              "</table>\n",
              "</div>\n",
              "    <div class=\"colab-df-buttons\">\n",
              "\n",
              "  <div class=\"colab-df-container\">\n",
              "    <button class=\"colab-df-convert\" onclick=\"convertToInteractive('df-e6dd4b4e-e6c1-4beb-8f36-df198e0c5860')\"\n",
              "            title=\"Convert this dataframe to an interactive table.\"\n",
              "            style=\"display:none;\">\n",
              "\n",
              "  <svg xmlns=\"http://www.w3.org/2000/svg\" height=\"24px\" viewBox=\"0 -960 960 960\">\n",
              "    <path d=\"M120-120v-720h720v720H120Zm60-500h600v-160H180v160Zm220 220h160v-160H400v160Zm0 220h160v-160H400v160ZM180-400h160v-160H180v160Zm440 0h160v-160H620v160ZM180-180h160v-160H180v160Zm440 0h160v-160H620v160Z\"/>\n",
              "  </svg>\n",
              "    </button>\n",
              "\n",
              "  <style>\n",
              "    .colab-df-container {\n",
              "      display:flex;\n",
              "      gap: 12px;\n",
              "    }\n",
              "\n",
              "    .colab-df-convert {\n",
              "      background-color: #E8F0FE;\n",
              "      border: none;\n",
              "      border-radius: 50%;\n",
              "      cursor: pointer;\n",
              "      display: none;\n",
              "      fill: #1967D2;\n",
              "      height: 32px;\n",
              "      padding: 0 0 0 0;\n",
              "      width: 32px;\n",
              "    }\n",
              "\n",
              "    .colab-df-convert:hover {\n",
              "      background-color: #E2EBFA;\n",
              "      box-shadow: 0px 1px 2px rgba(60, 64, 67, 0.3), 0px 1px 3px 1px rgba(60, 64, 67, 0.15);\n",
              "      fill: #174EA6;\n",
              "    }\n",
              "\n",
              "    .colab-df-buttons div {\n",
              "      margin-bottom: 4px;\n",
              "    }\n",
              "\n",
              "    [theme=dark] .colab-df-convert {\n",
              "      background-color: #3B4455;\n",
              "      fill: #D2E3FC;\n",
              "    }\n",
              "\n",
              "    [theme=dark] .colab-df-convert:hover {\n",
              "      background-color: #434B5C;\n",
              "      box-shadow: 0px 1px 3px 1px rgba(0, 0, 0, 0.15);\n",
              "      filter: drop-shadow(0px 1px 2px rgba(0, 0, 0, 0.3));\n",
              "      fill: #FFFFFF;\n",
              "    }\n",
              "  </style>\n",
              "\n",
              "    <script>\n",
              "      const buttonEl =\n",
              "        document.querySelector('#df-e6dd4b4e-e6c1-4beb-8f36-df198e0c5860 button.colab-df-convert');\n",
              "      buttonEl.style.display =\n",
              "        google.colab.kernel.accessAllowed ? 'block' : 'none';\n",
              "\n",
              "      async function convertToInteractive(key) {\n",
              "        const element = document.querySelector('#df-e6dd4b4e-e6c1-4beb-8f36-df198e0c5860');\n",
              "        const dataTable =\n",
              "          await google.colab.kernel.invokeFunction('convertToInteractive',\n",
              "                                                    [key], {});\n",
              "        if (!dataTable) return;\n",
              "\n",
              "        const docLinkHtml = 'Like what you see? Visit the ' +\n",
              "          '<a target=\"_blank\" href=https://colab.research.google.com/notebooks/data_table.ipynb>data table notebook</a>'\n",
              "          + ' to learn more about interactive tables.';\n",
              "        element.innerHTML = '';\n",
              "        dataTable['output_type'] = 'display_data';\n",
              "        await google.colab.output.renderOutput(dataTable, element);\n",
              "        const docLink = document.createElement('div');\n",
              "        docLink.innerHTML = docLinkHtml;\n",
              "        element.appendChild(docLink);\n",
              "      }\n",
              "    </script>\n",
              "  </div>\n",
              "\n",
              "\n",
              "<div id=\"df-23469c95-52e6-4c08-bdfc-74a3aeed7cbd\">\n",
              "  <button class=\"colab-df-quickchart\" onclick=\"quickchart('df-23469c95-52e6-4c08-bdfc-74a3aeed7cbd')\"\n",
              "            title=\"Suggest charts\"\n",
              "            style=\"display:none;\">\n",
              "\n",
              "<svg xmlns=\"http://www.w3.org/2000/svg\" height=\"24px\"viewBox=\"0 0 24 24\"\n",
              "     width=\"24px\">\n",
              "    <g>\n",
              "        <path d=\"M19 3H5c-1.1 0-2 .9-2 2v14c0 1.1.9 2 2 2h14c1.1 0 2-.9 2-2V5c0-1.1-.9-2-2-2zM9 17H7v-7h2v7zm4 0h-2V7h2v10zm4 0h-2v-4h2v4z\"/>\n",
              "    </g>\n",
              "</svg>\n",
              "  </button>\n",
              "\n",
              "<style>\n",
              "  .colab-df-quickchart {\n",
              "      --bg-color: #E8F0FE;\n",
              "      --fill-color: #1967D2;\n",
              "      --hover-bg-color: #E2EBFA;\n",
              "      --hover-fill-color: #174EA6;\n",
              "      --disabled-fill-color: #AAA;\n",
              "      --disabled-bg-color: #DDD;\n",
              "  }\n",
              "\n",
              "  [theme=dark] .colab-df-quickchart {\n",
              "      --bg-color: #3B4455;\n",
              "      --fill-color: #D2E3FC;\n",
              "      --hover-bg-color: #434B5C;\n",
              "      --hover-fill-color: #FFFFFF;\n",
              "      --disabled-bg-color: #3B4455;\n",
              "      --disabled-fill-color: #666;\n",
              "  }\n",
              "\n",
              "  .colab-df-quickchart {\n",
              "    background-color: var(--bg-color);\n",
              "    border: none;\n",
              "    border-radius: 50%;\n",
              "    cursor: pointer;\n",
              "    display: none;\n",
              "    fill: var(--fill-color);\n",
              "    height: 32px;\n",
              "    padding: 0;\n",
              "    width: 32px;\n",
              "  }\n",
              "\n",
              "  .colab-df-quickchart:hover {\n",
              "    background-color: var(--hover-bg-color);\n",
              "    box-shadow: 0 1px 2px rgba(60, 64, 67, 0.3), 0 1px 3px 1px rgba(60, 64, 67, 0.15);\n",
              "    fill: var(--button-hover-fill-color);\n",
              "  }\n",
              "\n",
              "  .colab-df-quickchart-complete:disabled,\n",
              "  .colab-df-quickchart-complete:disabled:hover {\n",
              "    background-color: var(--disabled-bg-color);\n",
              "    fill: var(--disabled-fill-color);\n",
              "    box-shadow: none;\n",
              "  }\n",
              "\n",
              "  .colab-df-spinner {\n",
              "    border: 2px solid var(--fill-color);\n",
              "    border-color: transparent;\n",
              "    border-bottom-color: var(--fill-color);\n",
              "    animation:\n",
              "      spin 1s steps(1) infinite;\n",
              "  }\n",
              "\n",
              "  @keyframes spin {\n",
              "    0% {\n",
              "      border-color: transparent;\n",
              "      border-bottom-color: var(--fill-color);\n",
              "      border-left-color: var(--fill-color);\n",
              "    }\n",
              "    20% {\n",
              "      border-color: transparent;\n",
              "      border-left-color: var(--fill-color);\n",
              "      border-top-color: var(--fill-color);\n",
              "    }\n",
              "    30% {\n",
              "      border-color: transparent;\n",
              "      border-left-color: var(--fill-color);\n",
              "      border-top-color: var(--fill-color);\n",
              "      border-right-color: var(--fill-color);\n",
              "    }\n",
              "    40% {\n",
              "      border-color: transparent;\n",
              "      border-right-color: var(--fill-color);\n",
              "      border-top-color: var(--fill-color);\n",
              "    }\n",
              "    60% {\n",
              "      border-color: transparent;\n",
              "      border-right-color: var(--fill-color);\n",
              "    }\n",
              "    80% {\n",
              "      border-color: transparent;\n",
              "      border-right-color: var(--fill-color);\n",
              "      border-bottom-color: var(--fill-color);\n",
              "    }\n",
              "    90% {\n",
              "      border-color: transparent;\n",
              "      border-bottom-color: var(--fill-color);\n",
              "    }\n",
              "  }\n",
              "</style>\n",
              "\n",
              "  <script>\n",
              "    async function quickchart(key) {\n",
              "      const quickchartButtonEl =\n",
              "        document.querySelector('#' + key + ' button');\n",
              "      quickchartButtonEl.disabled = true;  // To prevent multiple clicks.\n",
              "      quickchartButtonEl.classList.add('colab-df-spinner');\n",
              "      try {\n",
              "        const charts = await google.colab.kernel.invokeFunction(\n",
              "            'suggestCharts', [key], {});\n",
              "      } catch (error) {\n",
              "        console.error('Error during call to suggestCharts:', error);\n",
              "      }\n",
              "      quickchartButtonEl.classList.remove('colab-df-spinner');\n",
              "      quickchartButtonEl.classList.add('colab-df-quickchart-complete');\n",
              "    }\n",
              "    (() => {\n",
              "      let quickchartButtonEl =\n",
              "        document.querySelector('#df-23469c95-52e6-4c08-bdfc-74a3aeed7cbd button');\n",
              "      quickchartButtonEl.style.display =\n",
              "        google.colab.kernel.accessAllowed ? 'block' : 'none';\n",
              "    })();\n",
              "  </script>\n",
              "</div>\n",
              "\n",
              "    </div>\n",
              "  </div>\n"
            ],
            "application/vnd.google.colaboratory.intrinsic+json": {
              "type": "dataframe",
              "variable_name": "data",
              "summary": "{\n  \"name\": \"data\",\n  \"rows\": 918,\n  \"fields\": [\n    {\n      \"column\": \"Age\",\n      \"properties\": {\n        \"dtype\": \"number\",\n        \"std\": 9.32206023254947,\n        \"min\": 28.0,\n        \"max\": 77.0,\n        \"num_unique_values\": 51,\n        \"samples\": [\n          67.0,\n          72.0,\n          70.0\n        ],\n        \"semantic_type\": \"\",\n        \"description\": \"\"\n      }\n    },\n    {\n      \"column\": \"Sex\",\n      \"properties\": {\n        \"dtype\": \"category\",\n        \"num_unique_values\": 2,\n        \"samples\": [\n          \"F\",\n          \"M\"\n        ],\n        \"semantic_type\": \"\",\n        \"description\": \"\"\n      }\n    },\n    {\n      \"column\": \"ChestPainType\",\n      \"properties\": {\n        \"dtype\": \"category\",\n        \"num_unique_values\": 4,\n        \"samples\": [\n          \"NAP\",\n          \"TA\"\n        ],\n        \"semantic_type\": \"\",\n        \"description\": \"\"\n      }\n    },\n    {\n      \"column\": \"RestingBP\",\n      \"properties\": {\n        \"dtype\": \"number\",\n        \"std\": 18,\n        \"min\": 0,\n        \"max\": 200,\n        \"num_unique_values\": 67,\n        \"samples\": [\n          165,\n          118\n        ],\n        \"semantic_type\": \"\",\n        \"description\": \"\"\n      }\n    },\n    {\n      \"column\": \"Cholesterol\",\n      \"properties\": {\n        \"dtype\": \"number\",\n        \"std\": 109.68824084491614,\n        \"min\": 0.0,\n        \"max\": 603.0,\n        \"num_unique_values\": 222,\n        \"samples\": [\n          344.0,\n          321.0\n        ],\n        \"semantic_type\": \"\",\n        \"description\": \"\"\n      }\n    },\n    {\n      \"column\": \"FastingBS\",\n      \"properties\": {\n        \"dtype\": \"number\",\n        \"std\": 0,\n        \"min\": 0,\n        \"max\": 1,\n        \"num_unique_values\": 2,\n        \"samples\": [\n          1,\n          0\n        ],\n        \"semantic_type\": \"\",\n        \"description\": \"\"\n      }\n    },\n    {\n      \"column\": \"RestingECG\",\n      \"properties\": {\n        \"dtype\": \"category\",\n        \"num_unique_values\": 3,\n        \"samples\": [\n          \"Normal\",\n          \"ST\"\n        ],\n        \"semantic_type\": \"\",\n        \"description\": \"\"\n      }\n    },\n    {\n      \"column\": \"MaxHR\",\n      \"properties\": {\n        \"dtype\": \"number\",\n        \"std\": 25,\n        \"min\": 60,\n        \"max\": 202,\n        \"num_unique_values\": 119,\n        \"samples\": [\n          132,\n          157\n        ],\n        \"semantic_type\": \"\",\n        \"description\": \"\"\n      }\n    },\n    {\n      \"column\": \"ExerciseAngina\",\n      \"properties\": {\n        \"dtype\": \"category\",\n        \"num_unique_values\": 2,\n        \"samples\": [\n          \"Y\",\n          \"N\"\n        ],\n        \"semantic_type\": \"\",\n        \"description\": \"\"\n      }\n    },\n    {\n      \"column\": \"Oldpeak\",\n      \"properties\": {\n        \"dtype\": \"number\",\n        \"std\": 1.0665701510493257,\n        \"min\": -2.6,\n        \"max\": 6.2,\n        \"num_unique_values\": 53,\n        \"samples\": [\n          1.3,\n          0.6\n        ],\n        \"semantic_type\": \"\",\n        \"description\": \"\"\n      }\n    },\n    {\n      \"column\": \"ST_Slope\",\n      \"properties\": {\n        \"dtype\": \"category\",\n        \"num_unique_values\": 3,\n        \"samples\": [\n          \"Up\",\n          \"Flat\"\n        ],\n        \"semantic_type\": \"\",\n        \"description\": \"\"\n      }\n    },\n    {\n      \"column\": \"HeartDisease\",\n      \"properties\": {\n        \"dtype\": \"number\",\n        \"std\": 0.4973654889019215,\n        \"min\": 0.0,\n        \"max\": 1.0,\n        \"num_unique_values\": 2,\n        \"samples\": [\n          1.0,\n          0.0\n        ],\n        \"semantic_type\": \"\",\n        \"description\": \"\"\n      }\n    }\n  ]\n}"
            }
          },
          "metadata": {},
          "execution_count": 19
        }
      ]
    },
    {
      "cell_type": "markdown",
      "source": [
        "Dealing with Misssing Values in the Dataset: There are two ways:\n",
        "1. **Remove the missing values in the dataset**: If the missing values are a small proportion of your dataset, you may choose to remove the rows or columns containing them. This can be done using the dropna() function in pandas.\n",
        "2. **Imputing the dataset**: Replace missing values with a suitable estimate. Common methods include:\n",
        "  * Mean/Median Imputation: Replace missing values with the mean or\n",
        "median of the column.\n",
        "  * Mode Imputation: Replace missing values with the mode (most frequent value) of the column.\n",
        "  * Custom Imputation: Use domain knowledge or other statistical methods to impute missing values.\n",
        "\n",
        "\n",
        "\n",
        "\n"
      ],
      "metadata": {
        "id": "ZQETovDvfrpi"
      }
    },
    {
      "cell_type": "code",
      "source": [
        "#Replacing the missing values into the mean of the dataset.\n",
        "data['Age'] = data['Age'].fillna(data['Age'].mean()) # fill for train DF\n",
        "data['Cholesterol'] = data['Cholesterol'].fillna(data['Cholesterol'].mean())"
      ],
      "metadata": {
        "id": "vLBOUN2d6KtT"
      },
      "execution_count": 23,
      "outputs": []
    },
    {
      "cell_type": "code",
      "source": [
        "#Finding the number of O's and number of 1's\n",
        "pd.DataFrame(data['ChestPainType']).value_counts().plot(kind = 'bar')"
      ],
      "metadata": {
        "colab": {
          "base_uri": "https://localhost:8080/",
          "height": 497
        },
        "id": "4jbrgYYqvtoC",
        "outputId": "052f3a3a-9899-446b-8074-1f532a4b9d4f"
      },
      "execution_count": 20,
      "outputs": [
        {
          "output_type": "execute_result",
          "data": {
            "text/plain": [
              "<Axes: xlabel='ChestPainType'>"
            ]
          },
          "metadata": {},
          "execution_count": 20
        },
        {
          "output_type": "display_data",
          "data": {
            "text/plain": [
              "<Figure size 640x480 with 1 Axes>"
            ],
            "image/png": "[encoded data removed]"
          },
          "metadata": {}
        }
      ]
    },
    {
      "cell_type": "code",
      "source": [
        "#Filling the ChestPainType parameter with the most common value for the parameter.\n",
        "data['ChestPainType']=data['ChestPainType'].fillna('ASY')"
      ],
      "metadata": {
        "id": "5lpcOizqv9oa"
      },
      "execution_count": 21,
      "outputs": []
    },
    {
      "cell_type": "code",
      "source": [
        "data['HeartDisease'] = data['HeartDisease'].dropna()"
      ],
      "metadata": {
        "colab": {
          "base_uri": "https://localhost:8080/"
        },
        "id": "waopE5uVwk35",
        "outputId": "9ab69a76-cecb-446e-829e-624a670f44c5"
      },
      "execution_count": 29,
      "outputs": [
        {
          "output_type": "stream",
          "name": "stderr",
          "text": [
            "<ipython-input-29-59dd86a17b6f>:1: SettingWithCopyWarning: \n",
            "A value is trying to be set on a copy of a slice from a DataFrame.\n",
            "Try using .loc[row_indexer,col_indexer] = value instead\n",
            "\n",
            "See the caveats in the documentation: https://pandas.pydata.org/pandas-docs/stable/user_guide/indexing.html#returning-a-view-versus-a-copy\n",
            "  data['HeartDisease'] = data['HeartDisease'].dropna()\n"
          ]
        }
      ]
    },
    {
      "cell_type": "code",
      "source": [
        "data.shape"
      ],
      "metadata": {
        "id": "4ObHR0cqxlxf"
      },
      "execution_count": null,
      "outputs": []
    },
    {
      "cell_type": "code",
      "source": [
        "#Check the NAs in dataset for Age\n",
        "data.isnull().sum()"
      ],
      "metadata": {
        "colab": {
          "base_uri": "https://localhost:8080/"
        },
        "id": "THM2hG176SGu",
        "outputId": "9a4d6f2b-dd2d-44ec-ddb2-d5f2bf281380"
      },
      "execution_count": 28,
      "outputs": [
        {
          "output_type": "execute_result",
          "data": {
            "text/plain": [
              "Age               0\n",
              "Sex               0\n",
              "ChestPainType     0\n",
              "RestingBP         0\n",
              "Cholesterol       0\n",
              "FastingBS         0\n",
              "RestingECG        0\n",
              "MaxHR             0\n",
              "ExerciseAngina    0\n",
              "Oldpeak           0\n",
              "ST_Slope          0\n",
              "HeartDisease      0\n",
              "dtype: int64"
            ]
          },
          "metadata": {},
          "execution_count": 28
        }
      ]
    },
    {
      "cell_type": "code",
      "source": [
        "data.describe().T"
      ],
      "metadata": {
        "execution": {
          "iopub.status.busy": "2022-10-25T12:54:48.933194Z",
          "iopub.execute_input": "2022-10-25T12:54:48.93453Z",
          "iopub.status.idle": "2022-10-25T12:54:48.975531Z",
          "shell.execute_reply.started": "2022-10-25T12:54:48.93447Z",
          "shell.execute_reply": "2022-10-25T12:54:48.973213Z"
        },
        "trusted": true,
        "colab": {
          "base_uri": "https://localhost:8080/",
          "height": 425
        },
        "id": "7bNRlDT0iodz",
        "outputId": "025ae7a3-1578-4496-9124-e1107f020f9b"
      },
      "execution_count": 13,
      "outputs": [
        {
          "output_type": "execute_result",
          "data": {
            "text/plain": [
              "          count        mean        std    min    25%    50%    75%    max\n",
              "age       989.0   54.395727   9.029364   29.0   48.0   56.0   61.0   77.0\n",
              "cp        989.0    0.954499   1.033327    0.0    0.0    1.0    2.0    3.0\n",
              "trestbps  989.0  131.784631  17.618113   94.0  120.0  130.0  140.0  200.0\n",
              "chol      989.0  245.511628  51.606000  126.0  211.0  239.0  275.0  564.0\n",
              "restecg   989.0    0.529828   0.526975    0.0    0.0    1.0    1.0    2.0\n",
              "thalach   989.0  149.683003  22.401327   71.0  136.0  152.0  165.0  202.0\n",
              "exang     989.0    0.331648   0.471044    0.0    0.0    0.0    1.0    1.0\n",
              "oldpeak   989.0    1.068807   1.175537    0.0    0.0    0.8    1.8    6.2\n",
              "slope     989.0    1.389058   0.619032    0.0    1.0    1.0    2.0    2.0\n",
              "ca        989.0    0.742164   1.022644    0.0    0.0    0.0    1.0    4.0\n",
              "thal      989.0    2.321537   0.618336    0.0    2.0    2.0    3.0    3.0\n",
              "target    985.0    0.516751   0.499973    0.0    0.0    1.0    1.0    1.0"
            ],
            "text/html": [
              "\n",
              "  <div id=\"df-67c514f7-f4fa-4fd2-97f7-a7528a969b3f\" class=\"colab-df-container\">\n",
              "    <div>\n",
              "<style scoped>\n",
              "    .dataframe tbody tr th:only-of-type {\n",
              "        vertical-align: middle;\n",
              "    }\n",
              "\n",
              "    .dataframe tbody tr th {\n",
              "        vertical-align: top;\n",
              "    }\n",
              "\n",
              "    .dataframe thead th {\n",
              "        text-align: right;\n",
              "    }\n",
              "</style>\n",
              "<table border=\"1\" class=\"dataframe\">\n",
              "  <thead>\n",
              "    <tr style=\"text-align: right;\">\n",
              "      <th></th>\n",
              "      <th>count</th>\n",
              "      <th>mean</th>\n",
              "      <th>std</th>\n",
              "      <th>min</th>\n",
              "      <th>25%</th>\n",
              "      <th>50%</th>\n",
              "      <th>75%</th>\n",
              "      <th>max</th>\n",
              "    </tr>\n",
              "  </thead>\n",
              "  <tbody>\n",
              "    <tr>\n",
              "      <th>age</th>\n",
              "      <td>989.0</td>\n",
              "      <td>54.395727</td>\n",
              "      <td>9.029364</td>\n",
              "      <td>29.0</td>\n",
              "      <td>48.0</td>\n",
              "      <td>56.0</td>\n",
              "      <td>61.0</td>\n",
              "      <td>77.0</td>\n",
              "    </tr>\n",
              "    <tr>\n",
              "      <th>cp</th>\n",
              "      <td>989.0</td>\n",
              "      <td>0.954499</td>\n",
              "      <td>1.033327</td>\n",
              "      <td>0.0</td>\n",
              "      <td>0.0</td>\n",
              "      <td>1.0</td>\n",
              "      <td>2.0</td>\n",
              "      <td>3.0</td>\n",
              "    </tr>\n",
              "    <tr>\n",
              "      <th>trestbps</th>\n",
              "      <td>989.0</td>\n",
              "      <td>131.784631</td>\n",
              "      <td>17.618113</td>\n",
              "      <td>94.0</td>\n",
              "      <td>120.0</td>\n",
              "      <td>130.0</td>\n",
              "      <td>140.0</td>\n",
              "      <td>200.0</td>\n",
              "    </tr>\n",
              "    <tr>\n",
              "      <th>chol</th>\n",
              "      <td>989.0</td>\n",
              "      <td>245.511628</td>\n",
              "      <td>51.606000</td>\n",
              "      <td>126.0</td>\n",
              "      <td>211.0</td>\n",
              "      <td>239.0</td>\n",
              "      <td>275.0</td>\n",
              "      <td>564.0</td>\n",
              "    </tr>\n",
              "    <tr>\n",
              "      <th>restecg</th>\n",
              "      <td>989.0</td>\n",
              "      <td>0.529828</td>\n",
              "      <td>0.526975</td>\n",
              "      <td>0.0</td>\n",
              "      <td>0.0</td>\n",
              "      <td>1.0</td>\n",
              "      <td>1.0</td>\n",
              "      <td>2.0</td>\n",
              "    </tr>\n",
              "    <tr>\n",
              "      <th>thalach</th>\n",
              "      <td>989.0</td>\n",
              "      <td>149.683003</td>\n",
              "      <td>22.401327</td>\n",
              "      <td>71.0</td>\n",
              "      <td>136.0</td>\n",
              "      <td>152.0</td>\n",
              "      <td>165.0</td>\n",
              "      <td>202.0</td>\n",
              "    </tr>\n",
              "    <tr>\n",
              "      <th>exang</th>\n",
              "      <td>989.0</td>\n",
              "      <td>0.331648</td>\n",
              "      <td>0.471044</td>\n",
              "      <td>0.0</td>\n",
              "      <td>0.0</td>\n",
              "      <td>0.0</td>\n",
              "      <td>1.0</td>\n",
              "      <td>1.0</td>\n",
              "    </tr>\n",
              "    <tr>\n",
              "      <th>oldpeak</th>\n",
              "      <td>989.0</td>\n",
              "      <td>1.068807</td>\n",
              "      <td>1.175537</td>\n",
              "      <td>0.0</td>\n",
              "      <td>0.0</td>\n",
              "      <td>0.8</td>\n",
              "      <td>1.8</td>\n",
              "      <td>6.2</td>\n",
              "    </tr>\n",
              "    <tr>\n",
              "      <th>slope</th>\n",
              "      <td>989.0</td>\n",
              "      <td>1.389058</td>\n",
              "      <td>0.619032</td>\n",
              "      <td>0.0</td>\n",
              "      <td>1.0</td>\n",
              "      <td>1.0</td>\n",
              "      <td>2.0</td>\n",
              "      <td>2.0</td>\n",
              "    </tr>\n",
              "    <tr>\n",
              "      <th>ca</th>\n",
              "      <td>989.0</td>\n",
              "      <td>0.742164</td>\n",
              "      <td>1.022644</td>\n",
              "      <td>0.0</td>\n",
              "      <td>0.0</td>\n",
              "      <td>0.0</td>\n",
              "      <td>1.0</td>\n",
              "      <td>4.0</td>\n",
              "    </tr>\n",
              "    <tr>\n",
              "      <th>thal</th>\n",
              "      <td>989.0</td>\n",
              "      <td>2.321537</td>\n",
              "      <td>0.618336</td>\n",
              "      <td>0.0</td>\n",
              "      <td>2.0</td>\n",
              "      <td>2.0</td>\n",
              "      <td>3.0</td>\n",
              "      <td>3.0</td>\n",
              "    </tr>\n",
              "    <tr>\n",
              "      <th>target</th>\n",
              "      <td>985.0</td>\n",
              "      <td>0.516751</td>\n",
              "      <td>0.499973</td>\n",
              "      <td>0.0</td>\n",
              "      <td>0.0</td>\n",
              "      <td>1.0</td>\n",
              "      <td>1.0</td>\n",
              "      <td>1.0</td>\n",
              "    </tr>\n",
              "  </tbody>\n",
              "</table>\n",
              "</div>\n",
              "    <div class=\"colab-df-buttons\">\n",
              "\n",
              "  <div class=\"colab-df-container\">\n",
              "    <button class=\"colab-df-convert\" onclick=\"convertToInteractive('df-67c514f7-f4fa-4fd2-97f7-a7528a969b3f')\"\n",
              "            title=\"Convert this dataframe to an interactive table.\"\n",
              "            style=\"display:none;\">\n",
              "\n",
              "  <svg xmlns=\"http://www.w3.org/2000/svg\" height=\"24px\" viewBox=\"0 -960 960 960\">\n",
              "    <path d=\"M120-120v-720h720v720H120Zm60-500h600v-160H180v160Zm220 220h160v-160H400v160Zm0 220h160v-160H400v160ZM180-400h160v-160H180v160Zm440 0h160v-160H620v160ZM180-180h160v-160H180v160Zm440 0h160v-160H620v160Z\"/>\n",
              "  </svg>\n",
              "    </button>\n",
              "\n",
              "  <style>\n",
              "    .colab-df-container {\n",
              "      display:flex;\n",
              "      gap: 12px;\n",
              "    }\n",
              "\n",
              "    .colab-df-convert {\n",
              "      background-color: #E8F0FE;\n",
              "      border: none;\n",
              "      border-radius: 50%;\n",
              "      cursor: pointer;\n",
              "      display: none;\n",
              "      fill: #1967D2;\n",
              "      height: 32px;\n",
              "      padding: 0 0 0 0;\n",
              "      width: 32px;\n",
              "    }\n",
              "\n",
              "    .colab-df-convert:hover {\n",
              "      background-color: #E2EBFA;\n",
              "      box-shadow: 0px 1px 2px rgba(60, 64, 67, 0.3), 0px 1px 3px 1px rgba(60, 64, 67, 0.15);\n",
              "      fill: #174EA6;\n",
              "    }\n",
              "\n",
              "    .colab-df-buttons div {\n",
              "      margin-bottom: 4px;\n",
              "    }\n",
              "\n",
              "    [theme=dark] .colab-df-convert {\n",
              "      background-color: #3B4455;\n",
              "      fill: #D2E3FC;\n",
              "    }\n",
              "\n",
              "    [theme=dark] .colab-df-convert:hover {\n",
              "      background-color: #434B5C;\n",
              "      box-shadow: 0px 1px 3px 1px rgba(0, 0, 0, 0.15);\n",
              "      filter: drop-shadow(0px 1px 2px rgba(0, 0, 0, 0.3));\n",
              "      fill: #FFFFFF;\n",
              "    }\n",
              "  </style>\n",
              "\n",
              "    <script>\n",
              "      const buttonEl =\n",
              "        document.querySelector('#df-67c514f7-f4fa-4fd2-97f7-a7528a969b3f button.colab-df-convert');\n",
              "      buttonEl.style.display =\n",
              "        google.colab.kernel.accessAllowed ? 'block' : 'none';\n",
              "\n",
              "      async function convertToInteractive(key) {\n",
              "        const element = document.querySelector('#df-67c514f7-f4fa-4fd2-97f7-a7528a969b3f');\n",
              "        const dataTable =\n",
              "          await google.colab.kernel.invokeFunction('convertToInteractive',\n",
              "                                                    [key], {});\n",
              "        if (!dataTable) return;\n",
              "\n",
              "        const docLinkHtml = 'Like what you see? Visit the ' +\n",
              "          '<a target=\"_blank\" href=https://colab.research.google.com/notebooks/data_table.ipynb>data table notebook</a>'\n",
              "          + ' to learn more about interactive tables.';\n",
              "        element.innerHTML = '';\n",
              "        dataTable['output_type'] = 'display_data';\n",
              "        await google.colab.output.renderOutput(dataTable, element);\n",
              "        const docLink = document.createElement('div');\n",
              "        docLink.innerHTML = docLinkHtml;\n",
              "        element.appendChild(docLink);\n",
              "      }\n",
              "    </script>\n",
              "  </div>\n",
              "\n",
              "\n",
              "<div id=\"df-72f602cb-ae7d-43e2-966f-c16e23998687\">\n",
              "  <button class=\"colab-df-quickchart\" onclick=\"quickchart('df-72f602cb-ae7d-43e2-966f-c16e23998687')\"\n",
              "            title=\"Suggest charts\"\n",
              "            style=\"display:none;\">\n",
              "\n",
              "<svg xmlns=\"http://www.w3.org/2000/svg\" height=\"24px\"viewBox=\"0 0 24 24\"\n",
              "     width=\"24px\">\n",
              "    <g>\n",
              "        <path d=\"M19 3H5c-1.1 0-2 .9-2 2v14c0 1.1.9 2 2 2h14c1.1 0 2-.9 2-2V5c0-1.1-.9-2-2-2zM9 17H7v-7h2v7zm4 0h-2V7h2v10zm4 0h-2v-4h2v4z\"/>\n",
              "    </g>\n",
              "</svg>\n",
              "  </button>\n",
              "\n",
              "<style>\n",
              "  .colab-df-quickchart {\n",
              "      --bg-color: #E8F0FE;\n",
              "      --fill-color: #1967D2;\n",
              "      --hover-bg-color: #E2EBFA;\n",
              "      --hover-fill-color: #174EA6;\n",
              "      --disabled-fill-color: #AAA;\n",
              "      --disabled-bg-color: #DDD;\n",
              "  }\n",
              "\n",
              "  [theme=dark] .colab-df-quickchart {\n",
              "      --bg-color: #3B4455;\n",
              "      --fill-color: #D2E3FC;\n",
              "      --hover-bg-color: #434B5C;\n",
              "      --hover-fill-color: #FFFFFF;\n",
              "      --disabled-bg-color: #3B4455;\n",
              "      --disabled-fill-color: #666;\n",
              "  }\n",
              "\n",
              "  .colab-df-quickchart {\n",
              "    background-color: var(--bg-color);\n",
              "    border: none;\n",
              "    border-radius: 50%;\n",
              "    cursor: pointer;\n",
              "    display: none;\n",
              "    fill: var(--fill-color);\n",
              "    height: 32px;\n",
              "    padding: 0;\n",
              "    width: 32px;\n",
              "  }\n",
              "\n",
              "  .colab-df-quickchart:hover {\n",
              "    background-color: var(--hover-bg-color);\n",
              "    box-shadow: 0 1px 2px rgba(60, 64, 67, 0.3), 0 1px 3px 1px rgba(60, 64, 67, 0.15);\n",
              "    fill: var(--button-hover-fill-color);\n",
              "  }\n",
              "\n",
              "  .colab-df-quickchart-complete:disabled,\n",
              "  .colab-df-quickchart-complete:disabled:hover {\n",
              "    background-color: var(--disabled-bg-color);\n",
              "    fill: var(--disabled-fill-color);\n",
              "    box-shadow: none;\n",
              "  }\n",
              "\n",
              "  .colab-df-spinner {\n",
              "    border: 2px solid var(--fill-color);\n",
              "    border-color: transparent;\n",
              "    border-bottom-color: var(--fill-color);\n",
              "    animation:\n",
              "      spin 1s steps(1) infinite;\n",
              "  }\n",
              "\n",
              "  @keyframes spin {\n",
              "    0% {\n",
              "      border-color: transparent;\n",
              "      border-bottom-color: var(--fill-color);\n",
              "      border-left-color: var(--fill-color);\n",
              "    }\n",
              "    20% {\n",
              "      border-color: transparent;\n",
              "      border-left-color: var(--fill-color);\n",
              "      border-top-color: var(--fill-color);\n",
              "    }\n",
              "    30% {\n",
              "      border-color: transparent;\n",
              "      border-left-color: var(--fill-color);\n",
              "      border-top-color: var(--fill-color);\n",
              "      border-right-color: var(--fill-color);\n",
              "    }\n",
              "    40% {\n",
              "      border-color: transparent;\n",
              "      border-right-color: var(--fill-color);\n",
              "      border-top-color: var(--fill-color);\n",
              "    }\n",
              "    60% {\n",
              "      border-color: transparent;\n",
              "      border-right-color: var(--fill-color);\n",
              "    }\n",
              "    80% {\n",
              "      border-color: transparent;\n",
              "      border-right-color: var(--fill-color);\n",
              "      border-bottom-color: var(--fill-color);\n",
              "    }\n",
              "    90% {\n",
              "      border-color: transparent;\n",
              "      border-bottom-color: var(--fill-color);\n",
              "    }\n",
              "  }\n",
              "</style>\n",
              "\n",
              "  <script>\n",
              "    async function quickchart(key) {\n",
              "      const quickchartButtonEl =\n",
              "        document.querySelector('#' + key + ' button');\n",
              "      quickchartButtonEl.disabled = true;  // To prevent multiple clicks.\n",
              "      quickchartButtonEl.classList.add('colab-df-spinner');\n",
              "      try {\n",
              "        const charts = await google.colab.kernel.invokeFunction(\n",
              "            'suggestCharts', [key], {});\n",
              "      } catch (error) {\n",
              "        console.error('Error during call to suggestCharts:', error);\n",
              "      }\n",
              "      quickchartButtonEl.classList.remove('colab-df-spinner');\n",
              "      quickchartButtonEl.classList.add('colab-df-quickchart-complete');\n",
              "    }\n",
              "    (() => {\n",
              "      let quickchartButtonEl =\n",
              "        document.querySelector('#df-72f602cb-ae7d-43e2-966f-c16e23998687 button');\n",
              "      quickchartButtonEl.style.display =\n",
              "        google.colab.kernel.accessAllowed ? 'block' : 'none';\n",
              "    })();\n",
              "  </script>\n",
              "</div>\n",
              "\n",
              "    </div>\n",
              "  </div>\n"
            ],
            "application/vnd.google.colaboratory.intrinsic+json": {
              "type": "dataframe",
              "summary": "{\n  \"name\": \"data\",\n  \"rows\": 12,\n  \"fields\": [\n    {\n      \"column\": \"count\",\n      \"properties\": {\n        \"dtype\": \"number\",\n        \"std\": 1.1547005383792515,\n        \"min\": 985.0,\n        \"max\": 989.0,\n        \"num_unique_values\": 2,\n        \"samples\": [\n          985.0,\n          989.0\n        ],\n        \"semantic_type\": \"\",\n        \"description\": \"\"\n      }\n    },\n    {\n      \"column\": \"mean\",\n      \"properties\": {\n        \"dtype\": \"number\",\n        \"std\": 82.0670625845145,\n        \"min\": 0.3316481294236603,\n        \"max\": 245.51162790697674,\n        \"num_unique_values\": 12,\n        \"samples\": [\n          2.3215369059656217,\n          0.7421638018200202\n        ],\n        \"semantic_type\": \"\",\n        \"description\": \"\"\n      }\n    },\n    {\n      \"column\": \"std\",\n      \"properties\": {\n        \"dtype\": \"number\",\n        \"std\": 15.41719280781989,\n        \"min\": 0.47104351977208075,\n        \"max\": 51.606000305089886,\n        \"num_unique_values\": 12,\n        \"samples\": [\n          0.6183359410014446,\n          1.0226443106463128\n        ],\n        \"semantic_type\": \"\",\n        \"description\": \"\"\n      }\n    },\n    {\n      \"column\": \"min\",\n      \"properties\": {\n        \"dtype\": \"number\",\n        \"std\": 44.7829783680714,\n        \"min\": 0.0,\n        \"max\": 126.0,\n        \"num_unique_values\": 5,\n        \"samples\": [\n          0.0,\n          71.0\n        ],\n        \"semantic_type\": \"\",\n        \"description\": \"\"\n      }\n    },\n    {\n      \"column\": \"25%\",\n      \"properties\": {\n        \"dtype\": \"number\",\n        \"std\": 72.21537652093636,\n        \"min\": 0.0,\n        \"max\": 211.0,\n        \"num_unique_values\": 7,\n        \"samples\": [\n          48.0,\n          0.0\n        ],\n        \"semantic_type\": \"\",\n        \"description\": \"\"\n      }\n    },\n    {\n      \"column\": \"50%\",\n      \"properties\": {\n        \"dtype\": \"number\",\n        \"std\": 80.8296581482542,\n        \"min\": 0.0,\n        \"max\": 239.0,\n        \"num_unique_values\": 8,\n        \"samples\": [\n          1.0,\n          0.0\n        ],\n        \"semantic_type\": \"\",\n        \"description\": \"\"\n      }\n    },\n    {\n      \"column\": \"75%\",\n      \"properties\": {\n        \"dtype\": \"number\",\n        \"std\": 90.74140914341882,\n        \"min\": 1.0,\n        \"max\": 275.0,\n        \"num_unique_values\": 8,\n        \"samples\": [\n          2.0,\n          165.0\n        ],\n        \"semantic_type\": \"\",\n        \"description\": \"\"\n      }\n    },\n    {\n      \"column\": \"max\",\n      \"properties\": {\n        \"dtype\": \"number\",\n        \"std\": 167.97109780247823,\n        \"min\": 1.0,\n        \"max\": 564.0,\n        \"num_unique_values\": 9,\n        \"samples\": [\n          6.2,\n          3.0\n        ],\n        \"semantic_type\": \"\",\n        \"description\": \"\"\n      }\n    }\n  ]\n}"
            }
          },
          "metadata": {},
          "execution_count": 13
        }
      ]
    },
    {
      "cell_type": "markdown",
      "source": [
        "# <center><div style=\"font-family: Trebuchet MS; background-color: #F93822; color: #FDD20E; padding: 12px; line-height: 1;\">Exploratory Data Analysis</div></center>"
      ],
      "metadata": {
        "id": "DJ09ImnBiod1"
      }
    },
    {
      "cell_type": "markdown",
      "source": [
        "### Dividing features into Numerical and Categorical :"
      ],
      "metadata": {
        "id": "lIiDWxsmiod1"
      }
    },
    {
      "cell_type": "code",
      "source": [
        "col = list(data.columns)\n",
        "categorical_features = []\n",
        "numerical_features = []\n",
        "for i in col:\n",
        "    if len(data[i].unique()) > 6:\n",
        "        numerical_features.append(i)\n",
        "    else:\n",
        "        categorical_features.append(i)\n",
        "\n",
        "print('Categorical Features :',*categorical_features)\n",
        "print('Numerical Features :',*numerical_features)"
      ],
      "metadata": {
        "execution": {
          "iopub.status.busy": "2022-10-25T12:54:49.31956Z",
          "iopub.execute_input": "2022-10-25T12:54:49.321016Z",
          "iopub.status.idle": "2022-10-25T12:54:49.335379Z",
          "shell.execute_reply.started": "2022-10-25T12:54:49.320952Z",
          "shell.execute_reply": "2022-10-25T12:54:49.334002Z"
        },
        "trusted": true,
        "colab": {
          "base_uri": "https://localhost:8080/"
        },
        "id": "qvd4Y8vEiod1",
        "outputId": "98e2f888-3513-4d36-f529-bf058034d967"
      },
      "execution_count": 32,
      "outputs": [
        {
          "output_type": "stream",
          "name": "stdout",
          "text": [
            "Categorical Features : Sex ChestPainType FastingBS RestingECG ExerciseAngina ST_Slope HeartDisease\n",
            "Numerical Features : Age RestingBP Cholesterol MaxHR Oldpeak\n"
          ]
        }
      ]
    },
    {
      "cell_type": "markdown",
      "source": [
        "- Here, categorical features are defined if the the attribute has less than 6 unique elements else it is a numerical feature.\n",
        "- Typical approach for this division of features can also be based on the datatypes of the elements of the respective attribute.\n",
        "\n",
        "**Eg :** datatype = integer, attribute = numerical feature ; datatype = string, attribute = categorical feature\n",
        "\n",
        "- For this dataset, as the number of features are less, we can manually check the dataset as well."
      ],
      "metadata": {
        "id": "Q-GiuHbuiod1"
      }
    },
    {
      "cell_type": "markdown",
      "source": [
        "### Categorical Features :"
      ],
      "metadata": {
        "id": "0U7bxOoRiod1"
      }
    },
    {
      "cell_type": "code",
      "source": [
        "data.head()"
      ],
      "metadata": {
        "colab": {
          "base_uri": "https://localhost:8080/",
          "height": 226
        },
        "id": "XuGA1vcpL2fD",
        "outputId": "a6f6b769-4acf-42b4-9022-8ea2ece4895e"
      },
      "execution_count": 37,
      "outputs": [
        {
          "output_type": "execute_result",
          "data": {
            "text/plain": [
              "    Age Sex ChestPainType  RestingBP  Cholesterol  FastingBS RestingECG  \\\n",
              "0  40.0   M           ATA        140        289.0          0     Normal   \n",
              "1  49.0   F           NAP        160        180.0          0     Normal   \n",
              "2  37.0   M           ATA        130        283.0          0         ST   \n",
              "3  48.0   F           ASY        138        214.0          0     Normal   \n",
              "4  54.0   M           NAP        150        195.0          0     Normal   \n",
              "\n",
              "   MaxHR ExerciseAngina  Oldpeak ST_Slope  HeartDisease  \n",
              "0    172              N      0.0       Up           0.0  \n",
              "1    156              N      1.0     Flat           1.0  \n",
              "2     98              N      0.0       Up           0.0  \n",
              "3    108              Y      1.5     Flat           1.0  \n",
              "4    122              N      0.0       Up           0.0  "
            ],
            "text/html": [
              "\n",
              "  <div id=\"df-6f67c318-6956-451b-9fbe-cd3a3aea7144\" class=\"colab-df-container\">\n",
              "    <div>\n",
              "<style scoped>\n",
              "    .dataframe tbody tr th:only-of-type {\n",
              "        vertical-align: middle;\n",
              "    }\n",
              "\n",
              "    .dataframe tbody tr th {\n",
              "        vertical-align: top;\n",
              "    }\n",
              "\n",
              "    .dataframe thead th {\n",
              "        text-align: right;\n",
              "    }\n",
              "</style>\n",
              "<table border=\"1\" class=\"dataframe\">\n",
              "  <thead>\n",
              "    <tr style=\"text-align: right;\">\n",
              "      <th></th>\n",
              "      <th>Age</th>\n",
              "      <th>Sex</th>\n",
              "      <th>ChestPainType</th>\n",
              "      <th>RestingBP</th>\n",
              "      <th>Cholesterol</th>\n",
              "      <th>FastingBS</th>\n",
              "      <th>RestingECG</th>\n",
              "      <th>MaxHR</th>\n",
              "      <th>ExerciseAngina</th>\n",
              "      <th>Oldpeak</th>\n",
              "      <th>ST_Slope</th>\n",
              "      <th>HeartDisease</th>\n",
              "    </tr>\n",
              "  </thead>\n",
              "  <tbody>\n",
              "    <tr>\n",
              "      <th>0</th>\n",
              "      <td>40.0</td>\n",
              "      <td>M</td>\n",
              "      <td>ATA</td>\n",
              "      <td>140</td>\n",
              "      <td>289.0</td>\n",
              "      <td>0</td>\n",
              "      <td>Normal</td>\n",
              "      <td>172</td>\n",
              "      <td>N</td>\n",
              "      <td>0.0</td>\n",
              "      <td>Up</td>\n",
              "      <td>0.0</td>\n",
              "    </tr>\n",
              "    <tr>\n",
              "      <th>1</th>\n",
              "      <td>49.0</td>\n",
              "      <td>F</td>\n",
              "      <td>NAP</td>\n",
              "      <td>160</td>\n",
              "      <td>180.0</td>\n",
              "      <td>0</td>\n",
              "      <td>Normal</td>\n",
              "      <td>156</td>\n",
              "      <td>N</td>\n",
              "      <td>1.0</td>\n",
              "      <td>Flat</td>\n",
              "      <td>1.0</td>\n",
              "    </tr>\n",
              "    <tr>\n",
              "      <th>2</th>\n",
              "      <td>37.0</td>\n",
              "      <td>M</td>\n",
              "      <td>ATA</td>\n",
              "      <td>130</td>\n",
              "      <td>283.0</td>\n",
              "      <td>0</td>\n",
              "      <td>ST</td>\n",
              "      <td>98</td>\n",
              "      <td>N</td>\n",
              "      <td>0.0</td>\n",
              "      <td>Up</td>\n",
              "      <td>0.0</td>\n",
              "    </tr>\n",
              "    <tr>\n",
              "      <th>3</th>\n",
              "      <td>48.0</td>\n",
              "      <td>F</td>\n",
              "      <td>ASY</td>\n",
              "      <td>138</td>\n",
              "      <td>214.0</td>\n",
              "      <td>0</td>\n",
              "      <td>Normal</td>\n",
              "      <td>108</td>\n",
              "      <td>Y</td>\n",
              "      <td>1.5</td>\n",
              "      <td>Flat</td>\n",
              "      <td>1.0</td>\n",
              "    </tr>\n",
              "    <tr>\n",
              "      <th>4</th>\n",
              "      <td>54.0</td>\n",
              "      <td>M</td>\n",
              "      <td>NAP</td>\n",
              "      <td>150</td>\n",
              "      <td>195.0</td>\n",
              "      <td>0</td>\n",
              "      <td>Normal</td>\n",
              "      <td>122</td>\n",
              "      <td>N</td>\n",
              "      <td>0.0</td>\n",
              "      <td>Up</td>\n",
              "      <td>0.0</td>\n",
              "    </tr>\n",
              "  </tbody>\n",
              "</table>\n",
              "</div>\n",
              "    <div class=\"colab-df-buttons\">\n",
              "\n",
              "  <div class=\"colab-df-container\">\n",
              "    <button class=\"colab-df-convert\" onclick=\"convertToInteractive('df-6f67c318-6956-451b-9fbe-cd3a3aea7144')\"\n",
              "            title=\"Convert this dataframe to an interactive table.\"\n",
              "            style=\"display:none;\">\n",
              "\n",
              "  <svg xmlns=\"http://www.w3.org/2000/svg\" height=\"24px\" viewBox=\"0 -960 960 960\">\n",
              "    <path d=\"M120-120v-720h720v720H120Zm60-500h600v-160H180v160Zm220 220h160v-160H400v160Zm0 220h160v-160H400v160ZM180-400h160v-160H180v160Zm440 0h160v-160H620v160ZM180-180h160v-160H180v160Zm440 0h160v-160H620v160Z\"/>\n",
              "  </svg>\n",
              "    </button>\n",
              "\n",
              "  <style>\n",
              "    .colab-df-container {\n",
              "      display:flex;\n",
              "      gap: 12px;\n",
              "    }\n",
              "\n",
              "    .colab-df-convert {\n",
              "      background-color: #E8F0FE;\n",
              "      border: none;\n",
              "      border-radius: 50%;\n",
              "      cursor: pointer;\n",
              "      display: none;\n",
              "      fill: #1967D2;\n",
              "      height: 32px;\n",
              "      padding: 0 0 0 0;\n",
              "      width: 32px;\n",
              "    }\n",
              "\n",
              "    .colab-df-convert:hover {\n",
              "      background-color: #E2EBFA;\n",
              "      box-shadow: 0px 1px 2px rgba(60, 64, 67, 0.3), 0px 1px 3px 1px rgba(60, 64, 67, 0.15);\n",
              "      fill: #174EA6;\n",
              "    }\n",
              "\n",
              "    .colab-df-buttons div {\n",
              "      margin-bottom: 4px;\n",
              "    }\n",
              "\n",
              "    [theme=dark] .colab-df-convert {\n",
              "      background-color: #3B4455;\n",
              "      fill: #D2E3FC;\n",
              "    }\n",
              "\n",
              "    [theme=dark] .colab-df-convert:hover {\n",
              "      background-color: #434B5C;\n",
              "      box-shadow: 0px 1px 3px 1px rgba(0, 0, 0, 0.15);\n",
              "      filter: drop-shadow(0px 1px 2px rgba(0, 0, 0, 0.3));\n",
              "      fill: #FFFFFF;\n",
              "    }\n",
              "  </style>\n",
              "\n",
              "    <script>\n",
              "      const buttonEl =\n",
              "        document.querySelector('#df-6f67c318-6956-451b-9fbe-cd3a3aea7144 button.colab-df-convert');\n",
              "      buttonEl.style.display =\n",
              "        google.colab.kernel.accessAllowed ? 'block' : 'none';\n",
              "\n",
              "      async function convertToInteractive(key) {\n",
              "        const element = document.querySelector('#df-6f67c318-6956-451b-9fbe-cd3a3aea7144');\n",
              "        const dataTable =\n",
              "          await google.colab.kernel.invokeFunction('convertToInteractive',\n",
              "                                                    [key], {});\n",
              "        if (!dataTable) return;\n",
              "\n",
              "        const docLinkHtml = 'Like what you see? Visit the ' +\n",
              "          '<a target=\"_blank\" href=https://colab.research.google.com/notebooks/data_table.ipynb>data table notebook</a>'\n",
              "          + ' to learn more about interactive tables.';\n",
              "        element.innerHTML = '';\n",
              "        dataTable['output_type'] = 'display_data';\n",
              "        await google.colab.output.renderOutput(dataTable, element);\n",
              "        const docLink = document.createElement('div');\n",
              "        docLink.innerHTML = docLinkHtml;\n",
              "        element.appendChild(docLink);\n",
              "      }\n",
              "    </script>\n",
              "  </div>\n",
              "\n",
              "\n",
              "<div id=\"df-e5629873-1115-42d5-8cc7-1a57d2c7b190\">\n",
              "  <button class=\"colab-df-quickchart\" onclick=\"quickchart('df-e5629873-1115-42d5-8cc7-1a57d2c7b190')\"\n",
              "            title=\"Suggest charts\"\n",
              "            style=\"display:none;\">\n",
              "\n",
              "<svg xmlns=\"http://www.w3.org/2000/svg\" height=\"24px\"viewBox=\"0 0 24 24\"\n",
              "     width=\"24px\">\n",
              "    <g>\n",
              "        <path d=\"M19 3H5c-1.1 0-2 .9-2 2v14c0 1.1.9 2 2 2h14c1.1 0 2-.9 2-2V5c0-1.1-.9-2-2-2zM9 17H7v-7h2v7zm4 0h-2V7h2v10zm4 0h-2v-4h2v4z\"/>\n",
              "    </g>\n",
              "</svg>\n",
              "  </button>\n",
              "\n",
              "<style>\n",
              "  .colab-df-quickchart {\n",
              "      --bg-color: #E8F0FE;\n",
              "      --fill-color: #1967D2;\n",
              "      --hover-bg-color: #E2EBFA;\n",
              "      --hover-fill-color: #174EA6;\n",
              "      --disabled-fill-color: #AAA;\n",
              "      --disabled-bg-color: #DDD;\n",
              "  }\n",
              "\n",
              "  [theme=dark] .colab-df-quickchart {\n",
              "      --bg-color: #3B4455;\n",
              "      --fill-color: #D2E3FC;\n",
              "      --hover-bg-color: #434B5C;\n",
              "      --hover-fill-color: #FFFFFF;\n",
              "      --disabled-bg-color: #3B4455;\n",
              "      --disabled-fill-color: #666;\n",
              "  }\n",
              "\n",
              "  .colab-df-quickchart {\n",
              "    background-color: var(--bg-color);\n",
              "    border: none;\n",
              "    border-radius: 50%;\n",
              "    cursor: pointer;\n",
              "    display: none;\n",
              "    fill: var(--fill-color);\n",
              "    height: 32px;\n",
              "    padding: 0;\n",
              "    width: 32px;\n",
              "  }\n",
              "\n",
              "  .colab-df-quickchart:hover {\n",
              "    background-color: var(--hover-bg-color);\n",
              "    box-shadow: 0 1px 2px rgba(60, 64, 67, 0.3), 0 1px 3px 1px rgba(60, 64, 67, 0.15);\n",
              "    fill: var(--button-hover-fill-color);\n",
              "  }\n",
              "\n",
              "  .colab-df-quickchart-complete:disabled,\n",
              "  .colab-df-quickchart-complete:disabled:hover {\n",
              "    background-color: var(--disabled-bg-color);\n",
              "    fill: var(--disabled-fill-color);\n",
              "    box-shadow: none;\n",
              "  }\n",
              "\n",
              "  .colab-df-spinner {\n",
              "    border: 2px solid var(--fill-color);\n",
              "    border-color: transparent;\n",
              "    border-bottom-color: var(--fill-color);\n",
              "    animation:\n",
              "      spin 1s steps(1) infinite;\n",
              "  }\n",
              "\n",
              "  @keyframes spin {\n",
              "    0% {\n",
              "      border-color: transparent;\n",
              "      border-bottom-color: var(--fill-color);\n",
              "      border-left-color: var(--fill-color);\n",
              "    }\n",
              "    20% {\n",
              "      border-color: transparent;\n",
              "      border-left-color: var(--fill-color);\n",
              "      border-top-color: var(--fill-color);\n",
              "    }\n",
              "    30% {\n",
              "      border-color: transparent;\n",
              "      border-left-color: var(--fill-color);\n",
              "      border-top-color: var(--fill-color);\n",
              "      border-right-color: var(--fill-color);\n",
              "    }\n",
              "    40% {\n",
              "      border-color: transparent;\n",
              "      border-right-color: var(--fill-color);\n",
              "      border-top-color: var(--fill-color);\n",
              "    }\n",
              "    60% {\n",
              "      border-color: transparent;\n",
              "      border-right-color: var(--fill-color);\n",
              "    }\n",
              "    80% {\n",
              "      border-color: transparent;\n",
              "      border-right-color: var(--fill-color);\n",
              "      border-bottom-color: var(--fill-color);\n",
              "    }\n",
              "    90% {\n",
              "      border-color: transparent;\n",
              "      border-bottom-color: var(--fill-color);\n",
              "    }\n",
              "  }\n",
              "</style>\n",
              "\n",
              "  <script>\n",
              "    async function quickchart(key) {\n",
              "      const quickchartButtonEl =\n",
              "        document.querySelector('#' + key + ' button');\n",
              "      quickchartButtonEl.disabled = true;  // To prevent multiple clicks.\n",
              "      quickchartButtonEl.classList.add('colab-df-spinner');\n",
              "      try {\n",
              "        const charts = await google.colab.kernel.invokeFunction(\n",
              "            'suggestCharts', [key], {});\n",
              "      } catch (error) {\n",
              "        console.error('Error during call to suggestCharts:', error);\n",
              "      }\n",
              "      quickchartButtonEl.classList.remove('colab-df-spinner');\n",
              "      quickchartButtonEl.classList.add('colab-df-quickchart-complete');\n",
              "    }\n",
              "    (() => {\n",
              "      let quickchartButtonEl =\n",
              "        document.querySelector('#df-e5629873-1115-42d5-8cc7-1a57d2c7b190 button');\n",
              "      quickchartButtonEl.style.display =\n",
              "        google.colab.kernel.accessAllowed ? 'block' : 'none';\n",
              "    })();\n",
              "  </script>\n",
              "</div>\n",
              "\n",
              "    </div>\n",
              "  </div>\n"
            ],
            "application/vnd.google.colaboratory.intrinsic+json": {
              "type": "dataframe",
              "variable_name": "data",
              "summary": "{\n  \"name\": \"data\",\n  \"rows\": 910,\n  \"fields\": [\n    {\n      \"column\": \"Age\",\n      \"properties\": {\n        \"dtype\": \"number\",\n        \"std\": 9.310760134935716,\n        \"min\": 28.0,\n        \"max\": 77.0,\n        \"num_unique_values\": 51,\n        \"samples\": [\n          67.0,\n          72.0,\n          70.0\n        ],\n        \"semantic_type\": \"\",\n        \"description\": \"\"\n      }\n    },\n    {\n      \"column\": \"Sex\",\n      \"properties\": {\n        \"dtype\": \"category\",\n        \"num_unique_values\": 2,\n        \"samples\": [\n          \"F\",\n          \"M\"\n        ],\n        \"semantic_type\": \"\",\n        \"description\": \"\"\n      }\n    },\n    {\n      \"column\": \"ChestPainType\",\n      \"properties\": {\n        \"dtype\": \"category\",\n        \"num_unique_values\": 4,\n        \"samples\": [\n          \"NAP\",\n          \"TA\"\n        ],\n        \"semantic_type\": \"\",\n        \"description\": \"\"\n      }\n    },\n    {\n      \"column\": \"RestingBP\",\n      \"properties\": {\n        \"dtype\": \"number\",\n        \"std\": 18,\n        \"min\": 0,\n        \"max\": 200,\n        \"num_unique_values\": 67,\n        \"samples\": [\n          165,\n          118\n        ],\n        \"semantic_type\": \"\",\n        \"description\": \"\"\n      }\n    },\n    {\n      \"column\": \"Cholesterol\",\n      \"properties\": {\n        \"dtype\": \"number\",\n        \"std\": 109.07282988854149,\n        \"min\": 0.0,\n        \"max\": 603.0,\n        \"num_unique_values\": 221,\n        \"samples\": [\n          295.0,\n          126.0\n        ],\n        \"semantic_type\": \"\",\n        \"description\": \"\"\n      }\n    },\n    {\n      \"column\": \"FastingBS\",\n      \"properties\": {\n        \"dtype\": \"number\",\n        \"std\": 0,\n        \"min\": 0,\n        \"max\": 1,\n        \"num_unique_values\": 2,\n        \"samples\": [\n          1,\n          0\n        ],\n        \"semantic_type\": \"\",\n        \"description\": \"\"\n      }\n    },\n    {\n      \"column\": \"RestingECG\",\n      \"properties\": {\n        \"dtype\": \"category\",\n        \"num_unique_values\": 3,\n        \"samples\": [\n          \"Normal\",\n          \"ST\"\n        ],\n        \"semantic_type\": \"\",\n        \"description\": \"\"\n      }\n    },\n    {\n      \"column\": \"MaxHR\",\n      \"properties\": {\n        \"dtype\": \"number\",\n        \"std\": 25,\n        \"min\": 60,\n        \"max\": 202,\n        \"num_unique_values\": 119,\n        \"samples\": [\n          132,\n          157\n        ],\n        \"semantic_type\": \"\",\n        \"description\": \"\"\n      }\n    },\n    {\n      \"column\": \"ExerciseAngina\",\n      \"properties\": {\n        \"dtype\": \"category\",\n        \"num_unique_values\": 2,\n        \"samples\": [\n          \"Y\",\n          \"N\"\n        ],\n        \"semantic_type\": \"\",\n        \"description\": \"\"\n      }\n    },\n    {\n      \"column\": \"Oldpeak\",\n      \"properties\": {\n        \"dtype\": \"number\",\n        \"std\": 1.0676457138271613,\n        \"min\": -2.6,\n        \"max\": 6.2,\n        \"num_unique_values\": 53,\n        \"samples\": [\n          1.3,\n          0.6\n        ],\n        \"semantic_type\": \"\",\n        \"description\": \"\"\n      }\n    },\n    {\n      \"column\": \"ST_Slope\",\n      \"properties\": {\n        \"dtype\": \"category\",\n        \"num_unique_values\": 3,\n        \"samples\": [\n          \"Up\",\n          \"Flat\"\n        ],\n        \"semantic_type\": \"\",\n        \"description\": \"\"\n      }\n    },\n    {\n      \"column\": \"HeartDisease\",\n      \"properties\": {\n        \"dtype\": \"number\",\n        \"std\": 0.4973654889019215,\n        \"min\": 0.0,\n        \"max\": 1.0,\n        \"num_unique_values\": 2,\n        \"samples\": [\n          1.0,\n          0.0\n        ],\n        \"semantic_type\": \"\",\n        \"description\": \"\"\n      }\n    }\n  ]\n}"
            }
          },
          "metadata": {},
          "execution_count": 37
        }
      ]
    },
    {
      "cell_type": "code",
      "source": [
        "pd.DataFrame(data['RestingECG']).value_counts().plot(kind = 'bar')"
      ],
      "metadata": {
        "colab": {
          "base_uri": "https://localhost:8080/",
          "height": 519
        },
        "id": "keBbeVc3yy45",
        "outputId": "f034e2e3-7705-4cc2-f4ab-37055ca8c284"
      },
      "execution_count": 39,
      "outputs": [
        {
          "output_type": "execute_result",
          "data": {
            "text/plain": [
              "<Axes: xlabel='RestingECG'>"
            ]
          },
          "metadata": {},
          "execution_count": 39
        },
        {
          "output_type": "display_data",
          "data": {
            "text/plain": [
              "<Figure size 640x480 with 1 Axes>"
            ],
            "image/png": "[encoded data removed]"
          },
          "metadata": {}
        }
      ]
    },
    {
      "cell_type": "code",
      "source": [
        "from sklearn.preprocessing import LabelEncoder\n",
        "le = LabelEncoder()\n",
        "data_transformed = data.copy(deep = True)\n",
        "\n",
        "data_transformed['Sex'] = le.fit_transform(data_transformed['Sex'])\n",
        "data_transformed['ChestPainType'] = le.fit_transform(data_transformed['ChestPainType'])\n",
        "data_transformed['RestingECG'] = le.fit_transform(data_transformed['RestingECG'])\n",
        "data_transformed['ExerciseAngina'] = le.fit_transform(data_transformed['ExerciseAngina'])\n",
        "data_transformed['ST_Slope'] = le.fit_transform(data_transformed['ST_Slope'])\n"
      ],
      "metadata": {
        "execution": {
          "iopub.status.busy": "2022-10-25T12:54:49.336814Z",
          "iopub.execute_input": "2022-10-25T12:54:49.337315Z",
          "iopub.status.idle": "2022-10-25T12:54:49.424038Z",
          "shell.execute_reply.started": "2022-10-25T12:54:49.337262Z",
          "shell.execute_reply": "2022-10-25T12:54:49.421702Z"
        },
        "trusted": true,
        "id": "smWx_JJciod1"
      },
      "execution_count": 41,
      "outputs": []
    },
    {
      "cell_type": "markdown",
      "source": [
        "- Creating a deep copy of the orginal dataset and label encoding the text data of the categorical features.\n",
        "- Modifications in the original dataset will not be highlighted in this deep copy.\n",
        "- Hence, we use this deep copy of dataset that has all the features converted into numerical values for visualization & modeling purposes."
      ],
      "metadata": {
        "id": "-Ny7b4_Qiod2"
      }
    },
    {
      "cell_type": "code",
      "source": [
        "data_transformed.head()"
      ],
      "metadata": {
        "colab": {
          "base_uri": "https://localhost:8080/",
          "height": 226
        },
        "id": "xx6nN5OUygFE",
        "outputId": "2ba786b3-c80a-441f-8d92-8b8e399c4fe6"
      },
      "execution_count": 42,
      "outputs": [
        {
          "output_type": "execute_result",
          "data": {
            "text/plain": [
              "    Age  Sex  ChestPainType  RestingBP  Cholesterol  FastingBS  RestingECG  \\\n",
              "0  40.0    1              1        140        289.0          0           1   \n",
              "1  49.0    0              2        160        180.0          0           1   \n",
              "2  37.0    1              1        130        283.0          0           2   \n",
              "3  48.0    0              0        138        214.0          0           1   \n",
              "4  54.0    1              2        150        195.0          0           1   \n",
              "\n",
              "   MaxHR  ExerciseAngina  Oldpeak  ST_Slope  HeartDisease  \n",
              "0    172               0      0.0         2           0.0  \n",
              "1    156               0      1.0         1           1.0  \n",
              "2     98               0      0.0         2           0.0  \n",
              "3    108               1      1.5         1           1.0  \n",
              "4    122               0      0.0         2           0.0  "
            ],
            "text/html": [
              "\n",
              "  <div id=\"df-804271a0-ad3f-4dc0-9da3-e1d4f02148e4\" class=\"colab-df-container\">\n",
              "    <div>\n",
              "<style scoped>\n",
              "    .dataframe tbody tr th:only-of-type {\n",
              "        vertical-align: middle;\n",
              "    }\n",
              "\n",
              "    .dataframe tbody tr th {\n",
              "        vertical-align: top;\n",
              "    }\n",
              "\n",
              "    .dataframe thead th {\n",
              "        text-align: right;\n",
              "    }\n",
              "</style>\n",
              "<table border=\"1\" class=\"dataframe\">\n",
              "  <thead>\n",
              "    <tr style=\"text-align: right;\">\n",
              "      <th></th>\n",
              "      <th>Age</th>\n",
              "      <th>Sex</th>\n",
              "      <th>ChestPainType</th>\n",
              "      <th>RestingBP</th>\n",
              "      <th>Cholesterol</th>\n",
              "      <th>FastingBS</th>\n",
              "      <th>RestingECG</th>\n",
              "      <th>MaxHR</th>\n",
              "      <th>ExerciseAngina</th>\n",
              "      <th>Oldpeak</th>\n",
              "      <th>ST_Slope</th>\n",
              "      <th>HeartDisease</th>\n",
              "    </tr>\n",
              "  </thead>\n",
              "  <tbody>\n",
              "    <tr>\n",
              "      <th>0</th>\n",
              "      <td>40.0</td>\n",
              "      <td>1</td>\n",
              "      <td>1</td>\n",
              "      <td>140</td>\n",
              "      <td>289.0</td>\n",
              "      <td>0</td>\n",
              "      <td>1</td>\n",
              "      <td>172</td>\n",
              "      <td>0</td>\n",
              "      <td>0.0</td>\n",
              "      <td>2</td>\n",
              "      <td>0.0</td>\n",
              "    </tr>\n",
              "    <tr>\n",
              "      <th>1</th>\n",
              "      <td>49.0</td>\n",
              "      <td>0</td>\n",
              "      <td>2</td>\n",
              "      <td>160</td>\n",
              "      <td>180.0</td>\n",
              "      <td>0</td>\n",
              "      <td>1</td>\n",
              "      <td>156</td>\n",
              "      <td>0</td>\n",
              "      <td>1.0</td>\n",
              "      <td>1</td>\n",
              "      <td>1.0</td>\n",
              "    </tr>\n",
              "    <tr>\n",
              "      <th>2</th>\n",
              "      <td>37.0</td>\n",
              "      <td>1</td>\n",
              "      <td>1</td>\n",
              "      <td>130</td>\n",
              "      <td>283.0</td>\n",
              "      <td>0</td>\n",
              "      <td>2</td>\n",
              "      <td>98</td>\n",
              "      <td>0</td>\n",
              "      <td>0.0</td>\n",
              "      <td>2</td>\n",
              "      <td>0.0</td>\n",
              "    </tr>\n",
              "    <tr>\n",
              "      <th>3</th>\n",
              "      <td>48.0</td>\n",
              "      <td>0</td>\n",
              "      <td>0</td>\n",
              "      <td>138</td>\n",
              "      <td>214.0</td>\n",
              "      <td>0</td>\n",
              "      <td>1</td>\n",
              "      <td>108</td>\n",
              "      <td>1</td>\n",
              "      <td>1.5</td>\n",
              "      <td>1</td>\n",
              "      <td>1.0</td>\n",
              "    </tr>\n",
              "    <tr>\n",
              "      <th>4</th>\n",
              "      <td>54.0</td>\n",
              "      <td>1</td>\n",
              "      <td>2</td>\n",
              "      <td>150</td>\n",
              "      <td>195.0</td>\n",
              "      <td>0</td>\n",
              "      <td>1</td>\n",
              "      <td>122</td>\n",
              "      <td>0</td>\n",
              "      <td>0.0</td>\n",
              "      <td>2</td>\n",
              "      <td>0.0</td>\n",
              "    </tr>\n",
              "  </tbody>\n",
              "</table>\n",
              "</div>\n",
              "    <div class=\"colab-df-buttons\">\n",
              "\n",
              "  <div class=\"colab-df-container\">\n",
              "    <button class=\"colab-df-convert\" onclick=\"convertToInteractive('df-804271a0-ad3f-4dc0-9da3-e1d4f02148e4')\"\n",
              "            title=\"Convert this dataframe to an interactive table.\"\n",
              "            style=\"display:none;\">\n",
              "\n",
              "  <svg xmlns=\"http://www.w3.org/2000/svg\" height=\"24px\" viewBox=\"0 -960 960 960\">\n",
              "    <path d=\"M120-120v-720h720v720H120Zm60-500h600v-160H180v160Zm220 220h160v-160H400v160Zm0 220h160v-160H400v160ZM180-400h160v-160H180v160Zm440 0h160v-160H620v160ZM180-180h160v-160H180v160Zm440 0h160v-160H620v160Z\"/>\n",
              "  </svg>\n",
              "    </button>\n",
              "\n",
              "  <style>\n",
              "    .colab-df-container {\n",
              "      display:flex;\n",
              "      gap: 12px;\n",
              "    }\n",
              "\n",
              "    .colab-df-convert {\n",
              "      background-color: #E8F0FE;\n",
              "      border: none;\n",
              "      border-radius: 50%;\n",
              "      cursor: pointer;\n",
              "      display: none;\n",
              "      fill: #1967D2;\n",
              "      height: 32px;\n",
              "      padding: 0 0 0 0;\n",
              "      width: 32px;\n",
              "    }\n",
              "\n",
              "    .colab-df-convert:hover {\n",
              "      background-color: #E2EBFA;\n",
              "      box-shadow: 0px 1px 2px rgba(60, 64, 67, 0.3), 0px 1px 3px 1px rgba(60, 64, 67, 0.15);\n",
              "      fill: #174EA6;\n",
              "    }\n",
              "\n",
              "    .colab-df-buttons div {\n",
              "      margin-bottom: 4px;\n",
              "    }\n",
              "\n",
              "    [theme=dark] .colab-df-convert {\n",
              "      background-color: #3B4455;\n",
              "      fill: #D2E3FC;\n",
              "    }\n",
              "\n",
              "    [theme=dark] .colab-df-convert:hover {\n",
              "      background-color: #434B5C;\n",
              "      box-shadow: 0px 1px 3px 1px rgba(0, 0, 0, 0.15);\n",
              "      filter: drop-shadow(0px 1px 2px rgba(0, 0, 0, 0.3));\n",
              "      fill: #FFFFFF;\n",
              "    }\n",
              "  </style>\n",
              "\n",
              "    <script>\n",
              "      const buttonEl =\n",
              "        document.querySelector('#df-804271a0-ad3f-4dc0-9da3-e1d4f02148e4 button.colab-df-convert');\n",
              "      buttonEl.style.display =\n",
              "        google.colab.kernel.accessAllowed ? 'block' : 'none';\n",
              "\n",
              "      async function convertToInteractive(key) {\n",
              "        const element = document.querySelector('#df-804271a0-ad3f-4dc0-9da3-e1d4f02148e4');\n",
              "        const dataTable =\n",
              "          await google.colab.kernel.invokeFunction('convertToInteractive',\n",
              "                                                    [key], {});\n",
              "        if (!dataTable) return;\n",
              "\n",
              "        const docLinkHtml = 'Like what you see? Visit the ' +\n",
              "          '<a target=\"_blank\" href=https://colab.research.google.com/notebooks/data_table.ipynb>data table notebook</a>'\n",
              "          + ' to learn more about interactive tables.';\n",
              "        element.innerHTML = '';\n",
              "        dataTable['output_type'] = 'display_data';\n",
              "        await google.colab.output.renderOutput(dataTable, element);\n",
              "        const docLink = document.createElement('div');\n",
              "        docLink.innerHTML = docLinkHtml;\n",
              "        element.appendChild(docLink);\n",
              "      }\n",
              "    </script>\n",
              "  </div>\n",
              "\n",
              "\n",
              "<div id=\"df-598af2af-5304-4f35-b576-5b737f3048d7\">\n",
              "  <button class=\"colab-df-quickchart\" onclick=\"quickchart('df-598af2af-5304-4f35-b576-5b737f3048d7')\"\n",
              "            title=\"Suggest charts\"\n",
              "            style=\"display:none;\">\n",
              "\n",
              "<svg xmlns=\"http://www.w3.org/2000/svg\" height=\"24px\"viewBox=\"0 0 24 24\"\n",
              "     width=\"24px\">\n",
              "    <g>\n",
              "        <path d=\"M19 3H5c-1.1 0-2 .9-2 2v14c0 1.1.9 2 2 2h14c1.1 0 2-.9 2-2V5c0-1.1-.9-2-2-2zM9 17H7v-7h2v7zm4 0h-2V7h2v10zm4 0h-2v-4h2v4z\"/>\n",
              "    </g>\n",
              "</svg>\n",
              "  </button>\n",
              "\n",
              "<style>\n",
              "  .colab-df-quickchart {\n",
              "      --bg-color: #E8F0FE;\n",
              "      --fill-color: #1967D2;\n",
              "      --hover-bg-color: #E2EBFA;\n",
              "      --hover-fill-color: #174EA6;\n",
              "      --disabled-fill-color: #AAA;\n",
              "      --disabled-bg-color: #DDD;\n",
              "  }\n",
              "\n",
              "  [theme=dark] .colab-df-quickchart {\n",
              "      --bg-color: #3B4455;\n",
              "      --fill-color: #D2E3FC;\n",
              "      --hover-bg-color: #434B5C;\n",
              "      --hover-fill-color: #FFFFFF;\n",
              "      --disabled-bg-color: #3B4455;\n",
              "      --disabled-fill-color: #666;\n",
              "  }\n",
              "\n",
              "  .colab-df-quickchart {\n",
              "    background-color: var(--bg-color);\n",
              "    border: none;\n",
              "    border-radius: 50%;\n",
              "    cursor: pointer;\n",
              "    display: none;\n",
              "    fill: var(--fill-color);\n",
              "    height: 32px;\n",
              "    padding: 0;\n",
              "    width: 32px;\n",
              "  }\n",
              "\n",
              "  .colab-df-quickchart:hover {\n",
              "    background-color: var(--hover-bg-color);\n",
              "    box-shadow: 0 1px 2px rgba(60, 64, 67, 0.3), 0 1px 3px 1px rgba(60, 64, 67, 0.15);\n",
              "    fill: var(--button-hover-fill-color);\n",
              "  }\n",
              "\n",
              "  .colab-df-quickchart-complete:disabled,\n",
              "  .colab-df-quickchart-complete:disabled:hover {\n",
              "    background-color: var(--disabled-bg-color);\n",
              "    fill: var(--disabled-fill-color);\n",
              "    box-shadow: none;\n",
              "  }\n",
              "\n",
              "  .colab-df-spinner {\n",
              "    border: 2px solid var(--fill-color);\n",
              "    border-color: transparent;\n",
              "    border-bottom-color: var(--fill-color);\n",
              "    animation:\n",
              "      spin 1s steps(1) infinite;\n",
              "  }\n",
              "\n",
              "  @keyframes spin {\n",
              "    0% {\n",
              "      border-color: transparent;\n",
              "      border-bottom-color: var(--fill-color);\n",
              "      border-left-color: var(--fill-color);\n",
              "    }\n",
              "    20% {\n",
              "      border-color: transparent;\n",
              "      border-left-color: var(--fill-color);\n",
              "      border-top-color: var(--fill-color);\n",
              "    }\n",
              "    30% {\n",
              "      border-color: transparent;\n",
              "      border-left-color: var(--fill-color);\n",
              "      border-top-color: var(--fill-color);\n",
              "      border-right-color: var(--fill-color);\n",
              "    }\n",
              "    40% {\n",
              "      border-color: transparent;\n",
              "      border-right-color: var(--fill-color);\n",
              "      border-top-color: var(--fill-color);\n",
              "    }\n",
              "    60% {\n",
              "      border-color: transparent;\n",
              "      border-right-color: var(--fill-color);\n",
              "    }\n",
              "    80% {\n",
              "      border-color: transparent;\n",
              "      border-right-color: var(--fill-color);\n",
              "      border-bottom-color: var(--fill-color);\n",
              "    }\n",
              "    90% {\n",
              "      border-color: transparent;\n",
              "      border-bottom-color: var(--fill-color);\n",
              "    }\n",
              "  }\n",
              "</style>\n",
              "\n",
              "  <script>\n",
              "    async function quickchart(key) {\n",
              "      const quickchartButtonEl =\n",
              "        document.querySelector('#' + key + ' button');\n",
              "      quickchartButtonEl.disabled = true;  // To prevent multiple clicks.\n",
              "      quickchartButtonEl.classList.add('colab-df-spinner');\n",
              "      try {\n",
              "        const charts = await google.colab.kernel.invokeFunction(\n",
              "            'suggestCharts', [key], {});\n",
              "      } catch (error) {\n",
              "        console.error('Error during call to suggestCharts:', error);\n",
              "      }\n",
              "      quickchartButtonEl.classList.remove('colab-df-spinner');\n",
              "      quickchartButtonEl.classList.add('colab-df-quickchart-complete');\n",
              "    }\n",
              "    (() => {\n",
              "      let quickchartButtonEl =\n",
              "        document.querySelector('#df-598af2af-5304-4f35-b576-5b737f3048d7 button');\n",
              "      quickchartButtonEl.style.display =\n",
              "        google.colab.kernel.accessAllowed ? 'block' : 'none';\n",
              "    })();\n",
              "  </script>\n",
              "</div>\n",
              "\n",
              "    </div>\n",
              "  </div>\n"
            ],
            "application/vnd.google.colaboratory.intrinsic+json": {
              "type": "dataframe",
              "variable_name": "data_transformed",
              "summary": "{\n  \"name\": \"data_transformed\",\n  \"rows\": 910,\n  \"fields\": [\n    {\n      \"column\": \"Age\",\n      \"properties\": {\n        \"dtype\": \"number\",\n        \"std\": 9.310760134935716,\n        \"min\": 28.0,\n        \"max\": 77.0,\n        \"num_unique_values\": 51,\n        \"samples\": [\n          67.0,\n          72.0,\n          70.0\n        ],\n        \"semantic_type\": \"\",\n        \"description\": \"\"\n      }\n    },\n    {\n      \"column\": \"Sex\",\n      \"properties\": {\n        \"dtype\": \"number\",\n        \"std\": 0,\n        \"min\": 0,\n        \"max\": 1,\n        \"num_unique_values\": 2,\n        \"samples\": [\n          0,\n          1\n        ],\n        \"semantic_type\": \"\",\n        \"description\": \"\"\n      }\n    },\n    {\n      \"column\": \"ChestPainType\",\n      \"properties\": {\n        \"dtype\": \"number\",\n        \"std\": 0,\n        \"min\": 0,\n        \"max\": 3,\n        \"num_unique_values\": 4,\n        \"samples\": [\n          2,\n          3\n        ],\n        \"semantic_type\": \"\",\n        \"description\": \"\"\n      }\n    },\n    {\n      \"column\": \"RestingBP\",\n      \"properties\": {\n        \"dtype\": \"number\",\n        \"std\": 18,\n        \"min\": 0,\n        \"max\": 200,\n        \"num_unique_values\": 67,\n        \"samples\": [\n          165,\n          118\n        ],\n        \"semantic_type\": \"\",\n        \"description\": \"\"\n      }\n    },\n    {\n      \"column\": \"Cholesterol\",\n      \"properties\": {\n        \"dtype\": \"number\",\n        \"std\": 109.07282988854149,\n        \"min\": 0.0,\n        \"max\": 603.0,\n        \"num_unique_values\": 221,\n        \"samples\": [\n          295.0,\n          126.0\n        ],\n        \"semantic_type\": \"\",\n        \"description\": \"\"\n      }\n    },\n    {\n      \"column\": \"FastingBS\",\n      \"properties\": {\n        \"dtype\": \"number\",\n        \"std\": 0,\n        \"min\": 0,\n        \"max\": 1,\n        \"num_unique_values\": 2,\n        \"samples\": [\n          1,\n          0\n        ],\n        \"semantic_type\": \"\",\n        \"description\": \"\"\n      }\n    },\n    {\n      \"column\": \"RestingECG\",\n      \"properties\": {\n        \"dtype\": \"number\",\n        \"std\": 0,\n        \"min\": 0,\n        \"max\": 2,\n        \"num_unique_values\": 3,\n        \"samples\": [\n          1,\n          2\n        ],\n        \"semantic_type\": \"\",\n        \"description\": \"\"\n      }\n    },\n    {\n      \"column\": \"MaxHR\",\n      \"properties\": {\n        \"dtype\": \"number\",\n        \"std\": 25,\n        \"min\": 60,\n        \"max\": 202,\n        \"num_unique_values\": 119,\n        \"samples\": [\n          132,\n          157\n        ],\n        \"semantic_type\": \"\",\n        \"description\": \"\"\n      }\n    },\n    {\n      \"column\": \"ExerciseAngina\",\n      \"properties\": {\n        \"dtype\": \"number\",\n        \"std\": 0,\n        \"min\": 0,\n        \"max\": 1,\n        \"num_unique_values\": 2,\n        \"samples\": [\n          1,\n          0\n        ],\n        \"semantic_type\": \"\",\n        \"description\": \"\"\n      }\n    },\n    {\n      \"column\": \"Oldpeak\",\n      \"properties\": {\n        \"dtype\": \"number\",\n        \"std\": 1.0676457138271613,\n        \"min\": -2.6,\n        \"max\": 6.2,\n        \"num_unique_values\": 53,\n        \"samples\": [\n          1.3,\n          0.6\n        ],\n        \"semantic_type\": \"\",\n        \"description\": \"\"\n      }\n    },\n    {\n      \"column\": \"ST_Slope\",\n      \"properties\": {\n        \"dtype\": \"number\",\n        \"std\": 0,\n        \"min\": 0,\n        \"max\": 2,\n        \"num_unique_values\": 3,\n        \"samples\": [\n          2,\n          1\n        ],\n        \"semantic_type\": \"\",\n        \"description\": \"\"\n      }\n    },\n    {\n      \"column\": \"HeartDisease\",\n      \"properties\": {\n        \"dtype\": \"number\",\n        \"std\": 0.4973654889019215,\n        \"min\": 0.0,\n        \"max\": 1.0,\n        \"num_unique_values\": 2,\n        \"samples\": [\n          1.0,\n          0.0\n        ],\n        \"semantic_type\": \"\",\n        \"description\": \"\"\n      }\n    }\n  ]\n}"
            }
          },
          "metadata": {},
          "execution_count": 42
        }
      ]
    },
    {
      "cell_type": "markdown",
      "source": [
        "#### Distribution of Categorical Features :"
      ],
      "metadata": {
        "id": "hdTWPTfdiod2"
      }
    },
    {
      "cell_type": "code",
      "source": [
        "fig, ax = plt.subplots(nrows = 3,ncols = 2,figsize = (10,15))\n",
        "for i in range(len(categorical_features) - 1):\n",
        "\n",
        "    plt.subplot(3,2,i+1)\n",
        "    sns.distplot(data_transformed[categorical_features[i]],kde_kws = {'bw' : 1});\n",
        "    title = 'Distribution : ' + categorical_features[i]\n",
        "    plt.title(title)\n",
        "\n",
        "plt.figure(figsize = (4.75,4.55))\n",
        "sns.distplot(data_transformed[categorical_features[len(categorical_features) - 1]],kde_kws = {'bw' : 1})\n",
        "title = 'Distribution : ' + categorical_features[len(categorical_features) - 1]\n",
        "plt.title(title);"
      ],
      "metadata": {
        "execution": {
          "iopub.status.busy": "2022-10-25T12:54:49.425955Z",
          "iopub.execute_input": "2022-10-25T12:54:49.426662Z",
          "iopub.status.idle": "2022-10-25T12:54:50.66444Z",
          "shell.execute_reply.started": "2022-10-25T12:54:49.426575Z",
          "shell.execute_reply": "2022-10-25T12:54:50.662756Z"
        },
        "trusted": true,
        "colab": {
          "base_uri": "https://localhost:8080/",
          "height": 1000
        },
        "id": "zw2DbzWViod2",
        "outputId": "cd562f86-b94d-4a94-897c-03b906c3802f"
      },
      "execution_count": 45,
      "outputs": [
        {
          "output_type": "stream",
          "name": "stderr",
          "text": [
            "<ipython-input-45-98cae369ce6c>:5: UserWarning: \n",
            "\n",
            "`distplot` is a deprecated function and will be removed in seaborn v0.14.0.\n",
            "\n",
            "Please adapt your code to use either `displot` (a figure-level function with\n",
            "similar flexibility) or `histplot` (an axes-level function for histograms).\n",
            "\n",
            "For a guide to updating your code to use the new functions, please see\n",
            "https://gist.github.com/mwaskom/de44147ed2974457ad6372750bbe5751\n",
            "\n",
            "  sns.distplot(data_transformed[categorical_features[i]],kde_kws = {'bw' : 1});\n",
            "/usr/local/lib/python3.10/dist-packages/seaborn/distributions.py:2496: UserWarning: \n",
            "\n",
            "The `bw` parameter is deprecated in favor of `bw_method` and `bw_adjust`.\n",
            "Setting `bw_method=1`, but please see the docs for the new parameters\n",
            "and update your code. This will become an error in seaborn v0.14.0.\n",
            "\n",
            "  kdeplot(**{axis: a}, ax=ax, color=kde_color, **kde_kws)\n",
            "<ipython-input-45-98cae369ce6c>:5: UserWarning: \n",
            "\n",
            "`distplot` is a deprecated function and will be removed in seaborn v0.14.0.\n",
            "\n",
            "Please adapt your code to use either `displot` (a figure-level function with\n",
            "similar flexibility) or `histplot` (an axes-level function for histograms).\n",
            "\n",
            "For a guide to updating your code to use the new functions, please see\n",
            "https://gist.github.com/mwaskom/de44147ed2974457ad6372750bbe5751\n",
            "\n",
            "  sns.distplot(data_transformed[categorical_features[i]],kde_kws = {'bw' : 1});\n",
            "/usr/local/lib/python3.10/dist-packages/seaborn/distributions.py:2496: UserWarning: \n",
            "\n",
            "The `bw` parameter is deprecated in favor of `bw_method` and `bw_adjust`.\n",
            "Setting `bw_method=1`, but please see the docs for the new parameters\n",
            "and update your code. This will become an error in seaborn v0.14.0.\n",
            "\n",
            "  kdeplot(**{axis: a}, ax=ax, color=kde_color, **kde_kws)\n",
            "<ipython-input-45-98cae369ce6c>:5: UserWarning: \n",
            "\n",
            "`distplot` is a deprecated function and will be removed in seaborn v0.14.0.\n",
            "\n",
            "Please adapt your code to use either `displot` (a figure-level function with\n",
            "similar flexibility) or `histplot` (an axes-level function for histograms).\n",
            "\n",
            "For a guide to updating your code to use the new functions, please see\n",
            "https://gist.github.com/mwaskom/de44147ed2974457ad6372750bbe5751\n",
            "\n",
            "  sns.distplot(data_transformed[categorical_features[i]],kde_kws = {'bw' : 1});\n",
            "/usr/local/lib/python3.10/dist-packages/seaborn/distributions.py:2496: UserWarning: \n",
            "\n",
            "The `bw` parameter is deprecated in favor of `bw_method` and `bw_adjust`.\n",
            "Setting `bw_method=1`, but please see the docs for the new parameters\n",
            "and update your code. This will become an error in seaborn v0.14.0.\n",
            "\n",
            "  kdeplot(**{axis: a}, ax=ax, color=kde_color, **kde_kws)\n",
            "<ipython-input-45-98cae369ce6c>:5: UserWarning: \n",
            "\n",
            "`distplot` is a deprecated function and will be removed in seaborn v0.14.0.\n",
            "\n",
            "Please adapt your code to use either `displot` (a figure-level function with\n",
            "similar flexibility) or `histplot` (an axes-level function for histograms).\n",
            "\n",
            "For a guide to updating your code to use the new functions, please see\n",
            "https://gist.github.com/mwaskom/de44147ed2974457ad6372750bbe5751\n",
            "\n",
            "  sns.distplot(data_transformed[categorical_features[i]],kde_kws = {'bw' : 1});\n",
            "/usr/local/lib/python3.10/dist-packages/seaborn/distributions.py:2496: UserWarning: \n",
            "\n",
            "The `bw` parameter is deprecated in favor of `bw_method` and `bw_adjust`.\n",
            "Setting `bw_method=1`, but please see the docs for the new parameters\n",
            "and update your code. This will become an error in seaborn v0.14.0.\n",
            "\n",
            "  kdeplot(**{axis: a}, ax=ax, color=kde_color, **kde_kws)\n",
            "<ipython-input-45-98cae369ce6c>:5: UserWarning: \n",
            "\n",
            "`distplot` is a deprecated function and will be removed in seaborn v0.14.0.\n",
            "\n",
            "Please adapt your code to use either `displot` (a figure-level function with\n",
            "similar flexibility) or `histplot` (an axes-level function for histograms).\n",
            "\n",
            "For a guide to updating your code to use the new functions, please see\n",
            "https://gist.github.com/mwaskom/de44147ed2974457ad6372750bbe5751\n",
            "\n",
            "  sns.distplot(data_transformed[categorical_features[i]],kde_kws = {'bw' : 1});\n",
            "/usr/local/lib/python3.10/dist-packages/seaborn/distributions.py:2496: UserWarning: \n",
            "\n",
            "The `bw` parameter is deprecated in favor of `bw_method` and `bw_adjust`.\n",
            "Setting `bw_method=1`, but please see the docs for the new parameters\n",
            "and update your code. This will become an error in seaborn v0.14.0.\n",
            "\n",
            "  kdeplot(**{axis: a}, ax=ax, color=kde_color, **kde_kws)\n",
            "<ipython-input-45-98cae369ce6c>:5: UserWarning: \n",
            "\n",
            "`distplot` is a deprecated function and will be removed in seaborn v0.14.0.\n",
            "\n",
            "Please adapt your code to use either `displot` (a figure-level function with\n",
            "similar flexibility) or `histplot` (an axes-level function for histograms).\n",
            "\n",
            "For a guide to updating your code to use the new functions, please see\n",
            "https://gist.github.com/mwaskom/de44147ed2974457ad6372750bbe5751\n",
            "\n",
            "  sns.distplot(data_transformed[categorical_features[i]],kde_kws = {'bw' : 1});\n",
            "/usr/local/lib/python3.10/dist-packages/seaborn/distributions.py:2496: UserWarning: \n",
            "\n",
            "The `bw` parameter is deprecated in favor of `bw_method` and `bw_adjust`.\n",
            "Setting `bw_method=1`, but please see the docs for the new parameters\n",
            "and update your code. This will become an error in seaborn v0.14.0.\n",
            "\n",
            "  kdeplot(**{axis: a}, ax=ax, color=kde_color, **kde_kws)\n",
            "<ipython-input-45-98cae369ce6c>:10: UserWarning: \n",
            "\n",
            "`distplot` is a deprecated function and will be removed in seaborn v0.14.0.\n",
            "\n",
            "Please adapt your code to use either `displot` (a figure-level function with\n",
            "similar flexibility) or `histplot` (an axes-level function for histograms).\n",
            "\n",
            "For a guide to updating your code to use the new functions, please see\n",
            "https://gist.github.com/mwaskom/de44147ed2974457ad6372750bbe5751\n",
            "\n",
            "  sns.distplot(data_transformed[categorical_features[len(categorical_features) - 1]],kde_kws = {'bw' : 1})\n",
            "/usr/local/lib/python3.10/dist-packages/seaborn/distributions.py:2496: UserWarning: \n",
            "\n",
            "The `bw` parameter is deprecated in favor of `bw_method` and `bw_adjust`.\n",
            "Setting `bw_method=1`, but please see the docs for the new parameters\n",
            "and update your code. This will become an error in seaborn v0.14.0.\n",
            "\n",
            "  kdeplot(**{axis: a}, ax=ax, color=kde_color, **kde_kws)\n"
          ]
        },
        {
          "output_type": "display_data",
          "data": {
            "text/plain": [
              "<Figure size 1000x1500 with 6 Axes>"
            ],
            "image/png": "[encoded data removed]"
          },
          "metadata": {}
        },
        {
          "output_type": "display_data",
          "data": {
            "text/plain": [
              "<Figure size 475x455 with 1 Axes>"
            ],
            "image/png": "[encoded data removed]"
          },
          "metadata": {}
        }
      ]
    },
    {
      "cell_type": "markdown",
      "source": [
        "- All the categorical features are near about **Normally Distributed**."
      ],
      "metadata": {
        "id": "1jYAOFvSiod2"
      }
    },
    {
      "cell_type": "code",
      "source": [
        "output_counts = data_transformed['HeartDisease'].value_counts()\n",
        "\n",
        "# Plotting the pie chart using Seaborn\n",
        "plt.figure(figsize=(3, 3))\n",
        "sns.set(style=\"whitegrid\")\n",
        "sns.color_palette(\"pastel\")\n",
        "sns.set_palette(\"pastel\")\n",
        "plt.pie(output_counts, labels=output_counts.index, autopct='%1.1f%%', startangle=140)\n",
        "plt.title('Distribution of Output Variable')\n",
        "plt.show()"
      ],
      "metadata": {
        "colab": {
          "base_uri": "https://localhost:8080/",
          "height": 290
        },
        "id": "3U7ZyaKkztVb",
        "outputId": "9f6cf33f-ff39-4f9c-ed4f-c4d3b2309514"
      },
      "execution_count": 50,
      "outputs": [
        {
          "output_type": "display_data",
          "data": {
            "text/plain": [
              "<Figure size 300x300 with 1 Axes>"
            ],
            "image/png": "[encoded data removed]"
          },
          "metadata": {}
        }
      ]
    },
    {
      "cell_type": "code",
      "source": [
        "pd.DataFrame(data['HeartDisease']).value_counts().plot(kind = 'bar')"
      ],
      "metadata": {
        "colab": {
          "base_uri": "https://localhost:8080/",
          "height": 502
        },
        "id": "SyvhzwDW0s94",
        "outputId": "b8f6b0f0-3eb7-45e0-c3e5-9ecc395018c7"
      },
      "execution_count": 48,
      "outputs": [
        {
          "output_type": "execute_result",
          "data": {
            "text/plain": [
              "<Axes: xlabel='HeartDisease'>"
            ]
          },
          "metadata": {},
          "execution_count": 48
        },
        {
          "output_type": "display_data",
          "data": {
            "text/plain": [
              "<Figure size 640x480 with 1 Axes>"
            ],
            "image/png": "[encoded data removed]"
          },
          "metadata": {}
        }
      ]
    },
    {
      "cell_type": "markdown",
      "source": [
        "### Numerical Features :\n",
        "\n",
        "#### Distribution of Numerical Features :"
      ],
      "metadata": {
        "id": "e7Hr5P7riod2"
      }
    },
    {
      "cell_type": "code",
      "source": [
        "fig, ax = plt.subplots(nrows = 2,ncols = 2,figsize = (10,9.75))\n",
        "for i in range(len(numerical_features) - 1):\n",
        "    plt.subplot(2,2,i+1)\n",
        "    sns.distplot(data[numerical_features[i]])\n",
        "    title = 'Distribution : ' + numerical_features[i]\n",
        "    plt.title(title)\n",
        "plt.show()\n",
        "\n",
        "plt.figure(figsize = (4.75,4.55))\n",
        "sns.distplot(data_transformed[numerical_features[len(numerical_features) - 1]],kde_kws = {'bw' : 1})\n",
        "title = 'Distribution : ' + numerical_features[len(numerical_features) - 1]\n",
        "plt.title(title);"
      ],
      "metadata": {
        "execution": {
          "iopub.status.busy": "2022-10-25T12:54:50.666083Z",
          "iopub.execute_input": "2022-10-25T12:54:50.6665Z",
          "iopub.status.idle": "2022-10-25T12:54:51.810244Z",
          "shell.execute_reply.started": "2022-10-25T12:54:50.666464Z",
          "shell.execute_reply": "2022-10-25T12:54:51.808993Z"
        },
        "trusted": true,
        "colab": {
          "base_uri": "https://localhost:8080/",
          "height": 1000
        },
        "id": "_MXfuCAjiod2",
        "outputId": "2205901a-88ef-4a02-bdd9-e5afcadca65e"
      },
      "execution_count": 51,
      "outputs": [
        {
          "output_type": "stream",
          "name": "stderr",
          "text": [
            "<ipython-input-51-5a1d25e5e16f>:4: UserWarning: \n",
            "\n",
            "`distplot` is a deprecated function and will be removed in seaborn v0.14.0.\n",
            "\n",
            "Please adapt your code to use either `displot` (a figure-level function with\n",
            "similar flexibility) or `histplot` (an axes-level function for histograms).\n",
            "\n",
            "For a guide to updating your code to use the new functions, please see\n",
            "https://gist.github.com/mwaskom/de44147ed2974457ad6372750bbe5751\n",
            "\n",
            "  sns.distplot(data[numerical_features[i]])\n",
            "<ipython-input-51-5a1d25e5e16f>:4: UserWarning: \n",
            "\n",
            "`distplot` is a deprecated function and will be removed in seaborn v0.14.0.\n",
            "\n",
            "Please adapt your code to use either `displot` (a figure-level function with\n",
            "similar flexibility) or `histplot` (an axes-level function for histograms).\n",
            "\n",
            "For a guide to updating your code to use the new functions, please see\n",
            "https://gist.github.com/mwaskom/de44147ed2974457ad6372750bbe5751\n",
            "\n",
            "  sns.distplot(data[numerical_features[i]])\n",
            "<ipython-input-51-5a1d25e5e16f>:4: UserWarning: \n",
            "\n",
            "`distplot` is a deprecated function and will be removed in seaborn v0.14.0.\n",
            "\n",
            "Please adapt your code to use either `displot` (a figure-level function with\n",
            "similar flexibility) or `histplot` (an axes-level function for histograms).\n",
            "\n",
            "For a guide to updating your code to use the new functions, please see\n",
            "https://gist.github.com/mwaskom/de44147ed2974457ad6372750bbe5751\n",
            "\n",
            "  sns.distplot(data[numerical_features[i]])\n",
            "<ipython-input-51-5a1d25e5e16f>:4: UserWarning: \n",
            "\n",
            "`distplot` is a deprecated function and will be removed in seaborn v0.14.0.\n",
            "\n",
            "Please adapt your code to use either `displot` (a figure-level function with\n",
            "similar flexibility) or `histplot` (an axes-level function for histograms).\n",
            "\n",
            "For a guide to updating your code to use the new functions, please see\n",
            "https://gist.github.com/mwaskom/de44147ed2974457ad6372750bbe5751\n",
            "\n",
            "  sns.distplot(data[numerical_features[i]])\n"
          ]
        },
        {
          "output_type": "display_data",
          "data": {
            "text/plain": [
              "<Figure size 1000x975 with 4 Axes>"
            ],
            "image/png": "[encoded data removed]"
          },
          "metadata": {}
        },
        {
          "output_type": "stream",
          "name": "stderr",
          "text": [
            "<ipython-input-51-5a1d25e5e16f>:10: UserWarning: \n",
            "\n",
            "`distplot` is a deprecated function and will be removed in seaborn v0.14.0.\n",
            "\n",
            "Please adapt your code to use either `displot` (a figure-level function with\n",
            "similar flexibility) or `histplot` (an axes-level function for histograms).\n",
            "\n",
            "For a guide to updating your code to use the new functions, please see\n",
            "https://gist.github.com/mwaskom/de44147ed2974457ad6372750bbe5751\n",
            "\n",
            "  sns.distplot(data_transformed[numerical_features[len(numerical_features) - 1]],kde_kws = {'bw' : 1})\n",
            "/usr/local/lib/python3.10/dist-packages/seaborn/distributions.py:2496: UserWarning: \n",
            "\n",
            "The `bw` parameter is deprecated in favor of `bw_method` and `bw_adjust`.\n",
            "Setting `bw_method=1`, but please see the docs for the new parameters\n",
            "and update your code. This will become an error in seaborn v0.14.0.\n",
            "\n",
            "  kdeplot(**{axis: a}, ax=ax, color=kde_color, **kde_kws)\n"
          ]
        },
        {
          "output_type": "display_data",
          "data": {
            "text/plain": [
              "<Figure size 475x455 with 1 Axes>"
            ],
            "image/png": "[encoded data removed]"
          },
          "metadata": {}
        }
      ]
    },
    {
      "cell_type": "markdown",
      "source": [
        "- **Oldpeak's** data distribution is rightly skewed.\n",
        "- **Cholestrol** has a bidmodal data distribution."
      ],
      "metadata": {
        "id": "ILoBFPAdiod2"
      }
    },
    {
      "cell_type": "markdown",
      "source": [
        "# <center><div style=\"font-family: Trebuchet MS; background-color: #F93822; color: #FDD20E; padding: 12px; line-height: 1;\">Feature Engineering</div></center>"
      ],
      "metadata": {
        "id": "mF699BLTioeD"
      }
    },
    {
      "cell_type": "markdown",
      "source": [
        "### Data Scaling :"
      ],
      "metadata": {
        "id": "x4JR0LlVioeD"
      }
    },
    {
      "cell_type": "code",
      "source": [
        "from sklearn.preprocessing import MinMaxScaler,StandardScaler\n",
        "mms = MinMaxScaler() # Normalization\n",
        "ss = StandardScaler() # Standardization\n",
        "\n",
        "data_transformed['Oldpeak'] = mms.fit_transform(data_transformed[['Oldpeak']])\n",
        "data_transformed['Age'] = ss.fit_transform(data_transformed[['Age']])\n",
        "data_transformed['RestingBP'] = ss.fit_transform(data_transformed[['RestingBP']])\n",
        "data_transformed['Cholesterol'] = ss.fit_transform(data_transformed[['Cholesterol']])\n",
        "data_transformed['MaxHR'] = ss.fit_transform(data_transformed[['MaxHR']])\n",
        "data_transformed.head()"
      ],
      "metadata": {
        "execution": {
          "iopub.status.busy": "2022-10-25T12:55:14.330447Z",
          "iopub.execute_input": "2022-10-25T12:55:14.331084Z",
          "iopub.status.idle": "2022-10-25T12:55:14.370181Z",
          "shell.execute_reply.started": "2022-10-25T12:55:14.331047Z",
          "shell.execute_reply": "2022-10-25T12:55:14.368993Z"
        },
        "trusted": true,
        "colab": {
          "base_uri": "https://localhost:8080/",
          "height": 226
        },
        "id": "NhgpBJS1ioeD",
        "outputId": "2691304a-7f4c-47bf-f192-e872d6ef8b01"
      },
      "execution_count": 59,
      "outputs": [
        {
          "output_type": "execute_result",
          "data": {
            "text/plain": [
              "        Age  Sex  ChestPainType  RestingBP  Cholesterol  FastingBS  \\\n",
              "0 -1.470827    1              1   0.414873     0.840011          0   \n",
              "1 -0.503672    0              2   1.496632    -0.159871          0   \n",
              "2 -1.793212    1              1  -0.126007     0.784971          0   \n",
              "3 -0.611133    0              0   0.306697     0.152019          0   \n",
              "4  0.033637    1              2   0.955752    -0.022273          0   \n",
              "\n",
              "   RestingECG     MaxHR  ExerciseAngina   Oldpeak  ST_Slope  HeartDisease  \n",
              "0           1  1.381963               0  0.295455         2           0.0  \n",
              "1           1  0.754131               0  0.409091         1           1.0  \n",
              "2           2 -1.521760               0  0.295455         2           0.0  \n",
              "3           1 -1.129365               1  0.465909         1           1.0  \n",
              "4           1 -0.580012               0  0.295455         2           0.0  "
            ],
            "text/html": [
              "\n",
              "  <div id=\"df-35d93a86-6ac1-4f12-bdb1-e97cb694f783\" class=\"colab-df-container\">\n",
              "    <div>\n",
              "<style scoped>\n",
              "    .dataframe tbody tr th:only-of-type {\n",
              "        vertical-align: middle;\n",
              "    }\n",
              "\n",
              "    .dataframe tbody tr th {\n",
              "        vertical-align: top;\n",
              "    }\n",
              "\n",
              "    .dataframe thead th {\n",
              "        text-align: right;\n",
              "    }\n",
              "</style>\n",
              "<table border=\"1\" class=\"dataframe\">\n",
              "  <thead>\n",
              "    <tr style=\"text-align: right;\">\n",
              "      <th></th>\n",
              "      <th>Age</th>\n",
              "      <th>Sex</th>\n",
              "      <th>ChestPainType</th>\n",
              "      <th>RestingBP</th>\n",
              "      <th>Cholesterol</th>\n",
              "      <th>FastingBS</th>\n",
              "      <th>RestingECG</th>\n",
              "      <th>MaxHR</th>\n",
              "      <th>ExerciseAngina</th>\n",
              "      <th>Oldpeak</th>\n",
              "      <th>ST_Slope</th>\n",
              "      <th>HeartDisease</th>\n",
              "    </tr>\n",
              "  </thead>\n",
              "  <tbody>\n",
              "    <tr>\n",
              "      <th>0</th>\n",
              "      <td>-1.470827</td>\n",
              "      <td>1</td>\n",
              "      <td>1</td>\n",
              "      <td>0.414873</td>\n",
              "      <td>0.840011</td>\n",
              "      <td>0</td>\n",
              "      <td>1</td>\n",
              "      <td>1.381963</td>\n",
              "      <td>0</td>\n",
              "      <td>0.295455</td>\n",
              "      <td>2</td>\n",
              "      <td>0.0</td>\n",
              "    </tr>\n",
              "    <tr>\n",
              "      <th>1</th>\n",
              "      <td>-0.503672</td>\n",
              "      <td>0</td>\n",
              "      <td>2</td>\n",
              "      <td>1.496632</td>\n",
              "      <td>-0.159871</td>\n",
              "      <td>0</td>\n",
              "      <td>1</td>\n",
              "      <td>0.754131</td>\n",
              "      <td>0</td>\n",
              "      <td>0.409091</td>\n",
              "      <td>1</td>\n",
              "      <td>1.0</td>\n",
              "    </tr>\n",
              "    <tr>\n",
              "      <th>2</th>\n",
              "      <td>-1.793212</td>\n",
              "      <td>1</td>\n",
              "      <td>1</td>\n",
              "      <td>-0.126007</td>\n",
              "      <td>0.784971</td>\n",
              "      <td>0</td>\n",
              "      <td>2</td>\n",
              "      <td>-1.521760</td>\n",
              "      <td>0</td>\n",
              "      <td>0.295455</td>\n",
              "      <td>2</td>\n",
              "      <td>0.0</td>\n",
              "    </tr>\n",
              "    <tr>\n",
              "      <th>3</th>\n",
              "      <td>-0.611133</td>\n",
              "      <td>0</td>\n",
              "      <td>0</td>\n",
              "      <td>0.306697</td>\n",
              "      <td>0.152019</td>\n",
              "      <td>0</td>\n",
              "      <td>1</td>\n",
              "      <td>-1.129365</td>\n",
              "      <td>1</td>\n",
              "      <td>0.465909</td>\n",
              "      <td>1</td>\n",
              "      <td>1.0</td>\n",
              "    </tr>\n",
              "    <tr>\n",
              "      <th>4</th>\n",
              "      <td>0.033637</td>\n",
              "      <td>1</td>\n",
              "      <td>2</td>\n",
              "      <td>0.955752</td>\n",
              "      <td>-0.022273</td>\n",
              "      <td>0</td>\n",
              "      <td>1</td>\n",
              "      <td>-0.580012</td>\n",
              "      <td>0</td>\n",
              "      <td>0.295455</td>\n",
              "      <td>2</td>\n",
              "      <td>0.0</td>\n",
              "    </tr>\n",
              "  </tbody>\n",
              "</table>\n",
              "</div>\n",
              "    <div class=\"colab-df-buttons\">\n",
              "\n",
              "  <div class=\"colab-df-container\">\n",
              "    <button class=\"colab-df-convert\" onclick=\"convertToInteractive('df-35d93a86-6ac1-4f12-bdb1-e97cb694f783')\"\n",
              "            title=\"Convert this dataframe to an interactive table.\"\n",
              "            style=\"display:none;\">\n",
              "\n",
              "  <svg xmlns=\"http://www.w3.org/2000/svg\" height=\"24px\" viewBox=\"0 -960 960 960\">\n",
              "    <path d=\"M120-120v-720h720v720H120Zm60-500h600v-160H180v160Zm220 220h160v-160H400v160Zm0 220h160v-160H400v160ZM180-400h160v-160H180v160Zm440 0h160v-160H620v160ZM180-180h160v-160H180v160Zm440 0h160v-160H620v160Z\"/>\n",
              "  </svg>\n",
              "    </button>\n",
              "\n",
              "  <style>\n",
              "    .colab-df-container {\n",
              "      display:flex;\n",
              "      gap: 12px;\n",
              "    }\n",
              "\n",
              "    .colab-df-convert {\n",
              "      background-color: #E8F0FE;\n",
              "      border: none;\n",
              "      border-radius: 50%;\n",
              "      cursor: pointer;\n",
              "      display: none;\n",
              "      fill: #1967D2;\n",
              "      height: 32px;\n",
              "      padding: 0 0 0 0;\n",
              "      width: 32px;\n",
              "    }\n",
              "\n",
              "    .colab-df-convert:hover {\n",
              "      background-color: #E2EBFA;\n",
              "      box-shadow: 0px 1px 2px rgba(60, 64, 67, 0.3), 0px 1px 3px 1px rgba(60, 64, 67, 0.15);\n",
              "      fill: #174EA6;\n",
              "    }\n",
              "\n",
              "    .colab-df-buttons div {\n",
              "      margin-bottom: 4px;\n",
              "    }\n",
              "\n",
              "    [theme=dark] .colab-df-convert {\n",
              "      background-color: #3B4455;\n",
              "      fill: #D2E3FC;\n",
              "    }\n",
              "\n",
              "    [theme=dark] .colab-df-convert:hover {\n",
              "      background-color: #434B5C;\n",
              "      box-shadow: 0px 1px 3px 1px rgba(0, 0, 0, 0.15);\n",
              "      filter: drop-shadow(0px 1px 2px rgba(0, 0, 0, 0.3));\n",
              "      fill: #FFFFFF;\n",
              "    }\n",
              "  </style>\n",
              "\n",
              "    <script>\n",
              "      const buttonEl =\n",
              "        document.querySelector('#df-35d93a86-6ac1-4f12-bdb1-e97cb694f783 button.colab-df-convert');\n",
              "      buttonEl.style.display =\n",
              "        google.colab.kernel.accessAllowed ? 'block' : 'none';\n",
              "\n",
              "      async function convertToInteractive(key) {\n",
              "        const element = document.querySelector('#df-35d93a86-6ac1-4f12-bdb1-e97cb694f783');\n",
              "        const dataTable =\n",
              "          await google.colab.kernel.invokeFunction('convertToInteractive',\n",
              "                                                    [key], {});\n",
              "        if (!dataTable) return;\n",
              "\n",
              "        const docLinkHtml = 'Like what you see? Visit the ' +\n",
              "          '<a target=\"_blank\" href=https://colab.research.google.com/notebooks/data_table.ipynb>data table notebook</a>'\n",
              "          + ' to learn more about interactive tables.';\n",
              "        element.innerHTML = '';\n",
              "        dataTable['output_type'] = 'display_data';\n",
              "        await google.colab.output.renderOutput(dataTable, element);\n",
              "        const docLink = document.createElement('div');\n",
              "        docLink.innerHTML = docLinkHtml;\n",
              "        element.appendChild(docLink);\n",
              "      }\n",
              "    </script>\n",
              "  </div>\n",
              "\n",
              "\n",
              "<div id=\"df-5197e522-1ac1-460b-b44d-8a3a00f08f16\">\n",
              "  <button class=\"colab-df-quickchart\" onclick=\"quickchart('df-5197e522-1ac1-460b-b44d-8a3a00f08f16')\"\n",
              "            title=\"Suggest charts\"\n",
              "            style=\"display:none;\">\n",
              "\n",
              "<svg xmlns=\"http://www.w3.org/2000/svg\" height=\"24px\"viewBox=\"0 0 24 24\"\n",
              "     width=\"24px\">\n",
              "    <g>\n",
              "        <path d=\"M19 3H5c-1.1 0-2 .9-2 2v14c0 1.1.9 2 2 2h14c1.1 0 2-.9 2-2V5c0-1.1-.9-2-2-2zM9 17H7v-7h2v7zm4 0h-2V7h2v10zm4 0h-2v-4h2v4z\"/>\n",
              "    </g>\n",
              "</svg>\n",
              "  </button>\n",
              "\n",
              "<style>\n",
              "  .colab-df-quickchart {\n",
              "      --bg-color: #E8F0FE;\n",
              "      --fill-color: #1967D2;\n",
              "      --hover-bg-color: #E2EBFA;\n",
              "      --hover-fill-color: #174EA6;\n",
              "      --disabled-fill-color: #AAA;\n",
              "      --disabled-bg-color: #DDD;\n",
              "  }\n",
              "\n",
              "  [theme=dark] .colab-df-quickchart {\n",
              "      --bg-color: #3B4455;\n",
              "      --fill-color: #D2E3FC;\n",
              "      --hover-bg-color: #434B5C;\n",
              "      --hover-fill-color: #FFFFFF;\n",
              "      --disabled-bg-color: #3B4455;\n",
              "      --disabled-fill-color: #666;\n",
              "  }\n",
              "\n",
              "  .colab-df-quickchart {\n",
              "    background-color: var(--bg-color);\n",
              "    border: none;\n",
              "    border-radius: 50%;\n",
              "    cursor: pointer;\n",
              "    display: none;\n",
              "    fill: var(--fill-color);\n",
              "    height: 32px;\n",
              "    padding: 0;\n",
              "    width: 32px;\n",
              "  }\n",
              "\n",
              "  .colab-df-quickchart:hover {\n",
              "    background-color: var(--hover-bg-color);\n",
              "    box-shadow: 0 1px 2px rgba(60, 64, 67, 0.3), 0 1px 3px 1px rgba(60, 64, 67, 0.15);\n",
              "    fill: var(--button-hover-fill-color);\n",
              "  }\n",
              "\n",
              "  .colab-df-quickchart-complete:disabled,\n",
              "  .colab-df-quickchart-complete:disabled:hover {\n",
              "    background-color: var(--disabled-bg-color);\n",
              "    fill: var(--disabled-fill-color);\n",
              "    box-shadow: none;\n",
              "  }\n",
              "\n",
              "  .colab-df-spinner {\n",
              "    border: 2px solid var(--fill-color);\n",
              "    border-color: transparent;\n",
              "    border-bottom-color: var(--fill-color);\n",
              "    animation:\n",
              "      spin 1s steps(1) infinite;\n",
              "  }\n",
              "\n",
              "  @keyframes spin {\n",
              "    0% {\n",
              "      border-color: transparent;\n",
              "      border-bottom-color: var(--fill-color);\n",
              "      border-left-color: var(--fill-color);\n",
              "    }\n",
              "    20% {\n",
              "      border-color: transparent;\n",
              "      border-left-color: var(--fill-color);\n",
              "      border-top-color: var(--fill-color);\n",
              "    }\n",
              "    30% {\n",
              "      border-color: transparent;\n",
              "      border-left-color: var(--fill-color);\n",
              "      border-top-color: var(--fill-color);\n",
              "      border-right-color: var(--fill-color);\n",
              "    }\n",
              "    40% {\n",
              "      border-color: transparent;\n",
              "      border-right-color: var(--fill-color);\n",
              "      border-top-color: var(--fill-color);\n",
              "    }\n",
              "    60% {\n",
              "      border-color: transparent;\n",
              "      border-right-color: var(--fill-color);\n",
              "    }\n",
              "    80% {\n",
              "      border-color: transparent;\n",
              "      border-right-color: var(--fill-color);\n",
              "      border-bottom-color: var(--fill-color);\n",
              "    }\n",
              "    90% {\n",
              "      border-color: transparent;\n",
              "      border-bottom-color: var(--fill-color);\n",
              "    }\n",
              "  }\n",
              "</style>\n",
              "\n",
              "  <script>\n",
              "    async function quickchart(key) {\n",
              "      const quickchartButtonEl =\n",
              "        document.querySelector('#' + key + ' button');\n",
              "      quickchartButtonEl.disabled = true;  // To prevent multiple clicks.\n",
              "      quickchartButtonEl.classList.add('colab-df-spinner');\n",
              "      try {\n",
              "        const charts = await google.colab.kernel.invokeFunction(\n",
              "            'suggestCharts', [key], {});\n",
              "      } catch (error) {\n",
              "        console.error('Error during call to suggestCharts:', error);\n",
              "      }\n",
              "      quickchartButtonEl.classList.remove('colab-df-spinner');\n",
              "      quickchartButtonEl.classList.add('colab-df-quickchart-complete');\n",
              "    }\n",
              "    (() => {\n",
              "      let quickchartButtonEl =\n",
              "        document.querySelector('#df-5197e522-1ac1-460b-b44d-8a3a00f08f16 button');\n",
              "      quickchartButtonEl.style.display =\n",
              "        google.colab.kernel.accessAllowed ? 'block' : 'none';\n",
              "    })();\n",
              "  </script>\n",
              "</div>\n",
              "\n",
              "    </div>\n",
              "  </div>\n"
            ],
            "application/vnd.google.colaboratory.intrinsic+json": {
              "type": "dataframe",
              "variable_name": "data_transformed",
              "summary": "{\n  \"name\": \"data_transformed\",\n  \"rows\": 910,\n  \"fields\": [\n    {\n      \"column\": \"Age\",\n      \"properties\": {\n        \"dtype\": \"number\",\n        \"std\": 1.0005499038084014,\n        \"min\": -2.7603669315502093,\n        \"max\": 2.5052552707287843,\n        \"num_unique_values\": 51,\n        \"samples\": [\n          1.4306384947534794,\n          1.9679468827411317,\n          1.7530235275460708\n        ],\n        \"semantic_type\": \"\",\n        \"description\": \"\"\n      }\n    },\n    {\n      \"column\": \"Sex\",\n      \"properties\": {\n        \"dtype\": \"number\",\n        \"std\": 0,\n        \"min\": 0,\n        \"max\": 1,\n        \"num_unique_values\": 2,\n        \"samples\": [\n          0,\n          1\n        ],\n        \"semantic_type\": \"\",\n        \"description\": \"\"\n      }\n    },\n    {\n      \"column\": \"ChestPainType\",\n      \"properties\": {\n        \"dtype\": \"number\",\n        \"std\": 0,\n        \"min\": 0,\n        \"max\": 3,\n        \"num_unique_values\": 4,\n        \"samples\": [\n          2,\n          3\n        ],\n        \"semantic_type\": \"\",\n        \"description\": \"\"\n      }\n    },\n    {\n      \"column\": \"RestingBP\",\n      \"properties\": {\n        \"dtype\": \"number\",\n        \"std\": 1.0005499038084014,\n        \"min\": -7.157442505764173,\n        \"max\": 3.6601503861896507,\n        \"num_unique_values\": 67,\n        \"samples\": [\n          1.7670716300977316,\n          -0.7750626995114172\n        ],\n        \"semantic_type\": \"\",\n        \"description\": \"\"\n      }\n    },\n    {\n      \"column\": \"Cholesterol\",\n      \"properties\": {\n        \"dtype\": \"number\",\n        \"std\": 1.0005499038084011,\n        \"min\": -1.8110519492853543,\n        \"max\": 3.7204043502623323,\n        \"num_unique_values\": 221,\n        \"samples\": [\n          0.8950502204767811,\n          -0.6552252598276287\n        ],\n        \"semantic_type\": \"\",\n        \"description\": \"\"\n      }\n    },\n    {\n      \"column\": \"FastingBS\",\n      \"properties\": {\n        \"dtype\": \"number\",\n        \"std\": 0,\n        \"min\": 0,\n        \"max\": 1,\n        \"num_unique_values\": 2,\n        \"samples\": [\n          1,\n          0\n        ],\n        \"semantic_type\": \"\",\n        \"description\": \"\"\n      }\n    },\n    {\n      \"column\": \"RestingECG\",\n      \"properties\": {\n        \"dtype\": \"number\",\n        \"std\": 0,\n        \"min\": 0,\n        \"max\": 2,\n        \"num_unique_values\": 3,\n        \"samples\": [\n          1,\n          2\n        ],\n        \"semantic_type\": \"\",\n        \"description\": \"\"\n      }\n    },\n    {\n      \"column\": \"MaxHR\",\n      \"properties\": {\n        \"dtype\": \"number\",\n        \"std\": 1.0005499038084014,\n        \"min\": -3.0128606018235766,\n        \"max\": 2.559148485890104,\n        \"num_unique_values\": 119,\n        \"samples\": [\n          -0.18761655734903437,\n          0.7933709580935151\n        ],\n        \"semantic_type\": \"\",\n        \"description\": \"\"\n      }\n    },\n    {\n      \"column\": \"ExerciseAngina\",\n      \"properties\": {\n        \"dtype\": \"number\",\n        \"std\": 0,\n        \"min\": 0,\n        \"max\": 1,\n        \"num_unique_values\": 2,\n        \"samples\": [\n          1,\n          0\n        ],\n        \"semantic_type\": \"\",\n        \"description\": \"\"\n      }\n    },\n    {\n      \"column\": \"Oldpeak\",\n      \"properties\": {\n        \"dtype\": \"number\",\n        \"std\": 0.12132337657126832,\n        \"min\": 0.0,\n        \"max\": 1.0,\n        \"num_unique_values\": 53,\n        \"samples\": [\n          0.44318181818181823,\n          0.36363636363636365\n        ],\n        \"semantic_type\": \"\",\n        \"description\": \"\"\n      }\n    },\n    {\n      \"column\": \"ST_Slope\",\n      \"properties\": {\n        \"dtype\": \"number\",\n        \"std\": 0,\n        \"min\": 0,\n        \"max\": 2,\n        \"num_unique_values\": 3,\n        \"samples\": [\n          2,\n          1\n        ],\n        \"semantic_type\": \"\",\n        \"description\": \"\"\n      }\n    },\n    {\n      \"column\": \"HeartDisease\",\n      \"properties\": {\n        \"dtype\": \"number\",\n        \"std\": 0.4973654889019215,\n        \"min\": 0.0,\n        \"max\": 1.0,\n        \"num_unique_values\": 2,\n        \"samples\": [\n          1.0,\n          0.0\n        ],\n        \"semantic_type\": \"\",\n        \"description\": \"\"\n      }\n    }\n  ]\n}"
            }
          },
          "metadata": {},
          "execution_count": 59
        }
      ]
    },
    {
      "cell_type": "markdown",
      "source": [
        "- Machine learning model does not understand the units of the values of the features. It treats the input just as a simple number but does not understand the true meaning of that value. Thus, it becomes necessary to scale the data.\n",
        "\n",
        "**Eg :** Age = Years; FastingBS = mg / dl\n",
        "\n",
        "- We have 2 options for data scaling : 1) **Normalization** 2) **Standardization**. As most of the algorithms assume the data to be normally (Gaussian) distributed, **Normalization** is done for features whose data does not display normal distribution and **standardization** is carried out for features that are normally distributed where their values are huge or very small as compared to other features.\n",
        "\n",
        "\n",
        "- **Normalization** : **Oldpeak** feature is normalized as it had displayed a right skewed data distribution.\n",
        "- **Standardizarion** : **Age**, **RestingBP**, **Cholesterol** and **MaxHR** features are scaled down because these features are normally distributed."
      ],
      "metadata": {
        "id": "GqtA6vvkioeD"
      }
    },
    {
      "cell_type": "markdown",
      "source": [
        "### Correlation Matrix :"
      ],
      "metadata": {
        "id": "idccNQf6ioeD"
      }
    },
    {
      "cell_type": "code",
      "source": [
        "plt.figure(figsize = (20,5))\n",
        "sns.heatmap(data_transformed.corr(),cmap = 'Blues',annot = True);"
      ],
      "metadata": {
        "execution": {
          "iopub.status.busy": "2022-10-25T12:55:14.371771Z",
          "iopub.execute_input": "2022-10-25T12:55:14.372148Z",
          "iopub.status.idle": "2022-10-25T12:55:15.294314Z",
          "shell.execute_reply.started": "2022-10-25T12:55:14.372114Z",
          "shell.execute_reply": "2022-10-25T12:55:15.293339Z"
        },
        "trusted": true,
        "colab": {
          "base_uri": "https://localhost:8080/",
          "height": 303
        },
        "id": "7R9DQhFDioeD",
        "outputId": "84838ee2-0ddc-47b8-b6ae-75b25c26154c"
      },
      "execution_count": 60,
      "outputs": [
        {
          "output_type": "display_data",
          "data": {
            "text/plain": [
              "<Figure size 2000x500 with 2 Axes>"
            ],
            "image/png": "[encoded data removed]"
          },
          "metadata": {}
        }
      ]
    },
    {
      "cell_type": "markdown",
      "source": [
        "- It is a huge matrix with too many features. We will check the correlation only with respect to **HeartDisease**."
      ],
      "metadata": {
        "id": "SOMQF_D7ioeE"
      }
    },
    {
      "cell_type": "code",
      "source": [
        "X_corr = data_transformed.corr()\n",
        "for row in X_corr.index:\n",
        "    for col in X_corr.columns:\n",
        "      if(row!=col):\n",
        "        value = X_corr.loc[row, col]\n",
        "        if value > 0.7 or value < -0.7:\n",
        "            print(f\"Value {value} in cell ({row}, {col}) is outside the range.\")\n",
        "      else:\n",
        "          print(\"There are no values in that range\")"
      ],
      "metadata": {
        "colab": {
          "base_uri": "https://localhost:8080/"
        },
        "id": "0YWE93sl2_CV",
        "outputId": "872d8525-461b-4e9d-b73e-9a70936c6a87"
      },
      "execution_count": 65,
      "outputs": [
        {
          "output_type": "stream",
          "name": "stdout",
          "text": [
            "There are no values in that range\n",
            "There are no values in that range\n",
            "There are no values in that range\n",
            "There are no values in that range\n",
            "There are no values in that range\n",
            "There are no values in that range\n",
            "There are no values in that range\n",
            "There are no values in that range\n",
            "There are no values in that range\n",
            "There are no values in that range\n",
            "There are no values in that range\n",
            "There are no values in that range\n"
          ]
        }
      ]
    },
    {
      "cell_type": "code",
      "source": [
        "corr = data_transformed.corrwith(data_transformed['HeartDisease']).sort_values(ascending = False).to_frame()\n",
        "corr.columns = ['Correlations']\n",
        "plt.subplots(figsize = (5,5))\n",
        "sns.heatmap(corr,annot = True,cmap = 'Blues',linewidths = 0.4,linecolor = 'black');\n",
        "plt.title('Correlation w.r.t HeartDisease');"
      ],
      "metadata": {
        "execution": {
          "iopub.status.busy": "2022-10-25T12:55:15.295772Z",
          "iopub.execute_input": "2022-10-25T12:55:15.296191Z",
          "iopub.status.idle": "2022-10-25T12:55:15.646968Z",
          "shell.execute_reply.started": "2022-10-25T12:55:15.296154Z",
          "shell.execute_reply": "2022-10-25T12:55:15.645549Z"
        },
        "trusted": true,
        "colab": {
          "base_uri": "https://localhost:8080/",
          "height": 472
        },
        "id": "T93IECm-ioeE",
        "outputId": "b3997297-a312-4428-91fb-4ed0706c5d90"
      },
      "execution_count": 66,
      "outputs": [
        {
          "output_type": "display_data",
          "data": {
            "text/plain": [
              "<Figure size 500x500 with 2 Axes>"
            ],
            "image/png": "[encoded data removed]"
          },
          "metadata": {}
        }
      ]
    },
    {
      "cell_type": "markdown",
      "source": [
        "- Except for **RestingBP** and **RestingECG**, everyone displays a positive or negative relationship with **HeartDisease**."
      ],
      "metadata": {
        "id": "m4Xqct8lioeE"
      }
    },
    {
      "cell_type": "markdown",
      "source": [
        "### Feature Selection for Categorical Features :"
      ],
      "metadata": {
        "id": "EDKvXffMioeE"
      }
    },
    {
      "cell_type": "markdown",
      "source": [
        "#### Chi Squared Test :"
      ],
      "metadata": {
        "id": "3-q8JBaDioeE"
      }
    },
    {
      "cell_type": "code",
      "source": [
        "from sklearn.feature_selection import SelectKBest\n",
        "from sklearn.feature_selection import chi2"
      ],
      "metadata": {
        "execution": {
          "iopub.status.busy": "2022-10-25T12:55:15.650186Z",
          "iopub.execute_input": "2022-10-25T12:55:15.650754Z",
          "iopub.status.idle": "2022-10-25T12:55:15.866197Z",
          "shell.execute_reply.started": "2022-10-25T12:55:15.650692Z",
          "shell.execute_reply": "2022-10-25T12:55:15.864882Z"
        },
        "trusted": true,
        "id": "0ZW6DRN5ioeE"
      },
      "execution_count": null,
      "outputs": []
    },
    {
      "cell_type": "code",
      "source": [
        "features = df1.loc[:,categorical_features[:-1]]\n",
        "target = df1.loc[:,categorical_features[-1]]\n",
        "\n",
        "best_features = SelectKBest(score_func = chi2,k = 'all')\n",
        "fit = best_features.fit(features,target)\n",
        "\n",
        "featureScores = pd.DataFrame(data = fit.scores_,index = list(features.columns),columns = ['Chi Squared Score'])\n",
        "\n",
        "plt.subplots(figsize = (5,5))\n",
        "sns.heatmap(featureScores.sort_values(ascending = False,by = 'Chi Squared Score'),annot = True,cmap = colors,linewidths = 0.4,linecolor = 'black',fmt = '.2f');\n",
        "plt.title('Selection of Categorical Features');"
      ],
      "metadata": {
        "execution": {
          "iopub.status.busy": "2022-10-25T12:55:15.86799Z",
          "iopub.execute_input": "2022-10-25T12:55:15.868652Z",
          "iopub.status.idle": "2022-10-25T12:55:16.168029Z",
          "shell.execute_reply.started": "2022-10-25T12:55:15.868606Z",
          "shell.execute_reply": "2022-10-25T12:55:16.166176Z"
        },
        "trusted": true,
        "id": "QgPBqU4uioeE"
      },
      "execution_count": null,
      "outputs": []
    },
    {
      "cell_type": "markdown",
      "source": [
        "- Except **RestingECG**, all the remaining categorical features are pretty important for predicting heart diseases."
      ],
      "metadata": {
        "id": "FEI8BQTZioeE"
      }
    },
    {
      "cell_type": "markdown",
      "source": [
        "### Feature Selection for Numerical Features :"
      ],
      "metadata": {
        "id": "rewyzJAhioeE"
      }
    },
    {
      "cell_type": "markdown",
      "source": [
        "#### ANOVA Test :"
      ],
      "metadata": {
        "id": "Q4INAqxqioeE"
      }
    },
    {
      "cell_type": "code",
      "source": [
        "from sklearn.feature_selection import f_classif\n",
        "\n",
        "features = df1.loc[:,numerical_features]\n",
        "target = df1.loc[:,categorical_features[-1]]\n",
        "\n",
        "best_features = SelectKBest(score_func = f_classif,k = 'all')\n",
        "fit = best_features.fit(features,target)\n",
        "\n",
        "featureScores = pd.DataFrame(data = fit.scores_,index = list(features.columns),columns = ['ANOVA Score'])\n",
        "\n",
        "plt.subplots(figsize = (5,5))\n",
        "sns.heatmap(featureScores.sort_values(ascending = False,by = 'ANOVA Score'),annot = True,cmap = colors,linewidths = 0.4,linecolor = 'black',fmt = '.2f');\n",
        "plt.title('Selection of Numerical Features');"
      ],
      "metadata": {
        "execution": {
          "iopub.status.busy": "2022-10-25T12:55:16.169767Z",
          "iopub.execute_input": "2022-10-25T12:55:16.170449Z",
          "iopub.status.idle": "2022-10-25T12:55:16.675505Z",
          "shell.execute_reply.started": "2022-10-25T12:55:16.170392Z",
          "shell.execute_reply": "2022-10-25T12:55:16.674005Z"
        },
        "trusted": true,
        "id": "tspfFXxqioeF"
      },
      "execution_count": null,
      "outputs": []
    },
    {
      "cell_type": "markdown",
      "source": [
        "- We will leave out **RestingBP** from the modeling part and take the remaining features."
      ],
      "metadata": {
        "id": "oNcVqAA-ioeF"
      }
    },
    {
      "cell_type": "markdown",
      "source": [
        "# <center><div style=\"font-family: Trebuchet MS; background-color: #F93822; color: #FDD20E; padding: 12px; line-height: 1;\">Modeling</div></center>"
      ],
      "metadata": {
        "id": "2rhB4fhWioeF"
      }
    },
    {
      "cell_type": "code",
      "source": [
        "from sklearn.model_selection import train_test_split\n",
        "from sklearn.metrics import confusion_matrix\n",
        "from sklearn.metrics import roc_auc_score\n",
        "from sklearn.metrics import plot_roc_curve\n",
        "from sklearn.model_selection import cross_val_score\n",
        "from sklearn.model_selection import GridSearchCV\n",
        "from sklearn.metrics import classification_report\n",
        "from sklearn.metrics import accuracy_score\n",
        "from sklearn.model_selection import RepeatedStratifiedKFold\n",
        "from sklearn.metrics import precision_recall_curve"
      ],
      "metadata": {
        "execution": {
          "iopub.status.busy": "2022-10-25T12:55:16.676967Z",
          "iopub.execute_input": "2022-10-25T12:55:16.67741Z",
          "iopub.status.idle": "2022-10-25T12:55:16.685396Z",
          "shell.execute_reply.started": "2022-10-25T12:55:16.677377Z",
          "shell.execute_reply": "2022-10-25T12:55:16.684001Z"
        },
        "trusted": true,
        "id": "v4B1lFojioeF"
      },
      "execution_count": null,
      "outputs": []
    },
    {
      "cell_type": "code",
      "source": [
        "features = df1[df1.columns.drop(['HeartDisease','RestingBP','RestingECG'])].values\n",
        "target = df1['HeartDisease'].values\n",
        "x_train, x_test, y_train, y_test = train_test_split(features, target, test_size = 0.20, random_state = 2)"
      ],
      "metadata": {
        "execution": {
          "iopub.status.busy": "2022-10-25T12:55:16.687234Z",
          "iopub.execute_input": "2022-10-25T12:55:16.687777Z",
          "iopub.status.idle": "2022-10-25T12:55:16.698293Z",
          "shell.execute_reply.started": "2022-10-25T12:55:16.687729Z",
          "shell.execute_reply": "2022-10-25T12:55:16.697156Z"
        },
        "trusted": true,
        "id": "w2Zievj6ioeF"
      },
      "execution_count": null,
      "outputs": []
    },
    {
      "cell_type": "markdown",
      "source": [
        "- Selecting the features from the above conducted tests and splitting the data into **80 - 20 train - test** groups."
      ],
      "metadata": {
        "id": "5v4K1HloioeF"
      }
    },
    {
      "cell_type": "code",
      "source": [
        "def model(classifier):\n",
        "\n",
        "    classifier.fit(x_train,y_train)\n",
        "    prediction = classifier.predict(x_test)\n",
        "    cv = RepeatedStratifiedKFold(n_splits = 10,n_repeats = 3,random_state = 1)\n",
        "    print(\"Accuracy : \",'{0:.2%}'.format(accuracy_score(y_test,prediction)))\n",
        "    print(\"Cross Validation Score : \",'{0:.2%}'.format(cross_val_score(classifier,x_train,y_train,cv = cv,scoring = 'roc_auc').mean()))\n",
        "    print(\"ROC_AUC Score : \",'{0:.2%}'.format(roc_auc_score(y_test,prediction)))\n",
        "    plot_roc_curve(classifier, x_test,y_test)\n",
        "    plt.title('ROC_AUC_Plot')\n",
        "    plt.show()\n",
        "\n",
        "def model_evaluation(classifier):\n",
        "\n",
        "    # Confusion Matrix\n",
        "    cm = confusion_matrix(y_test,classifier.predict(x_test))\n",
        "    names = ['True Neg','False Pos','False Neg','True Pos']\n",
        "    counts = [value for value in cm.flatten()]\n",
        "    percentages = ['{0:.2%}'.format(value) for value in cm.flatten()/np.sum(cm)]\n",
        "    labels = [f'{v1}\\n{v2}\\n{v3}' for v1, v2, v3 in zip(names,counts,percentages)]\n",
        "    labels = np.asarray(labels).reshape(2,2)\n",
        "    sns.heatmap(cm,annot = labels,cmap = colors,fmt ='')\n",
        "\n",
        "    # Classification Report\n",
        "    print(classification_report(y_test,classifier.predict(x_test)))"
      ],
      "metadata": {
        "execution": {
          "iopub.status.busy": "2022-10-25T12:55:16.700023Z",
          "iopub.execute_input": "2022-10-25T12:55:16.700405Z",
          "iopub.status.idle": "2022-10-25T12:55:16.712168Z",
          "shell.execute_reply.started": "2022-10-25T12:55:16.700372Z",
          "shell.execute_reply": "2022-10-25T12:55:16.710804Z"
        },
        "trusted": true,
        "id": "z3zMKv7WioeF"
      },
      "execution_count": null,
      "outputs": []
    },
    {
      "cell_type": "markdown",
      "source": [
        "#### 1] Logistic Regression :"
      ],
      "metadata": {
        "id": "mWWJ3D-9ioeF"
      }
    },
    {
      "cell_type": "code",
      "source": [
        "from sklearn.linear_model import LogisticRegression"
      ],
      "metadata": {
        "execution": {
          "iopub.status.busy": "2022-10-25T12:55:16.713744Z",
          "iopub.execute_input": "2022-10-25T12:55:16.714116Z",
          "iopub.status.idle": "2022-10-25T12:55:16.728525Z",
          "shell.execute_reply.started": "2022-10-25T12:55:16.714083Z",
          "shell.execute_reply": "2022-10-25T12:55:16.727153Z"
        },
        "trusted": true,
        "id": "84Pdua1oioeG"
      },
      "execution_count": null,
      "outputs": []
    },
    {
      "cell_type": "code",
      "source": [
        "classifier_lr = LogisticRegression(random_state = 0,C=10,penalty= 'l2')"
      ],
      "metadata": {
        "execution": {
          "iopub.status.busy": "2022-10-25T12:55:16.730146Z",
          "iopub.execute_input": "2022-10-25T12:55:16.730561Z",
          "iopub.status.idle": "2022-10-25T12:55:16.739138Z",
          "shell.execute_reply.started": "2022-10-25T12:55:16.730523Z",
          "shell.execute_reply": "2022-10-25T12:55:16.738002Z"
        },
        "trusted": true,
        "id": "_nP7_oxTioeG"
      },
      "execution_count": null,
      "outputs": []
    },
    {
      "cell_type": "code",
      "source": [
        "model(classifier_lr)"
      ],
      "metadata": {
        "execution": {
          "iopub.status.busy": "2022-10-25T12:55:16.740766Z",
          "iopub.execute_input": "2022-10-25T12:55:16.741396Z",
          "iopub.status.idle": "2022-10-25T12:55:17.311679Z",
          "shell.execute_reply.started": "2022-10-25T12:55:16.741346Z",
          "shell.execute_reply": "2022-10-25T12:55:17.310308Z"
        },
        "trusted": true,
        "id": "T5YaIeDvioeG"
      },
      "execution_count": null,
      "outputs": []
    },
    {
      "cell_type": "code",
      "source": [
        "model_evaluation(classifier_lr)"
      ],
      "metadata": {
        "execution": {
          "iopub.status.busy": "2022-10-25T12:55:17.313409Z",
          "iopub.execute_input": "2022-10-25T12:55:17.314143Z",
          "iopub.status.idle": "2022-10-25T12:55:17.579086Z",
          "shell.execute_reply.started": "2022-10-25T12:55:17.314096Z",
          "shell.execute_reply": "2022-10-25T12:55:17.577812Z"
        },
        "trusted": true,
        "id": "dsWEtrPmioeG"
      },
      "execution_count": null,
      "outputs": []
    },
    {
      "cell_type": "markdown",
      "source": [
        "#### 2] Support Vector Classifier :"
      ],
      "metadata": {
        "id": "e7igIH7fioeG"
      }
    },
    {
      "cell_type": "code",
      "source": [
        "from sklearn.svm import SVC"
      ],
      "metadata": {
        "execution": {
          "iopub.status.busy": "2022-10-25T12:55:17.580493Z",
          "iopub.execute_input": "2022-10-25T12:55:17.580856Z",
          "iopub.status.idle": "2022-10-25T12:55:17.586716Z",
          "shell.execute_reply.started": "2022-10-25T12:55:17.580823Z",
          "shell.execute_reply": "2022-10-25T12:55:17.585437Z"
        },
        "trusted": true,
        "id": "bqwopHLAioeG"
      },
      "execution_count": null,
      "outputs": []
    },
    {
      "cell_type": "code",
      "source": [
        "classifier_svc = SVC(kernel = 'linear',C = 0.1)"
      ],
      "metadata": {
        "execution": {
          "iopub.status.busy": "2022-10-25T12:55:17.594968Z",
          "iopub.execute_input": "2022-10-25T12:55:17.595401Z",
          "iopub.status.idle": "2022-10-25T12:55:17.601449Z",
          "shell.execute_reply.started": "2022-10-25T12:55:17.595363Z",
          "shell.execute_reply": "2022-10-25T12:55:17.600178Z"
        },
        "trusted": true,
        "id": "7h_XpJp9ioeG"
      },
      "execution_count": null,
      "outputs": []
    },
    {
      "cell_type": "code",
      "source": [
        "model(classifier_svc)"
      ],
      "metadata": {
        "execution": {
          "iopub.status.busy": "2022-10-25T12:55:17.603714Z",
          "iopub.execute_input": "2022-10-25T12:55:17.604166Z",
          "iopub.status.idle": "2022-10-25T12:55:18.221425Z",
          "shell.execute_reply.started": "2022-10-25T12:55:17.60413Z",
          "shell.execute_reply": "2022-10-25T12:55:18.219994Z"
        },
        "trusted": true,
        "id": "axLfESYhioeG"
      },
      "execution_count": null,
      "outputs": []
    },
    {
      "cell_type": "code",
      "source": [
        "model_evaluation(classifier_svc)"
      ],
      "metadata": {
        "execution": {
          "iopub.status.busy": "2022-10-25T12:55:18.222812Z",
          "iopub.execute_input": "2022-10-25T12:55:18.223187Z",
          "iopub.status.idle": "2022-10-25T12:55:18.491403Z",
          "shell.execute_reply.started": "2022-10-25T12:55:18.223154Z",
          "shell.execute_reply": "2022-10-25T12:55:18.489695Z"
        },
        "trusted": true,
        "id": "6TAY3_D4ioeG"
      },
      "execution_count": null,
      "outputs": []
    },
    {
      "cell_type": "markdown",
      "source": [
        "#### 3] Decision Tree Classifier :"
      ],
      "metadata": {
        "id": "U3pI6iVqioeG"
      }
    },
    {
      "cell_type": "code",
      "source": [
        "from sklearn.tree import DecisionTreeClassifier"
      ],
      "metadata": {
        "execution": {
          "iopub.status.busy": "2022-10-25T12:55:18.493372Z",
          "iopub.execute_input": "2022-10-25T12:55:18.493789Z",
          "iopub.status.idle": "2022-10-25T12:55:18.52952Z",
          "shell.execute_reply.started": "2022-10-25T12:55:18.49375Z",
          "shell.execute_reply": "2022-10-25T12:55:18.528493Z"
        },
        "trusted": true,
        "id": "q8e1G1iwioeG"
      },
      "execution_count": null,
      "outputs": []
    },
    {
      "cell_type": "code",
      "source": [
        "classifier_dt = DecisionTreeClassifier(random_state = 1000,max_depth = 4,min_samples_leaf = 1)"
      ],
      "metadata": {
        "execution": {
          "iopub.status.busy": "2022-10-25T12:55:18.530706Z",
          "iopub.execute_input": "2022-10-25T12:55:18.531423Z",
          "iopub.status.idle": "2022-10-25T12:55:18.53672Z",
          "shell.execute_reply.started": "2022-10-25T12:55:18.53138Z",
          "shell.execute_reply": "2022-10-25T12:55:18.535441Z"
        },
        "trusted": true,
        "id": "T1elGf5OioeH"
      },
      "execution_count": null,
      "outputs": []
    },
    {
      "cell_type": "code",
      "source": [
        "model(classifier_dt)"
      ],
      "metadata": {
        "execution": {
          "iopub.status.busy": "2022-10-25T12:55:18.538388Z",
          "iopub.execute_input": "2022-10-25T12:55:18.539495Z",
          "iopub.status.idle": "2022-10-25T12:55:18.906163Z",
          "shell.execute_reply.started": "2022-10-25T12:55:18.539452Z",
          "shell.execute_reply": "2022-10-25T12:55:18.90464Z"
        },
        "trusted": true,
        "id": "ytfyWbP7ioeH"
      },
      "execution_count": null,
      "outputs": []
    },
    {
      "cell_type": "code",
      "source": [
        "model_evaluation(classifier_dt)"
      ],
      "metadata": {
        "execution": {
          "iopub.status.busy": "2022-10-25T12:55:18.909969Z",
          "iopub.execute_input": "2022-10-25T12:55:18.910787Z",
          "iopub.status.idle": "2022-10-25T12:55:19.165327Z",
          "shell.execute_reply.started": "2022-10-25T12:55:18.910746Z",
          "shell.execute_reply": "2022-10-25T12:55:19.164258Z"
        },
        "trusted": true,
        "id": "JIjILwRuioeH"
      },
      "execution_count": null,
      "outputs": []
    },
    {
      "cell_type": "markdown",
      "source": [
        "#### 4] Random Forest Classifier :"
      ],
      "metadata": {
        "id": "XPWiBVAAioeH"
      }
    },
    {
      "cell_type": "code",
      "source": [
        "from sklearn.ensemble import RandomForestClassifier"
      ],
      "metadata": {
        "execution": {
          "iopub.status.busy": "2022-10-25T12:55:19.166673Z",
          "iopub.execute_input": "2022-10-25T12:55:19.167522Z",
          "iopub.status.idle": "2022-10-25T12:55:19.240114Z",
          "shell.execute_reply.started": "2022-10-25T12:55:19.167476Z",
          "shell.execute_reply": "2022-10-25T12:55:19.238804Z"
        },
        "trusted": true,
        "id": "B1EngvxIioeH"
      },
      "execution_count": null,
      "outputs": []
    },
    {
      "cell_type": "code",
      "source": [
        "classifier_rf = RandomForestClassifier(max_depth = 4,random_state = 0)"
      ],
      "metadata": {
        "execution": {
          "iopub.status.busy": "2022-10-25T12:55:19.241441Z",
          "iopub.execute_input": "2022-10-25T12:55:19.241786Z",
          "iopub.status.idle": "2022-10-25T12:55:19.248641Z",
          "shell.execute_reply.started": "2022-10-25T12:55:19.241755Z",
          "shell.execute_reply": "2022-10-25T12:55:19.246793Z"
        },
        "trusted": true,
        "id": "ADH-Nh9vioeH"
      },
      "execution_count": null,
      "outputs": []
    },
    {
      "cell_type": "code",
      "source": [
        "model(classifier_rf)"
      ],
      "metadata": {
        "execution": {
          "iopub.status.busy": "2022-10-25T12:55:19.250012Z",
          "iopub.execute_input": "2022-10-25T12:55:19.250365Z",
          "iopub.status.idle": "2022-10-25T12:55:25.225949Z",
          "shell.execute_reply.started": "2022-10-25T12:55:19.250334Z",
          "shell.execute_reply": "2022-10-25T12:55:25.224647Z"
        },
        "trusted": true,
        "id": "vxDLHupCioeH"
      },
      "execution_count": null,
      "outputs": []
    },
    {
      "cell_type": "code",
      "source": [
        "model_evaluation(classifier_rf)"
      ],
      "metadata": {
        "execution": {
          "iopub.status.busy": "2022-10-25T12:55:25.227627Z",
          "iopub.execute_input": "2022-10-25T12:55:25.228385Z",
          "iopub.status.idle": "2022-10-25T12:55:25.51769Z",
          "shell.execute_reply.started": "2022-10-25T12:55:25.228337Z",
          "shell.execute_reply": "2022-10-25T12:55:25.51609Z"
        },
        "trusted": true,
        "id": "p3isplQeioeH"
      },
      "execution_count": null,
      "outputs": []
    },
    {
      "cell_type": "markdown",
      "source": [
        "#### 5] K-nearest Neighbors Classifier :"
      ],
      "metadata": {
        "id": "S01wKU3uioeH"
      }
    },
    {
      "cell_type": "code",
      "source": [
        "from sklearn.neighbors import KNeighborsClassifier"
      ],
      "metadata": {
        "execution": {
          "iopub.status.busy": "2022-10-25T12:55:25.519964Z",
          "iopub.execute_input": "2022-10-25T12:55:25.520389Z",
          "iopub.status.idle": "2022-10-25T12:55:25.527569Z",
          "shell.execute_reply.started": "2022-10-25T12:55:25.520354Z",
          "shell.execute_reply": "2022-10-25T12:55:25.525884Z"
        },
        "trusted": true,
        "id": "MLu3oZO8ioeJ"
      },
      "execution_count": null,
      "outputs": []
    },
    {
      "cell_type": "code",
      "source": [
        "classifier_knn = KNeighborsClassifier(leaf_size = 1, n_neighbors = 3,p = 1)"
      ],
      "metadata": {
        "execution": {
          "iopub.status.busy": "2022-10-25T12:55:25.529014Z",
          "iopub.execute_input": "2022-10-25T12:55:25.529418Z",
          "iopub.status.idle": "2022-10-25T12:55:25.540401Z",
          "shell.execute_reply.started": "2022-10-25T12:55:25.529386Z",
          "shell.execute_reply": "2022-10-25T12:55:25.539152Z"
        },
        "trusted": true,
        "id": "aat86UvQioeJ"
      },
      "execution_count": null,
      "outputs": []
    },
    {
      "cell_type": "code",
      "source": [
        "model(classifier_knn)"
      ],
      "metadata": {
        "execution": {
          "iopub.status.busy": "2022-10-25T12:55:25.542348Z",
          "iopub.execute_input": "2022-10-25T12:55:25.543452Z",
          "iopub.status.idle": "2022-10-25T12:55:26.038532Z",
          "shell.execute_reply.started": "2022-10-25T12:55:25.5434Z",
          "shell.execute_reply": "2022-10-25T12:55:26.037169Z"
        },
        "trusted": true,
        "id": "A-IqFl2JioeK"
      },
      "execution_count": null,
      "outputs": []
    },
    {
      "cell_type": "code",
      "source": [
        "model_evaluation(classifier_knn)"
      ],
      "metadata": {
        "execution": {
          "iopub.status.busy": "2022-10-25T12:55:26.040205Z",
          "iopub.execute_input": "2022-10-25T12:55:26.041435Z",
          "iopub.status.idle": "2022-10-25T12:55:26.328571Z",
          "shell.execute_reply.started": "2022-10-25T12:55:26.041377Z",
          "shell.execute_reply": "2022-10-25T12:55:26.327129Z"
        },
        "trusted": true,
        "id": "cYI_kthHioeK"
      },
      "execution_count": null,
      "outputs": []
    },
    {
      "cell_type": "markdown",
      "source": [
        "### Alogrithm Results Table :\n",
        "\n",
        "\n",
        "|Sr. No.|ML Algorithm|Accuracy|Cross Validation Score|ROC AUC Score|\n",
        "|-|-|-|-|-|\n",
        "|1|Logistic Regression|87.50%|91.12%|87.43%|\n",
        "|2|Support Vector Classifier|87.50%|90.53%|87.43%|\n",
        "|3|Decision Tree Classifier|84.78%|89.09%|84.62%|\n",
        "|4|Random Forest Classifier|84.24%|92.91%|84.06%|\n",
        "|5|K-Nearest Neighbors Classfier|81.52%|89.34%|81.36%|"
      ],
      "metadata": {
        "id": "ZDWz4FzxioeK"
      }
    },
    {
      "cell_type": "markdown",
      "source": [
        "# <center><div style=\"font-family: Trebuchet MS; background-color: #F93822; color: #FDD20E; padding: 12px; line-height: 1;\">Conclusion</div></center>\n",
        "\n",
        "- This dataset is great for understanding how to handle binary classification problems with the combination of numerical and categorical features.\n",
        "\n",
        "\n",
        "- Subject matter experts, in this case doctors or nurses, can be assisted by providing insights that enables them to take the next line of action.\n",
        "\n",
        "\n",
        "- For feature engineering, it might feel confusing about the order of the processes. In this case, data scaling was executed before the feature selection test. We might feel like we are tampering the data before passing it to the tests but the results are same irrespective of the order of the process. (Try it out!)\n",
        "\n",
        "\n",
        "- For this problem, outlier detection was not done as I was not able to read any papers about heart diseases. It becomes a pivotal part to understand the subject before removing outliers even though the outlier detection tests come out positive.\n",
        "\n",
        "\n",
        "- Visualization is key. It makes the data talkative. Displaying the present information and results of any tests or output through visualization becomes crucial as it makes the understanding easy.\n",
        "\n",
        "\n",
        "- For modeling, hyperparameter tuning is not done. It can push the performances of the algorithms. Overall the algorithm performances are good."
      ],
      "metadata": {
        "id": "eKY0zgR1ioeK"
      }
    },
    {
      "cell_type": "markdown",
      "source": [
        "# <center><div style=\"font-family: Trebuchet MS; background-color: #F93822; color: #FDD20E; padding: 12px; line-height: 1;\">Please upvote if you like the work!</div></center><center><div style=\"font-family: Trebuchet MS; background-color: #F93822; color: #FDD20E; padding: 12px; line-height: 1;\">Any sort of feedback is appreciated!</div></center><center><div style=\"font-family: Trebuchet MS; background-color: #F93822; color: #FDD20E; padding: 12px; line-height: 1;\">Thank You!</div></center>"
      ],
      "metadata": {
        "id": "Gewxy3d4ioeK"
      }
    }
  ]
}